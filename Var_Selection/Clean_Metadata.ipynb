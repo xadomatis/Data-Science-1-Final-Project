{
 "cells": [
  {
   "cell_type": "code",
   "execution_count": null,
   "metadata": {},
   "outputs": [],
   "source": []
  },
  {
   "cell_type": "code",
   "execution_count": 1,
   "metadata": {},
   "outputs": [],
   "source": [
    "import pandas as pd"
   ]
  },
  {
   "cell_type": "code",
   "execution_count": 2,
   "metadata": {},
   "outputs": [],
   "source": [
    "md = pd.read_csv(\"/Users/xavier/Desktop/DSPP/DS/Data-Science-1-Final-Project/FDIC_Pull/metadata.csv\")"
   ]
  },
  {
   "cell_type": "code",
   "execution_count": 3,
   "metadata": {},
   "outputs": [
    {
     "data": {
      "text/html": [
       "<div>\n",
       "<style scoped>\n",
       "    .dataframe tbody tr th:only-of-type {\n",
       "        vertical-align: middle;\n",
       "    }\n",
       "\n",
       "    .dataframe tbody tr th {\n",
       "        vertical-align: top;\n",
       "    }\n",
       "\n",
       "    .dataframe thead th {\n",
       "        text-align: right;\n",
       "    }\n",
       "</style>\n",
       "<table border=\"1\" class=\"dataframe\">\n",
       "  <thead>\n",
       "    <tr style=\"text-align: right;\">\n",
       "      <th></th>\n",
       "      <th>VariableName</th>\n",
       "      <th>VarLabel</th>\n",
       "      <th>Notes</th>\n",
       "      <th>Code</th>\n",
       "      <th>Value</th>\n",
       "      <th>in2009</th>\n",
       "      <th>in2011</th>\n",
       "      <th>in2013</th>\n",
       "      <th>in2015</th>\n",
       "      <th>in2017</th>\n",
       "      <th>in2019</th>\n",
       "      <th>StartYear</th>\n",
       "      <th>EndYear</th>\n",
       "    </tr>\n",
       "  </thead>\n",
       "  <tbody>\n",
       "    <tr>\n",
       "      <th>0</th>\n",
       "      <td>gereg</td>\n",
       "      <td>Geographic region</td>\n",
       "      <td>NaN</td>\n",
       "      <td>1.0</td>\n",
       "      <td>Northeast</td>\n",
       "      <td>y</td>\n",
       "      <td>y</td>\n",
       "      <td>y</td>\n",
       "      <td>y</td>\n",
       "      <td>y</td>\n",
       "      <td>y</td>\n",
       "      <td>2009</td>\n",
       "      <td>NaN</td>\n",
       "    </tr>\n",
       "    <tr>\n",
       "      <th>1</th>\n",
       "      <td>gereg</td>\n",
       "      <td>Geographic region</td>\n",
       "      <td>NaN</td>\n",
       "      <td>2.0</td>\n",
       "      <td>Midwest</td>\n",
       "      <td>y</td>\n",
       "      <td>y</td>\n",
       "      <td>y</td>\n",
       "      <td>y</td>\n",
       "      <td>y</td>\n",
       "      <td>y</td>\n",
       "      <td>2009</td>\n",
       "      <td>NaN</td>\n",
       "    </tr>\n",
       "    <tr>\n",
       "      <th>2</th>\n",
       "      <td>gereg</td>\n",
       "      <td>Geographic region</td>\n",
       "      <td>NaN</td>\n",
       "      <td>3.0</td>\n",
       "      <td>South</td>\n",
       "      <td>y</td>\n",
       "      <td>y</td>\n",
       "      <td>y</td>\n",
       "      <td>y</td>\n",
       "      <td>y</td>\n",
       "      <td>y</td>\n",
       "      <td>2009</td>\n",
       "      <td>NaN</td>\n",
       "    </tr>\n",
       "    <tr>\n",
       "      <th>3</th>\n",
       "      <td>gereg</td>\n",
       "      <td>Geographic region</td>\n",
       "      <td>NaN</td>\n",
       "      <td>4.0</td>\n",
       "      <td>West</td>\n",
       "      <td>y</td>\n",
       "      <td>y</td>\n",
       "      <td>y</td>\n",
       "      <td>y</td>\n",
       "      <td>y</td>\n",
       "      <td>y</td>\n",
       "      <td>2009</td>\n",
       "      <td>NaN</td>\n",
       "    </tr>\n",
       "    <tr>\n",
       "      <th>4</th>\n",
       "      <td>gestfips</td>\n",
       "      <td>State</td>\n",
       "      <td>NaN</td>\n",
       "      <td>1.0</td>\n",
       "      <td>AL</td>\n",
       "      <td>y</td>\n",
       "      <td>y</td>\n",
       "      <td>y</td>\n",
       "      <td>y</td>\n",
       "      <td>y</td>\n",
       "      <td>y</td>\n",
       "      <td>2009</td>\n",
       "      <td>NaN</td>\n",
       "    </tr>\n",
       "  </tbody>\n",
       "</table>\n",
       "</div>"
      ],
      "text/plain": [
       "  VariableName           VarLabel Notes  Code      Value in2009 in2011 in2013  \\\n",
       "0        gereg  Geographic region   NaN   1.0  Northeast      y      y      y   \n",
       "1        gereg  Geographic region   NaN   2.0   Midwest       y      y      y   \n",
       "2        gereg  Geographic region   NaN   3.0      South      y      y      y   \n",
       "3        gereg  Geographic region   NaN   4.0       West      y      y      y   \n",
       "4     gestfips              State   NaN   1.0         AL      y      y      y   \n",
       "\n",
       "  in2015 in2017 in2019  StartYear  EndYear  \n",
       "0      y      y      y       2009      NaN  \n",
       "1      y      y      y       2009      NaN  \n",
       "2      y      y      y       2009      NaN  \n",
       "3      y      y      y       2009      NaN  \n",
       "4      y      y      y       2009      NaN  "
      ]
     },
     "execution_count": 3,
     "metadata": {},
     "output_type": "execute_result"
    }
   ],
   "source": [
    "md.head()"
   ]
  },
  {
   "cell_type": "code",
   "execution_count": 4,
   "metadata": {},
   "outputs": [
    {
     "data": {
      "text/plain": [
       "(2647, 13)"
      ]
     },
     "execution_count": 4,
     "metadata": {},
     "output_type": "execute_result"
    }
   ],
   "source": [
    "md.shape"
   ]
  },
  {
   "cell_type": "code",
   "execution_count": 5,
   "metadata": {},
   "outputs": [
    {
     "data": {
      "text/plain": [
       "(1088, 13)"
      ]
     },
     "execution_count": 5,
     "metadata": {},
     "output_type": "execute_result"
    }
   ],
   "source": [
    "#subset only to variables available in 2019\n",
    "md = md[md[\"in2019\"] == 'y']\n",
    "md.shape"
   ]
  },
  {
   "cell_type": "code",
   "execution_count": 6,
   "metadata": {},
   "outputs": [
    {
     "data": {
      "text/plain": [
       "(433, 13)"
      ]
     },
     "execution_count": 6,
     "metadata": {},
     "output_type": "execute_result"
    }
   ],
   "source": [
    "#eliminate variables with too many options\n",
    "md = md[md[\"VariableName\"] != \"gestfips\"]\n",
    "md = md[md[\"VariableName\"] != \"msa13\"]\n",
    "md = md[md[\"VariableName\"] != \"msa5yr13\"]\n",
    "md.shape"
   ]
  },
  {
   "cell_type": "markdown",
   "metadata": {},
   "source": [
    "Here, we remove geographic data from the metadata simply because it occupies too much space in the document and is preventing us from identifying useful variables. We will instead add back a placeholder"
   ]
  },
  {
   "cell_type": "code",
   "execution_count": 7,
   "metadata": {},
   "outputs": [],
   "source": [
    "#drop columns\n",
    "md = md.drop(columns=['in2009','in2011','in2013','in2015','in2017','in2019','StartYear','EndYear'])"
   ]
  },
  {
   "cell_type": "code",
   "execution_count": 8,
   "metadata": {},
   "outputs": [
    {
     "data": {
      "text/plain": [
       "(433, 5)"
      ]
     },
     "execution_count": 8,
     "metadata": {},
     "output_type": "execute_result"
    }
   ],
   "source": [
    "md.shape"
   ]
  },
  {
   "cell_type": "code",
   "execution_count": 9,
   "metadata": {},
   "outputs": [],
   "source": [
    "#Add in placeholders for data removed\n",
    "md.loc[len(md.index)] = [\"gestfips\", 'State', '','','']\n",
    "md.loc[len(md.index)] = [\"msa13\", 'MSA', '','','']\n",
    "md.loc[len(md.index)] = [\"msa5yr13\", 'MSA 5yr', '','','']"
   ]
  },
  {
   "cell_type": "code",
   "execution_count": 10,
   "metadata": {},
   "outputs": [
    {
     "data": {
      "text/html": [
       "<div>\n",
       "<style scoped>\n",
       "    .dataframe tbody tr th:only-of-type {\n",
       "        vertical-align: middle;\n",
       "    }\n",
       "\n",
       "    .dataframe tbody tr th {\n",
       "        vertical-align: top;\n",
       "    }\n",
       "\n",
       "    .dataframe thead th {\n",
       "        text-align: right;\n",
       "    }\n",
       "</style>\n",
       "<table border=\"1\" class=\"dataframe\">\n",
       "  <thead>\n",
       "    <tr style=\"text-align: right;\">\n",
       "      <th></th>\n",
       "      <th>VariableName</th>\n",
       "      <th>VarLabel</th>\n",
       "      <th>Notes</th>\n",
       "      <th>Code</th>\n",
       "      <th>Value</th>\n",
       "    </tr>\n",
       "  </thead>\n",
       "  <tbody>\n",
       "    <tr>\n",
       "      <th>0</th>\n",
       "      <td>gereg</td>\n",
       "      <td>Geographic region</td>\n",
       "      <td>NaN</td>\n",
       "      <td>1</td>\n",
       "      <td>Northeast</td>\n",
       "    </tr>\n",
       "    <tr>\n",
       "      <th>1</th>\n",
       "      <td>gereg</td>\n",
       "      <td>Geographic region</td>\n",
       "      <td>NaN</td>\n",
       "      <td>2</td>\n",
       "      <td>Midwest</td>\n",
       "    </tr>\n",
       "    <tr>\n",
       "      <th>2</th>\n",
       "      <td>gereg</td>\n",
       "      <td>Geographic region</td>\n",
       "      <td>NaN</td>\n",
       "      <td>3</td>\n",
       "      <td>South</td>\n",
       "    </tr>\n",
       "    <tr>\n",
       "      <th>3</th>\n",
       "      <td>gereg</td>\n",
       "      <td>Geographic region</td>\n",
       "      <td>NaN</td>\n",
       "      <td>4</td>\n",
       "      <td>West</td>\n",
       "    </tr>\n",
       "    <tr>\n",
       "      <th>950</th>\n",
       "      <td>msa13chg</td>\n",
       "      <td>MSA boundary change between 2013 and 2015 surveys</td>\n",
       "      <td>NaN</td>\n",
       "      <td>1</td>\n",
       "      <td>Yes</td>\n",
       "    </tr>\n",
       "    <tr>\n",
       "      <th>...</th>\n",
       "      <td>...</td>\n",
       "      <td>...</td>\n",
       "      <td>...</td>\n",
       "      <td>...</td>\n",
       "      <td>...</td>\n",
       "    </tr>\n",
       "    <tr>\n",
       "      <th>2642</th>\n",
       "      <td>hbnkfeeunbnkv2</td>\n",
       "      <td>Unbanked households: Clarity of bank communica...</td>\n",
       "      <td>Excludes households with missing information o...</td>\n",
       "      <td>98</td>\n",
       "      <td>Unknown: Do not know</td>\n",
       "    </tr>\n",
       "    <tr>\n",
       "      <th>2643</th>\n",
       "      <td>hbnkfeeunbnkv2</td>\n",
       "      <td>Unbanked households: Clarity of bank communica...</td>\n",
       "      <td>Unbanked households</td>\n",
       "      <td>-1</td>\n",
       "      <td>NIU</td>\n",
       "    </tr>\n",
       "    <tr>\n",
       "      <th>433</th>\n",
       "      <td>gestfips</td>\n",
       "      <td>State</td>\n",
       "      <td></td>\n",
       "      <td></td>\n",
       "      <td></td>\n",
       "    </tr>\n",
       "    <tr>\n",
       "      <th>434</th>\n",
       "      <td>msa13</td>\n",
       "      <td>MSA</td>\n",
       "      <td></td>\n",
       "      <td></td>\n",
       "      <td></td>\n",
       "    </tr>\n",
       "    <tr>\n",
       "      <th>435</th>\n",
       "      <td>msa5yr13</td>\n",
       "      <td>MSA 5yr</td>\n",
       "      <td></td>\n",
       "      <td></td>\n",
       "      <td></td>\n",
       "    </tr>\n",
       "  </tbody>\n",
       "</table>\n",
       "<p>436 rows × 5 columns</p>\n",
       "</div>"
      ],
      "text/plain": [
       "        VariableName                                           VarLabel  \\\n",
       "0              gereg                                  Geographic region   \n",
       "1              gereg                                  Geographic region   \n",
       "2              gereg                                  Geographic region   \n",
       "3              gereg                                  Geographic region   \n",
       "950         msa13chg  MSA boundary change between 2013 and 2015 surveys   \n",
       "...              ...                                                ...   \n",
       "2642  hbnkfeeunbnkv2  Unbanked households: Clarity of bank communica...   \n",
       "2643  hbnkfeeunbnkv2  Unbanked households: Clarity of bank communica...   \n",
       "433         gestfips                                              State   \n",
       "434            msa13                                                MSA   \n",
       "435         msa5yr13                                            MSA 5yr   \n",
       "\n",
       "                                                  Notes Code  \\\n",
       "0                                                   NaN    1   \n",
       "1                                                   NaN    2   \n",
       "2                                                   NaN    3   \n",
       "3                                                   NaN    4   \n",
       "950                                                 NaN    1   \n",
       "...                                                 ...  ...   \n",
       "2642  Excludes households with missing information o...   98   \n",
       "2643                                Unbanked households   -1   \n",
       "433                                                            \n",
       "434                                                            \n",
       "435                                                            \n",
       "\n",
       "                     Value  \n",
       "0                Northeast  \n",
       "1                 Midwest   \n",
       "2                    South  \n",
       "3                     West  \n",
       "950                    Yes  \n",
       "...                    ...  \n",
       "2642  Unknown: Do not know  \n",
       "2643                   NIU  \n",
       "433                         \n",
       "434                         \n",
       "435                         \n",
       "\n",
       "[436 rows x 5 columns]"
      ]
     },
     "execution_count": 10,
     "metadata": {},
     "output_type": "execute_result"
    }
   ],
   "source": [
    "md.head(436)"
   ]
  },
  {
   "cell_type": "code",
   "execution_count": 11,
   "metadata": {},
   "outputs": [],
   "source": [
    "md_clean = md.reset_index()"
   ]
  },
  {
   "cell_type": "code",
   "execution_count": 12,
   "metadata": {},
   "outputs": [],
   "source": [
    "md_clean.to_csv(\"/Users/xavier/Desktop/DSPP/DS/Data-Science-1-Final-Project/Var_Selection/md_clean.csv\")"
   ]
  },
  {
   "cell_type": "markdown",
   "metadata": {},
   "source": [
    "Export the cleaned metadata for manual review to select variables"
   ]
  }
 ],
 "metadata": {
  "kernelspec": {
   "display_name": "Python 3",
   "language": "python",
   "name": "python3"
  },
  "language_info": {
   "codemirror_mode": {
    "name": "ipython",
    "version": 3
   },
   "file_extension": ".py",
   "mimetype": "text/x-python",
   "name": "python",
   "nbconvert_exporter": "python",
   "pygments_lexer": "ipython3",
   "version": "3.8.5"
  }
 },
 "nbformat": 4,
 "nbformat_minor": 4
}
