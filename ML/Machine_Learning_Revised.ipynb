{
 "cells": [
  {
   "cell_type": "markdown",
   "metadata": {},
   "source": [
    "# Use hh2 dataset to train a maching learning model"
   ]
  },
  {
   "cell_type": "code",
   "execution_count": 1,
   "metadata": {},
   "outputs": [],
   "source": [
    "# Data Management/Investigation\n",
    "import pandas as pd\n",
    "import numpy as np\n",
    "import missingno as miss\n",
    "from plotnine import *\n",
    "import matplotlib.pyplot as plt\n",
    "import warnings\n",
    "warnings.filterwarnings(\"ignore\")\n",
    "\n",
    "# For pre-processing data \n",
    "from sklearn import preprocessing as pp \n",
    "from sklearn.compose import ColumnTransformer \n",
    "\n",
    "# For splits and CV\n",
    "from sklearn.model_selection import train_test_split\n",
    "from sklearn.model_selection import KFold # Cross validation \n",
    "from sklearn.model_selection import cross_validate # Cross validation \n",
    "from sklearn.model_selection import GridSearchCV # Cross validation + param. tuning.\n",
    "\n",
    "# Machine learning methods \n",
    "from sklearn.linear_model import LinearRegression as LM\n",
    "from sklearn.neighbors import KNeighborsRegressor as KNN\n",
    "from sklearn.tree import DecisionTreeRegressor as DTree\n",
    "from sklearn import tree # For plotting the decision tree rules\n",
    "from sklearn.ensemble import BaggingRegressor as Bag\n",
    "from sklearn.ensemble import RandomForestRegressor as RF\n",
    "\n",
    "# For evaluating our model's performance\n",
    "import sklearn.metrics as m\n",
    "\n",
    "# Pipeline to combine modeling elements\n",
    "from sklearn.pipeline import Pipeline\n",
    "\n",
    "# Data Management/Investigation\n",
    "import pandas as pd\n",
    "from pandas.api.types import CategoricalDtype # Ordering categories\n",
    "import numpy as np\n",
    "import missingno as miss\n",
    "\n",
    "# Plotting libraries\n",
    "from plotnine import *\n",
    "import matplotlib.pyplot as plt\n",
    "\n",
    "# For pre-processing data \n",
    "from sklearn import preprocessing as pp \n",
    "from sklearn.compose import ColumnTransformer \n",
    "\n",
    "# For splits and CV\n",
    "from sklearn.model_selection import train_test_split\n",
    "from sklearn.model_selection import KFold # Cross validation \n",
    "from sklearn.model_selection import cross_validate # Cross validation \n",
    "from sklearn.model_selection import GridSearchCV # Cross validation + param. tuning.\n",
    "\n",
    "# Machine learning methods \n",
    "from sklearn.naive_bayes import GaussianNB as NB\n",
    "from sklearn.neighbors import KNeighborsClassifier as KNN\n",
    "from sklearn.tree import DecisionTreeClassifier as DT\n",
    "from sklearn.tree import DecisionTreeRegressor as DT_reg\n",
    "from sklearn.ensemble import RandomForestClassifier as RF\n",
    "from sklearn import tree # For plotting the decision tree rules\n",
    "\n",
    "# For evaluating our model's performance\n",
    "import sklearn.metrics as m\n",
    "\n",
    "# Pipeline to combine modeling elements\n",
    "from sklearn.pipeline import Pipeline\n",
    "\n",
    "# For model interpretation\n",
    "from sklearn.inspection import (\n",
    "    permutation_importance,\n",
    "    partial_dependence, \n",
    "    PartialDependenceDisplay, \n",
    "    plot_partial_dependence\n",
    ")\n",
    "\n",
    "# Misc\n",
    "import warnings\n",
    "warnings.filterwarnings(\"ignore\")"
   ]
  },
  {
   "cell_type": "markdown",
   "metadata": {},
   "source": [
    "Import Dataset and remove variables where outcome is a nonstarter"
   ]
  },
  {
   "cell_type": "code",
   "execution_count": 2,
   "metadata": {},
   "outputs": [],
   "source": [
    "hh = pd.read_csv(\"/Users/xavier/Desktop/DSPP/DS/Data-Science-1-Final-Project/Data_Wrangling/hh3.csv\")"
   ]
  },
  {
   "cell_type": "code",
   "execution_count": 3,
   "metadata": {},
   "outputs": [
    {
     "data": {
      "text/plain": [
       "(70203, 19)"
      ]
     },
     "execution_count": 3,
     "metadata": {},
     "output_type": "execute_result"
    }
   ],
   "source": [
    "hh.shape"
   ]
  },
  {
   "cell_type": "code",
   "execution_count": 4,
   "metadata": {},
   "outputs": [],
   "source": [
    "hh = hh[hh.unbanked >= 0]"
   ]
  },
  {
   "cell_type": "code",
   "execution_count": 5,
   "metadata": {},
   "outputs": [],
   "source": [
    "hh = hh.dropna()"
   ]
  },
  {
   "cell_type": "code",
   "execution_count": 6,
   "metadata": {},
   "outputs": [
    {
     "data": {
      "text/plain": [
       "(32261, 19)"
      ]
     },
     "execution_count": 6,
     "metadata": {},
     "output_type": "execute_result"
    }
   ],
   "source": [
    "hh.shape"
   ]
  },
  {
   "cell_type": "markdown",
   "metadata": {},
   "source": [
    "Split the data by X and Y and prepare training sample"
   ]
  },
  {
   "cell_type": "code",
   "execution_count": 7,
   "metadata": {},
   "outputs": [],
   "source": [
    "y = hh[\"unbanked\"]\n",
    "X = hh[[\"ST_bnk_density\",\"ST_UR_19\",\"income\",\"age\",\"education\",\"bank_prev\",\"poverty\",\"under_25\",\"unemployed\",\"citizen\",\"native_born\",\"White_or_AAPI\",\"inc_vol\",\"internet\",\"children\",\"single_mother\"]]"
   ]
  },
  {
   "cell_type": "code",
   "execution_count": 8,
   "metadata": {},
   "outputs": [],
   "source": [
    "train_X, test_X, train_y, test_y = train_test_split(X,y,test_size=.1,random_state=1999)"
   ]
  },
  {
   "cell_type": "code",
   "execution_count": 9,
   "metadata": {},
   "outputs": [],
   "source": [
    "# Let's \n",
    "scaler = pp.MinMaxScaler()\n",
    "col_names = list(train_X)\n",
    "train_X = scaler.fit_transform(train_X)"
   ]
  },
  {
   "cell_type": "code",
   "execution_count": 10,
   "metadata": {},
   "outputs": [
    {
     "data": {
      "text/html": [
       "<div>\n",
       "<style scoped>\n",
       "    .dataframe tbody tr th:only-of-type {\n",
       "        vertical-align: middle;\n",
       "    }\n",
       "\n",
       "    .dataframe tbody tr th {\n",
       "        vertical-align: top;\n",
       "    }\n",
       "\n",
       "    .dataframe thead th {\n",
       "        text-align: right;\n",
       "    }\n",
       "</style>\n",
       "<table border=\"1\" class=\"dataframe\">\n",
       "  <thead>\n",
       "    <tr style=\"text-align: right;\">\n",
       "      <th></th>\n",
       "      <th>ST_bnk_density</th>\n",
       "      <th>ST_UR_19</th>\n",
       "      <th>income</th>\n",
       "      <th>age</th>\n",
       "      <th>education</th>\n",
       "      <th>bank_prev</th>\n",
       "      <th>poverty</th>\n",
       "      <th>under_25</th>\n",
       "      <th>unemployed</th>\n",
       "      <th>citizen</th>\n",
       "      <th>native_born</th>\n",
       "      <th>White_or_AAPI</th>\n",
       "      <th>inc_vol</th>\n",
       "      <th>internet</th>\n",
       "      <th>children</th>\n",
       "      <th>single_mother</th>\n",
       "    </tr>\n",
       "  </thead>\n",
       "  <tbody>\n",
       "    <tr>\n",
       "      <th>0</th>\n",
       "      <td>0.028454</td>\n",
       "      <td>0.03125</td>\n",
       "      <td>0.75</td>\n",
       "      <td>0.785714</td>\n",
       "      <td>1.000000</td>\n",
       "      <td>0.0</td>\n",
       "      <td>0.0</td>\n",
       "      <td>0.0</td>\n",
       "      <td>0.0</td>\n",
       "      <td>0.0</td>\n",
       "      <td>0.0</td>\n",
       "      <td>1.0</td>\n",
       "      <td>0.0</td>\n",
       "      <td>1.0</td>\n",
       "      <td>0.0</td>\n",
       "      <td>0.0</td>\n",
       "    </tr>\n",
       "    <tr>\n",
       "      <th>1</th>\n",
       "      <td>0.071433</td>\n",
       "      <td>0.68750</td>\n",
       "      <td>0.50</td>\n",
       "      <td>0.228571</td>\n",
       "      <td>1.000000</td>\n",
       "      <td>0.0</td>\n",
       "      <td>0.0</td>\n",
       "      <td>0.0</td>\n",
       "      <td>0.0</td>\n",
       "      <td>0.0</td>\n",
       "      <td>0.0</td>\n",
       "      <td>1.0</td>\n",
       "      <td>0.0</td>\n",
       "      <td>1.0</td>\n",
       "      <td>0.0</td>\n",
       "      <td>0.0</td>\n",
       "    </tr>\n",
       "    <tr>\n",
       "      <th>2</th>\n",
       "      <td>0.104333</td>\n",
       "      <td>0.37500</td>\n",
       "      <td>1.00</td>\n",
       "      <td>0.342857</td>\n",
       "      <td>1.000000</td>\n",
       "      <td>0.0</td>\n",
       "      <td>0.0</td>\n",
       "      <td>0.0</td>\n",
       "      <td>0.0</td>\n",
       "      <td>0.0</td>\n",
       "      <td>0.0</td>\n",
       "      <td>1.0</td>\n",
       "      <td>0.0</td>\n",
       "      <td>1.0</td>\n",
       "      <td>1.0</td>\n",
       "      <td>0.0</td>\n",
       "    </tr>\n",
       "    <tr>\n",
       "      <th>3</th>\n",
       "      <td>0.145946</td>\n",
       "      <td>0.34375</td>\n",
       "      <td>1.00</td>\n",
       "      <td>0.600000</td>\n",
       "      <td>0.333333</td>\n",
       "      <td>0.0</td>\n",
       "      <td>0.0</td>\n",
       "      <td>0.0</td>\n",
       "      <td>0.0</td>\n",
       "      <td>0.0</td>\n",
       "      <td>0.0</td>\n",
       "      <td>1.0</td>\n",
       "      <td>0.0</td>\n",
       "      <td>1.0</td>\n",
       "      <td>0.0</td>\n",
       "      <td>0.0</td>\n",
       "    </tr>\n",
       "    <tr>\n",
       "      <th>4</th>\n",
       "      <td>0.137676</td>\n",
       "      <td>0.12500</td>\n",
       "      <td>1.00</td>\n",
       "      <td>0.442857</td>\n",
       "      <td>1.000000</td>\n",
       "      <td>0.0</td>\n",
       "      <td>0.0</td>\n",
       "      <td>0.0</td>\n",
       "      <td>0.0</td>\n",
       "      <td>0.0</td>\n",
       "      <td>0.0</td>\n",
       "      <td>1.0</td>\n",
       "      <td>0.0</td>\n",
       "      <td>1.0</td>\n",
       "      <td>1.0</td>\n",
       "      <td>0.0</td>\n",
       "    </tr>\n",
       "    <tr>\n",
       "      <th>...</th>\n",
       "      <td>...</td>\n",
       "      <td>...</td>\n",
       "      <td>...</td>\n",
       "      <td>...</td>\n",
       "      <td>...</td>\n",
       "      <td>...</td>\n",
       "      <td>...</td>\n",
       "      <td>...</td>\n",
       "      <td>...</td>\n",
       "      <td>...</td>\n",
       "      <td>...</td>\n",
       "      <td>...</td>\n",
       "      <td>...</td>\n",
       "      <td>...</td>\n",
       "      <td>...</td>\n",
       "      <td>...</td>\n",
       "    </tr>\n",
       "    <tr>\n",
       "      <th>29029</th>\n",
       "      <td>1.000000</td>\n",
       "      <td>0.46875</td>\n",
       "      <td>0.00</td>\n",
       "      <td>0.885714</td>\n",
       "      <td>0.333333</td>\n",
       "      <td>0.0</td>\n",
       "      <td>1.0</td>\n",
       "      <td>0.0</td>\n",
       "      <td>0.0</td>\n",
       "      <td>0.0</td>\n",
       "      <td>0.0</td>\n",
       "      <td>1.0</td>\n",
       "      <td>0.0</td>\n",
       "      <td>1.0</td>\n",
       "      <td>0.0</td>\n",
       "      <td>0.0</td>\n",
       "    </tr>\n",
       "    <tr>\n",
       "      <th>29030</th>\n",
       "      <td>0.244008</td>\n",
       "      <td>0.53125</td>\n",
       "      <td>1.00</td>\n",
       "      <td>0.700000</td>\n",
       "      <td>0.666667</td>\n",
       "      <td>0.0</td>\n",
       "      <td>0.0</td>\n",
       "      <td>0.0</td>\n",
       "      <td>0.0</td>\n",
       "      <td>0.0</td>\n",
       "      <td>0.0</td>\n",
       "      <td>1.0</td>\n",
       "      <td>0.0</td>\n",
       "      <td>1.0</td>\n",
       "      <td>0.0</td>\n",
       "      <td>0.0</td>\n",
       "    </tr>\n",
       "    <tr>\n",
       "      <th>29031</th>\n",
       "      <td>0.113335</td>\n",
       "      <td>0.84375</td>\n",
       "      <td>0.50</td>\n",
       "      <td>0.842857</td>\n",
       "      <td>1.000000</td>\n",
       "      <td>0.0</td>\n",
       "      <td>0.0</td>\n",
       "      <td>0.0</td>\n",
       "      <td>0.0</td>\n",
       "      <td>0.0</td>\n",
       "      <td>0.0</td>\n",
       "      <td>1.0</td>\n",
       "      <td>0.0</td>\n",
       "      <td>1.0</td>\n",
       "      <td>0.0</td>\n",
       "      <td>0.0</td>\n",
       "    </tr>\n",
       "    <tr>\n",
       "      <th>29032</th>\n",
       "      <td>0.244008</td>\n",
       "      <td>0.53125</td>\n",
       "      <td>1.00</td>\n",
       "      <td>0.400000</td>\n",
       "      <td>0.333333</td>\n",
       "      <td>0.0</td>\n",
       "      <td>0.0</td>\n",
       "      <td>0.0</td>\n",
       "      <td>0.0</td>\n",
       "      <td>0.0</td>\n",
       "      <td>0.0</td>\n",
       "      <td>1.0</td>\n",
       "      <td>0.0</td>\n",
       "      <td>1.0</td>\n",
       "      <td>1.0</td>\n",
       "      <td>0.0</td>\n",
       "    </tr>\n",
       "    <tr>\n",
       "      <th>29033</th>\n",
       "      <td>0.380101</td>\n",
       "      <td>0.25000</td>\n",
       "      <td>1.00</td>\n",
       "      <td>0.471429</td>\n",
       "      <td>1.000000</td>\n",
       "      <td>0.0</td>\n",
       "      <td>0.0</td>\n",
       "      <td>0.0</td>\n",
       "      <td>0.0</td>\n",
       "      <td>0.0</td>\n",
       "      <td>0.0</td>\n",
       "      <td>1.0</td>\n",
       "      <td>0.0</td>\n",
       "      <td>1.0</td>\n",
       "      <td>1.0</td>\n",
       "      <td>0.0</td>\n",
       "    </tr>\n",
       "  </tbody>\n",
       "</table>\n",
       "<p>29034 rows × 16 columns</p>\n",
       "</div>"
      ],
      "text/plain": [
       "       ST_bnk_density  ST_UR_19  income       age  education  bank_prev  \\\n",
       "0            0.028454   0.03125    0.75  0.785714   1.000000        0.0   \n",
       "1            0.071433   0.68750    0.50  0.228571   1.000000        0.0   \n",
       "2            0.104333   0.37500    1.00  0.342857   1.000000        0.0   \n",
       "3            0.145946   0.34375    1.00  0.600000   0.333333        0.0   \n",
       "4            0.137676   0.12500    1.00  0.442857   1.000000        0.0   \n",
       "...               ...       ...     ...       ...        ...        ...   \n",
       "29029        1.000000   0.46875    0.00  0.885714   0.333333        0.0   \n",
       "29030        0.244008   0.53125    1.00  0.700000   0.666667        0.0   \n",
       "29031        0.113335   0.84375    0.50  0.842857   1.000000        0.0   \n",
       "29032        0.244008   0.53125    1.00  0.400000   0.333333        0.0   \n",
       "29033        0.380101   0.25000    1.00  0.471429   1.000000        0.0   \n",
       "\n",
       "       poverty  under_25  unemployed  citizen  native_born  White_or_AAPI  \\\n",
       "0          0.0       0.0         0.0      0.0          0.0            1.0   \n",
       "1          0.0       0.0         0.0      0.0          0.0            1.0   \n",
       "2          0.0       0.0         0.0      0.0          0.0            1.0   \n",
       "3          0.0       0.0         0.0      0.0          0.0            1.0   \n",
       "4          0.0       0.0         0.0      0.0          0.0            1.0   \n",
       "...        ...       ...         ...      ...          ...            ...   \n",
       "29029      1.0       0.0         0.0      0.0          0.0            1.0   \n",
       "29030      0.0       0.0         0.0      0.0          0.0            1.0   \n",
       "29031      0.0       0.0         0.0      0.0          0.0            1.0   \n",
       "29032      0.0       0.0         0.0      0.0          0.0            1.0   \n",
       "29033      0.0       0.0         0.0      0.0          0.0            1.0   \n",
       "\n",
       "       inc_vol  internet  children  single_mother  \n",
       "0          0.0       1.0       0.0            0.0  \n",
       "1          0.0       1.0       0.0            0.0  \n",
       "2          0.0       1.0       1.0            0.0  \n",
       "3          0.0       1.0       0.0            0.0  \n",
       "4          0.0       1.0       1.0            0.0  \n",
       "...        ...       ...       ...            ...  \n",
       "29029      0.0       1.0       0.0            0.0  \n",
       "29030      0.0       1.0       0.0            0.0  \n",
       "29031      0.0       1.0       0.0            0.0  \n",
       "29032      0.0       1.0       1.0            0.0  \n",
       "29033      0.0       1.0       1.0            0.0  \n",
       "\n",
       "[29034 rows x 16 columns]"
      ]
     },
     "execution_count": 10,
     "metadata": {},
     "output_type": "execute_result"
    }
   ],
   "source": [
    "# Convert back into data frame\n",
    "train_X = pd.DataFrame(train_X,columns=col_names)\n",
    "train_X"
   ]
  },
  {
   "cell_type": "code",
   "execution_count": 11,
   "metadata": {},
   "outputs": [
    {
     "data": {
      "text/plain": [
       "GridSearchCV(cv=KFold(n_splits=5, random_state=111, shuffle=True),\n",
       "             estimator=Pipeline(steps=[('pre_process',\n",
       "                                        ColumnTransformer(transformers=[('num',\n",
       "                                                                         MinMaxScaler(),\n",
       "                                                                         ['ST_bnk_density',\n",
       "                                                                          'ST_UR_19',\n",
       "                                                                          'income',\n",
       "                                                                          'age',\n",
       "                                                                          'education',\n",
       "                                                                          'bank_prev',\n",
       "                                                                          'poverty',\n",
       "                                                                          'under_25',\n",
       "                                                                          'unemployed',\n",
       "                                                                          'citizen',\n",
       "                                                                          'native_born',\n",
       "                                                                          'White_or_AAPI',\n",
       "                                                                          'inc_vol',\n",
       "                                                                          'internet',\n",
       "                                                                          'children',\n",
       "                                                                          'single_mother'])...\n",
       "             param_grid=[{'model': [LinearRegression()]},\n",
       "                         {'model': [KNeighborsClassifier()],\n",
       "                          'model__n_neighbors': [10, 15, 20, 25, 30]},\n",
       "                         {'model': [DecisionTreeRegressor(max_depth=5)],\n",
       "                          'model__max_depth': [1, 2, 3, 5]},\n",
       "                         {'model': [BaggingRegressor()]},\n",
       "                         {'model': [RandomForestClassifier()],\n",
       "                          'model__max_depth': [1, 2, 3],\n",
       "                          'model__n_estimators': [500, 1000, 1250]}],\n",
       "             scoring='neg_mean_squared_error')"
      ]
     },
     "execution_count": 11,
     "metadata": {},
     "output_type": "execute_result"
    }
   ],
   "source": [
    "# (1) Set the folds index to ensure comparable samples\n",
    "fold_generator = KFold(n_splits=5, shuffle=True,random_state=111)\n",
    "\n",
    "# (2) Next specify the preprocessing steps\n",
    "preprocess = ColumnTransformer(transformers=[('num', pp.MinMaxScaler(), [\"ST_bnk_density\",\"ST_UR_19\",\"income\",\"age\",\"education\",\"bank_prev\",\"poverty\",\"under_25\",\"unemployed\",\"citizen\",\"native_born\",\"White_or_AAPI\",\"inc_vol\",\"internet\",\"children\",\"single_mother\"])])\n",
    "\n",
    "\n",
    "# (3) Next Let's create our model pipe (note for the model we leave none as a placeholder)\n",
    "pipe = Pipeline(steps=[('pre_process', preprocess),\n",
    "                       ('model',None)])\n",
    "\n",
    "\n",
    "# (4) Specify the models and their repsective tuning parameters. \n",
    "# Note the naming convention here to reference the model key\n",
    "search_space = [\n",
    "    # Linear Model\n",
    "    {'model' : [LM()]},\n",
    "    \n",
    "    # KNN with K tuning param\n",
    "    {'model' : [KNN()],\n",
    "     'model__n_neighbors':[10,15,20,25,30]},\n",
    "    \n",
    "    # Decision Tree with the Max Depth Param\n",
    "    {'model': [DTree()],\n",
    "     'model__max_depth':[1,2,3,5]},\n",
    "    \n",
    "    # The Bagging decision tree model \n",
    "    {'model': [Bag()]},\n",
    "    \n",
    "    # Random forest with the N Estimators tuning param\n",
    "    {'model' : [RF()],\n",
    "     'model__max_depth':[1,2,3],\n",
    "     'model__n_estimators':[500,1000,1250]},\n",
    "]\n",
    "\n",
    "\n",
    "# (5) Put it all together in the grid search\n",
    "search = GridSearchCV(pipe, search_space, \n",
    "                      cv = fold_generator,\n",
    "                      scoring='neg_mean_squared_error',\n",
    "                      n_jobs=4)\n",
    "\n",
    "# (6) Fit the model to the training data\n",
    "search.fit(train_X,train_y)"
   ]
  },
  {
   "cell_type": "code",
   "execution_count": 12,
   "metadata": {},
   "outputs": [
    {
     "data": {
      "text/plain": [
       "-0.019850102080976404"
      ]
     },
     "execution_count": 12,
     "metadata": {},
     "output_type": "execute_result"
    }
   ],
   "source": [
    "search.best_score_"
   ]
  },
  {
   "cell_type": "code",
   "execution_count": 13,
   "metadata": {},
   "outputs": [
    {
     "data": {
      "text/plain": [
       "{'model': DecisionTreeRegressor(max_depth=5), 'model__max_depth': 5}"
      ]
     },
     "execution_count": 13,
     "metadata": {},
     "output_type": "execute_result"
    }
   ],
   "source": [
    "search.best_params_"
   ]
  },
  {
   "cell_type": "code",
   "execution_count": 14,
   "metadata": {},
   "outputs": [],
   "source": [
    "pred_y = search.predict(test_X)"
   ]
  },
  {
   "cell_type": "code",
   "execution_count": 15,
   "metadata": {},
   "outputs": [],
   "source": [
    "#the best model is a random forest so we need to establish it as a variable\n",
    "dtree = search.best_estimator_"
   ]
  },
  {
   "cell_type": "code",
   "execution_count": 16,
   "metadata": {},
   "outputs": [
    {
     "data": {
      "text/plain": [
       "0.022501055019154965"
      ]
     },
     "execution_count": 16,
     "metadata": {},
     "output_type": "execute_result"
    }
   ],
   "source": [
    "m.mean_squared_error(test_y,pred_y)"
   ]
  },
  {
   "cell_type": "code",
   "execution_count": 17,
   "metadata": {},
   "outputs": [
    {
     "data": {
      "text/plain": [
       "0.5167778458893432"
      ]
     },
     "execution_count": 17,
     "metadata": {},
     "output_type": "execute_result"
    }
   ],
   "source": [
    "m.r2_score(test_y,pred_y)"
   ]
  },
  {
   "cell_type": "code",
   "execution_count": 18,
   "metadata": {},
   "outputs": [],
   "source": [
    "#m.accuracy_score(test_y,pred_y)"
   ]
  },
  {
   "cell_type": "code",
   "execution_count": 23,
   "metadata": {
    "scrolled": true
   },
   "outputs": [
    {
     "data": {
      "image/png": "[encoded data removed]",
      "text/plain": [
       "<Figure size 640x480 with 1 Axes>"
      ]
     },
     "metadata": {},
     "output_type": "display_data"
    },
    {
     "data": {
      "text/plain": [
       "<ggplot: (8774228694321)>"
      ]
     },
     "execution_count": 23,
     "metadata": {},
     "output_type": "execute_result"
    }
   ],
   "source": [
    "(\n",
    "    ggplot(pd.DataFrame(dict(pred=pred_y,truth=test_y)),\n",
    "          aes(x='pred',y=\"truth\")) +\n",
    "    geom_jitter(color=\"darkred\", size=.1, width = 0.2, height = 0.2) +\n",
    "    geom_abline(color=\"gold\",size=1) +\n",
    "    theme_bw() \n",
    ")"
   ]
  },
  {
   "cell_type": "code",
   "execution_count": 20,
   "metadata": {},
   "outputs": [],
   "source": [
    "#permute features to determine importances\n",
    "vi = permutation_importance(dtree,train_X,train_y,n_repeats=25)"
   ]
  },
  {
   "cell_type": "code",
   "execution_count": 21,
   "metadata": {},
   "outputs": [
    {
     "data": {
      "text/html": [
       "<div>\n",
       "<style scoped>\n",
       "    .dataframe tbody tr th:only-of-type {\n",
       "        vertical-align: middle;\n",
       "    }\n",
       "\n",
       "    .dataframe tbody tr th {\n",
       "        vertical-align: top;\n",
       "    }\n",
       "\n",
       "    .dataframe thead th {\n",
       "        text-align: right;\n",
       "    }\n",
       "</style>\n",
       "<table border=\"1\" class=\"dataframe\">\n",
       "  <thead>\n",
       "    <tr style=\"text-align: right;\">\n",
       "      <th></th>\n",
       "      <th>variable</th>\n",
       "      <th>vi</th>\n",
       "      <th>std</th>\n",
       "      <th>low</th>\n",
       "      <th>high</th>\n",
       "    </tr>\n",
       "  </thead>\n",
       "  <tbody>\n",
       "    <tr>\n",
       "      <th>0</th>\n",
       "      <td>bank_prev</td>\n",
       "      <td>0.932220</td>\n",
       "      <td>0.008379</td>\n",
       "      <td>0.915462</td>\n",
       "      <td>0.948979</td>\n",
       "    </tr>\n",
       "    <tr>\n",
       "      <th>1</th>\n",
       "      <td>internet</td>\n",
       "      <td>0.032596</td>\n",
       "      <td>0.002389</td>\n",
       "      <td>0.027817</td>\n",
       "      <td>0.037374</td>\n",
       "    </tr>\n",
       "    <tr>\n",
       "      <th>2</th>\n",
       "      <td>income</td>\n",
       "      <td>0.026734</td>\n",
       "      <td>0.001750</td>\n",
       "      <td>0.023234</td>\n",
       "      <td>0.030234</td>\n",
       "    </tr>\n",
       "    <tr>\n",
       "      <th>3</th>\n",
       "      <td>White_or_AAPI</td>\n",
       "      <td>0.021354</td>\n",
       "      <td>0.001934</td>\n",
       "      <td>0.017485</td>\n",
       "      <td>0.025222</td>\n",
       "    </tr>\n",
       "    <tr>\n",
       "      <th>4</th>\n",
       "      <td>age</td>\n",
       "      <td>0.019814</td>\n",
       "      <td>0.002341</td>\n",
       "      <td>0.015132</td>\n",
       "      <td>0.024496</td>\n",
       "    </tr>\n",
       "    <tr>\n",
       "      <th>5</th>\n",
       "      <td>education</td>\n",
       "      <td>0.008024</td>\n",
       "      <td>0.000647</td>\n",
       "      <td>0.006729</td>\n",
       "      <td>0.009319</td>\n",
       "    </tr>\n",
       "    <tr>\n",
       "      <th>6</th>\n",
       "      <td>poverty</td>\n",
       "      <td>0.007636</td>\n",
       "      <td>0.000726</td>\n",
       "      <td>0.006183</td>\n",
       "      <td>0.009088</td>\n",
       "    </tr>\n",
       "    <tr>\n",
       "      <th>7</th>\n",
       "      <td>citizen</td>\n",
       "      <td>0.007192</td>\n",
       "      <td>0.000672</td>\n",
       "      <td>0.005847</td>\n",
       "      <td>0.008537</td>\n",
       "    </tr>\n",
       "    <tr>\n",
       "      <th>8</th>\n",
       "      <td>ST_bnk_density</td>\n",
       "      <td>0.000000</td>\n",
       "      <td>0.000000</td>\n",
       "      <td>0.000000</td>\n",
       "      <td>0.000000</td>\n",
       "    </tr>\n",
       "    <tr>\n",
       "      <th>9</th>\n",
       "      <td>ST_UR_19</td>\n",
       "      <td>0.000000</td>\n",
       "      <td>0.000000</td>\n",
       "      <td>0.000000</td>\n",
       "      <td>0.000000</td>\n",
       "    </tr>\n",
       "    <tr>\n",
       "      <th>10</th>\n",
       "      <td>under_25</td>\n",
       "      <td>0.000000</td>\n",
       "      <td>0.000000</td>\n",
       "      <td>0.000000</td>\n",
       "      <td>0.000000</td>\n",
       "    </tr>\n",
       "    <tr>\n",
       "      <th>11</th>\n",
       "      <td>unemployed</td>\n",
       "      <td>0.000000</td>\n",
       "      <td>0.000000</td>\n",
       "      <td>0.000000</td>\n",
       "      <td>0.000000</td>\n",
       "    </tr>\n",
       "    <tr>\n",
       "      <th>12</th>\n",
       "      <td>native_born</td>\n",
       "      <td>0.000000</td>\n",
       "      <td>0.000000</td>\n",
       "      <td>0.000000</td>\n",
       "      <td>0.000000</td>\n",
       "    </tr>\n",
       "    <tr>\n",
       "      <th>13</th>\n",
       "      <td>inc_vol</td>\n",
       "      <td>0.000000</td>\n",
       "      <td>0.000000</td>\n",
       "      <td>0.000000</td>\n",
       "      <td>0.000000</td>\n",
       "    </tr>\n",
       "    <tr>\n",
       "      <th>14</th>\n",
       "      <td>children</td>\n",
       "      <td>0.000000</td>\n",
       "      <td>0.000000</td>\n",
       "      <td>0.000000</td>\n",
       "      <td>0.000000</td>\n",
       "    </tr>\n",
       "    <tr>\n",
       "      <th>15</th>\n",
       "      <td>single_mother</td>\n",
       "      <td>0.000000</td>\n",
       "      <td>0.000000</td>\n",
       "      <td>0.000000</td>\n",
       "      <td>0.000000</td>\n",
       "    </tr>\n",
       "  </tbody>\n",
       "</table>\n",
       "</div>"
      ],
      "text/plain": [
       "          variable        vi       std       low      high\n",
       "0        bank_prev  0.932220  0.008379  0.915462  0.948979\n",
       "1         internet  0.032596  0.002389  0.027817  0.037374\n",
       "2           income  0.026734  0.001750  0.023234  0.030234\n",
       "3    White_or_AAPI  0.021354  0.001934  0.017485  0.025222\n",
       "4              age  0.019814  0.002341  0.015132  0.024496\n",
       "5        education  0.008024  0.000647  0.006729  0.009319\n",
       "6          poverty  0.007636  0.000726  0.006183  0.009088\n",
       "7          citizen  0.007192  0.000672  0.005847  0.008537\n",
       "8   ST_bnk_density  0.000000  0.000000  0.000000  0.000000\n",
       "9         ST_UR_19  0.000000  0.000000  0.000000  0.000000\n",
       "10        under_25  0.000000  0.000000  0.000000  0.000000\n",
       "11      unemployed  0.000000  0.000000  0.000000  0.000000\n",
       "12     native_born  0.000000  0.000000  0.000000  0.000000\n",
       "13         inc_vol  0.000000  0.000000  0.000000  0.000000\n",
       "14        children  0.000000  0.000000  0.000000  0.000000\n",
       "15   single_mother  0.000000  0.000000  0.000000  0.000000"
      ]
     },
     "execution_count": 21,
     "metadata": {},
     "output_type": "execute_result"
    }
   ],
   "source": [
    "# Organize as a data frame \n",
    "vi_dat = pd.DataFrame(dict(variable=train_X.columns,\n",
    "                           vi = vi['importances_mean'],\n",
    "                           std = vi['importances_std']))\n",
    "\n",
    "# Generate intervals\n",
    "vi_dat['low'] = vi_dat['vi'] - 2*vi_dat['std']\n",
    "vi_dat['high'] = vi_dat['vi'] + 2*vi_dat['std']\n",
    "\n",
    "# But in order from most to least important\n",
    "vi_dat = vi_dat.sort_values(by=\"vi\",ascending=False).reset_index(drop=True)\n",
    "\n",
    "\n",
    "vi_dat"
   ]
  },
  {
   "cell_type": "code",
   "execution_count": 22,
   "metadata": {},
   "outputs": [],
   "source": [
    "vi_dat.to_csv(\"/Users/xavier/Desktop/DSPP/DS/Data-Science-1-Final-Project/Submission_Content/Fig_Data/Rev_Var_Reliance.csv\")"
   ]
  },
  {
   "cell_type": "markdown",
   "metadata": {},
   "source": [
    "Run Decision Tree Seperately since it's the best model"
   ]
  }
 ],
 "metadata": {
  "kernelspec": {
   "display_name": "Python 3",
   "language": "python",
   "name": "python3"
  },
  "language_info": {
   "codemirror_mode": {
    "name": "ipython",
    "version": 3
   },
   "file_extension": ".py",
   "mimetype": "text/x-python",
   "name": "python",
   "nbconvert_exporter": "python",
   "pygments_lexer": "ipython3",
   "version": "3.8.5"
  }
 },
 "nbformat": 4,
 "nbformat_minor": 4
}
