{
 "cells": [
  {
   "cell_type": "markdown",
   "metadata": {},
   "source": [
    "# Use hh2 dataset to train a maching learning model"
   ]
  },
  {
   "cell_type": "code",
   "execution_count": 1,
   "metadata": {},
   "outputs": [],
   "source": [
    "# Data Management/Investigation\n",
    "import pandas as pd\n",
    "import numpy as np\n",
    "import missingno as miss\n",
    "from plotnine import *\n",
    "import matplotlib.pyplot as plt\n",
    "import warnings\n",
    "warnings.filterwarnings(\"ignore\")\n",
    "\n",
    "# For pre-processing data \n",
    "from sklearn import preprocessing as pp \n",
    "from sklearn.compose import ColumnTransformer \n",
    "\n",
    "# For splits and CV\n",
    "from sklearn.model_selection import train_test_split\n",
    "from sklearn.model_selection import KFold # Cross validation \n",
    "from sklearn.model_selection import cross_validate # Cross validation \n",
    "from sklearn.model_selection import GridSearchCV # Cross validation + param. tuning.\n",
    "\n",
    "# Machine learning methods \n",
    "from sklearn.linear_model import LinearRegression as LM\n",
    "from sklearn.neighbors import KNeighborsRegressor as KNN\n",
    "from sklearn.tree import DecisionTreeRegressor as DTree\n",
    "from sklearn import tree # For plotting the decision tree rules\n",
    "from sklearn.ensemble import BaggingRegressor as Bag\n",
    "from sklearn.ensemble import RandomForestRegressor as RF\n",
    "\n",
    "# For evaluating our model's performance\n",
    "import sklearn.metrics as m\n",
    "\n",
    "# Pipeline to combine modeling elements\n",
    "from sklearn.pipeline import Pipeline"
   ]
  },
  {
   "cell_type": "markdown",
   "metadata": {},
   "source": [
    "Import Dataset and remove variables where outcome is a nonstarter"
   ]
  },
  {
   "cell_type": "code",
   "execution_count": 2,
   "metadata": {},
   "outputs": [],
   "source": [
    "hh = pd.read_csv(\"/Users/xavier/Desktop/DSPP/DS/Data-Science-1-Final-Project/Data_Wrangling/hh2.csv\")"
   ]
  },
  {
   "cell_type": "code",
   "execution_count": 3,
   "metadata": {},
   "outputs": [
    {
     "data": {
      "text/plain": [
       "(70203, 30)"
      ]
     },
     "execution_count": 3,
     "metadata": {},
     "output_type": "execute_result"
    }
   ],
   "source": [
    "hh.shape"
   ]
  },
  {
   "cell_type": "code",
   "execution_count": 4,
   "metadata": {},
   "outputs": [],
   "source": [
    "hh = hh[hh.unbanked >= 0]"
   ]
  },
  {
   "cell_type": "code",
   "execution_count": 5,
   "metadata": {},
   "outputs": [],
   "source": [
    "hh = hh.dropna()"
   ]
  },
  {
   "cell_type": "markdown",
   "metadata": {},
   "source": [
    "Identify all variables of interest for the testing:"
   ]
  },
  {
   "cell_type": "code",
   "execution_count": 6,
   "metadata": {},
   "outputs": [
    {
     "data": {
      "text/plain": [
       "['unbanked',\n",
       " 'hagele15',\n",
       " 'bank_prev',\n",
       " 'hhincome',\n",
       " 'hhtype',\n",
       " 'prtage',\n",
       " 'unemployed',\n",
       " 'citizen',\n",
       " 'native_born',\n",
       " 'White_or_AAPI',\n",
       " 'inc_vol',\n",
       " 'internet']"
      ]
     },
     "execution_count": 6,
     "metadata": {},
     "output_type": "execute_result"
    }
   ],
   "source": [
    "#Unbanked, Children under 15, Previous bank usage, income, family type, age, unemployment, citizenship, immigrant status,race, income volitility, and internet access\n",
    "[\"unbanked\",\"hagele15\",\"bank_prev\",\"hhincome\",\"hhtype\",\"prtage\",\"unemployed\",\"citizen\",\"native_born\",\"White_or_AAPI\",\"inc_vol\",\"internet\"]"
   ]
  },
  {
   "cell_type": "markdown",
   "metadata": {},
   "source": [
    "Split the data by X and Y and prepare training sample"
   ]
  },
  {
   "cell_type": "code",
   "execution_count": 7,
   "metadata": {},
   "outputs": [],
   "source": [
    "y = hh[\"unbanked\"]\n",
    "X = hh[[\"hagele15\",\"bank_prev\",\"hhincome\",\"hhtype\",\"prtage\",\"unemployed\",\"citizen\",\"native_born\",\"White_or_AAPI\",\"inc_vol\",\"internet\"]]"
   ]
  },
  {
   "cell_type": "code",
   "execution_count": 8,
   "metadata": {},
   "outputs": [],
   "source": [
    "train_X, test_X, train_y, test_y = train_test_split(X,y,test_size=.1,random_state=1999)"
   ]
  },
  {
   "cell_type": "code",
   "execution_count": 9,
   "metadata": {},
   "outputs": [],
   "source": [
    "# Let's \n",
    "scaler = pp.MinMaxScaler()\n",
    "col_names = list(train_X)\n",
    "train_X = scaler.fit_transform(train_X)"
   ]
  },
  {
   "cell_type": "code",
   "execution_count": 10,
   "metadata": {},
   "outputs": [
    {
     "data": {
      "text/html": [
       "<div>\n",
       "<style scoped>\n",
       "    .dataframe tbody tr th:only-of-type {\n",
       "        vertical-align: middle;\n",
       "    }\n",
       "\n",
       "    .dataframe tbody tr th {\n",
       "        vertical-align: top;\n",
       "    }\n",
       "\n",
       "    .dataframe thead th {\n",
       "        text-align: right;\n",
       "    }\n",
       "</style>\n",
       "<table border=\"1\" class=\"dataframe\">\n",
       "  <thead>\n",
       "    <tr style=\"text-align: right;\">\n",
       "      <th></th>\n",
       "      <th>hagele15</th>\n",
       "      <th>bank_prev</th>\n",
       "      <th>hhincome</th>\n",
       "      <th>hhtype</th>\n",
       "      <th>prtage</th>\n",
       "      <th>unemployed</th>\n",
       "      <th>citizen</th>\n",
       "      <th>native_born</th>\n",
       "      <th>White_or_AAPI</th>\n",
       "      <th>inc_vol</th>\n",
       "      <th>internet</th>\n",
       "    </tr>\n",
       "  </thead>\n",
       "  <tbody>\n",
       "    <tr>\n",
       "      <th>0</th>\n",
       "      <td>0.000000</td>\n",
       "      <td>0.0</td>\n",
       "      <td>1.00</td>\n",
       "      <td>0.8</td>\n",
       "      <td>0.025641</td>\n",
       "      <td>0.0</td>\n",
       "      <td>0.0</td>\n",
       "      <td>0.0</td>\n",
       "      <td>1.0</td>\n",
       "      <td>1.0</td>\n",
       "      <td>1.0</td>\n",
       "    </tr>\n",
       "    <tr>\n",
       "      <th>1</th>\n",
       "      <td>0.000000</td>\n",
       "      <td>0.0</td>\n",
       "      <td>1.00</td>\n",
       "      <td>0.8</td>\n",
       "      <td>0.769231</td>\n",
       "      <td>0.0</td>\n",
       "      <td>0.0</td>\n",
       "      <td>0.0</td>\n",
       "      <td>0.0</td>\n",
       "      <td>1.0</td>\n",
       "      <td>0.0</td>\n",
       "    </tr>\n",
       "    <tr>\n",
       "      <th>2</th>\n",
       "      <td>0.000000</td>\n",
       "      <td>0.0</td>\n",
       "      <td>1.00</td>\n",
       "      <td>0.0</td>\n",
       "      <td>0.717949</td>\n",
       "      <td>0.0</td>\n",
       "      <td>0.0</td>\n",
       "      <td>0.0</td>\n",
       "      <td>0.0</td>\n",
       "      <td>0.0</td>\n",
       "      <td>1.0</td>\n",
       "    </tr>\n",
       "    <tr>\n",
       "      <th>3</th>\n",
       "      <td>0.222222</td>\n",
       "      <td>0.0</td>\n",
       "      <td>1.00</td>\n",
       "      <td>0.0</td>\n",
       "      <td>0.410256</td>\n",
       "      <td>0.0</td>\n",
       "      <td>0.0</td>\n",
       "      <td>0.0</td>\n",
       "      <td>1.0</td>\n",
       "      <td>0.0</td>\n",
       "      <td>1.0</td>\n",
       "    </tr>\n",
       "    <tr>\n",
       "      <th>4</th>\n",
       "      <td>0.111111</td>\n",
       "      <td>0.0</td>\n",
       "      <td>0.25</td>\n",
       "      <td>0.0</td>\n",
       "      <td>0.487179</td>\n",
       "      <td>0.0</td>\n",
       "      <td>0.0</td>\n",
       "      <td>0.0</td>\n",
       "      <td>1.0</td>\n",
       "      <td>1.0</td>\n",
       "      <td>1.0</td>\n",
       "    </tr>\n",
       "    <tr>\n",
       "      <th>...</th>\n",
       "      <td>...</td>\n",
       "      <td>...</td>\n",
       "      <td>...</td>\n",
       "      <td>...</td>\n",
       "      <td>...</td>\n",
       "      <td>...</td>\n",
       "      <td>...</td>\n",
       "      <td>...</td>\n",
       "      <td>...</td>\n",
       "      <td>...</td>\n",
       "      <td>...</td>\n",
       "    </tr>\n",
       "    <tr>\n",
       "      <th>16347</th>\n",
       "      <td>0.111111</td>\n",
       "      <td>0.0</td>\n",
       "      <td>1.00</td>\n",
       "      <td>0.0</td>\n",
       "      <td>0.564103</td>\n",
       "      <td>0.0</td>\n",
       "      <td>0.0</td>\n",
       "      <td>0.0</td>\n",
       "      <td>1.0</td>\n",
       "      <td>0.0</td>\n",
       "      <td>1.0</td>\n",
       "    </tr>\n",
       "    <tr>\n",
       "      <th>16348</th>\n",
       "      <td>0.000000</td>\n",
       "      <td>0.0</td>\n",
       "      <td>0.50</td>\n",
       "      <td>0.6</td>\n",
       "      <td>0.564103</td>\n",
       "      <td>0.0</td>\n",
       "      <td>0.0</td>\n",
       "      <td>0.0</td>\n",
       "      <td>0.0</td>\n",
       "      <td>0.0</td>\n",
       "      <td>1.0</td>\n",
       "    </tr>\n",
       "    <tr>\n",
       "      <th>16349</th>\n",
       "      <td>0.000000</td>\n",
       "      <td>0.0</td>\n",
       "      <td>0.00</td>\n",
       "      <td>0.2</td>\n",
       "      <td>0.384615</td>\n",
       "      <td>0.0</td>\n",
       "      <td>0.0</td>\n",
       "      <td>0.0</td>\n",
       "      <td>0.0</td>\n",
       "      <td>1.0</td>\n",
       "      <td>1.0</td>\n",
       "    </tr>\n",
       "    <tr>\n",
       "      <th>16350</th>\n",
       "      <td>0.111111</td>\n",
       "      <td>0.0</td>\n",
       "      <td>0.75</td>\n",
       "      <td>0.0</td>\n",
       "      <td>0.615385</td>\n",
       "      <td>0.0</td>\n",
       "      <td>0.0</td>\n",
       "      <td>0.0</td>\n",
       "      <td>0.0</td>\n",
       "      <td>1.0</td>\n",
       "      <td>1.0</td>\n",
       "    </tr>\n",
       "    <tr>\n",
       "      <th>16351</th>\n",
       "      <td>0.222222</td>\n",
       "      <td>0.0</td>\n",
       "      <td>1.00</td>\n",
       "      <td>0.0</td>\n",
       "      <td>0.666667</td>\n",
       "      <td>0.0</td>\n",
       "      <td>0.5</td>\n",
       "      <td>0.5</td>\n",
       "      <td>1.0</td>\n",
       "      <td>0.0</td>\n",
       "      <td>1.0</td>\n",
       "    </tr>\n",
       "  </tbody>\n",
       "</table>\n",
       "<p>16352 rows × 11 columns</p>\n",
       "</div>"
      ],
      "text/plain": [
       "       hagele15  bank_prev  hhincome  hhtype    prtage  unemployed  citizen  \\\n",
       "0      0.000000        0.0      1.00     0.8  0.025641         0.0      0.0   \n",
       "1      0.000000        0.0      1.00     0.8  0.769231         0.0      0.0   \n",
       "2      0.000000        0.0      1.00     0.0  0.717949         0.0      0.0   \n",
       "3      0.222222        0.0      1.00     0.0  0.410256         0.0      0.0   \n",
       "4      0.111111        0.0      0.25     0.0  0.487179         0.0      0.0   \n",
       "...         ...        ...       ...     ...       ...         ...      ...   \n",
       "16347  0.111111        0.0      1.00     0.0  0.564103         0.0      0.0   \n",
       "16348  0.000000        0.0      0.50     0.6  0.564103         0.0      0.0   \n",
       "16349  0.000000        0.0      0.00     0.2  0.384615         0.0      0.0   \n",
       "16350  0.111111        0.0      0.75     0.0  0.615385         0.0      0.0   \n",
       "16351  0.222222        0.0      1.00     0.0  0.666667         0.0      0.5   \n",
       "\n",
       "       native_born  White_or_AAPI  inc_vol  internet  \n",
       "0              0.0            1.0      1.0       1.0  \n",
       "1              0.0            0.0      1.0       0.0  \n",
       "2              0.0            0.0      0.0       1.0  \n",
       "3              0.0            1.0      0.0       1.0  \n",
       "4              0.0            1.0      1.0       1.0  \n",
       "...            ...            ...      ...       ...  \n",
       "16347          0.0            1.0      0.0       1.0  \n",
       "16348          0.0            0.0      0.0       1.0  \n",
       "16349          0.0            0.0      1.0       1.0  \n",
       "16350          0.0            0.0      1.0       1.0  \n",
       "16351          0.5            1.0      0.0       1.0  \n",
       "\n",
       "[16352 rows x 11 columns]"
      ]
     },
     "execution_count": 10,
     "metadata": {},
     "output_type": "execute_result"
    }
   ],
   "source": [
    "# Convert back into data frame\n",
    "train_X = pd.DataFrame(train_X,columns=col_names)\n",
    "train_X"
   ]
  },
  {
   "cell_type": "code",
   "execution_count": 11,
   "metadata": {},
   "outputs": [
    {
     "data": {
      "text/plain": [
       "GridSearchCV(cv=KFold(n_splits=5, random_state=111, shuffle=True),\n",
       "             estimator=Pipeline(steps=[('pre_process',\n",
       "                                        ColumnTransformer(transformers=[('num',\n",
       "                                                                         MinMaxScaler(),\n",
       "                                                                         ['hagele15',\n",
       "                                                                          'bank_prev',\n",
       "                                                                          'hhincome',\n",
       "                                                                          'hhtype',\n",
       "                                                                          'prtage',\n",
       "                                                                          'unemployed',\n",
       "                                                                          'citizen',\n",
       "                                                                          'native_born',\n",
       "                                                                          'White_or_AAPI',\n",
       "                                                                          'inc_vol',\n",
       "                                                                          'internet'])])),\n",
       "                                       ('model', None)]),\n",
       "             n_jobs=4,\n",
       "             param_grid=[{'model': [LinearRegression()]},\n",
       "                         {'model': [KNeighborsRegressor()],\n",
       "                          'model__n_neighbors': [10, 15, 20, 25, 30]},\n",
       "                         {'model': [DecisionTreeRegressor(max_depth=5)],\n",
       "                          'model__max_depth': [1, 2, 3, 5]},\n",
       "                         {'model': [BaggingRegressor()]},\n",
       "                         {'model': [RandomForestRegressor()],\n",
       "                          'model__max_depth': [1, 2, 3],\n",
       "                          'model__n_estimators': [500, 1000, 1250]}],\n",
       "             scoring='neg_mean_squared_error')"
      ]
     },
     "execution_count": 11,
     "metadata": {},
     "output_type": "execute_result"
    }
   ],
   "source": [
    "# (1) Set the folds index to ensure comparable samples\n",
    "fold_generator = KFold(n_splits=5, shuffle=True,random_state=111)\n",
    "\n",
    "# (2) Next specify the preprocessing steps\n",
    "preprocess = ColumnTransformer(transformers=[('num', pp.MinMaxScaler(), [\"hagele15\",\"bank_prev\",\"hhincome\",\"hhtype\",\"prtage\",\"unemployed\",\"citizen\",\"native_born\",\"White_or_AAPI\",\"inc_vol\",\"internet\"])])\n",
    "\n",
    "\n",
    "# (3) Next Let's create our model pipe (note for the model we leave none as a placeholder)\n",
    "pipe = Pipeline(steps=[('pre_process', preprocess),\n",
    "                       ('model',None)])\n",
    "\n",
    "\n",
    "# (4) Specify the models and their repsective tuning parameters. \n",
    "# Note the naming convention here to reference the model key\n",
    "search_space = [\n",
    "    # Linear Model\n",
    "    {'model' : [LM()]},\n",
    "    \n",
    "    # KNN with K tuning param\n",
    "    {'model' : [KNN()],\n",
    "     'model__n_neighbors':[10,15,20,25,30]},\n",
    "    \n",
    "    # Decision Tree with the Max Depth Param\n",
    "    {'model': [DTree()],\n",
    "     'model__max_depth':[1,2,3,5]},\n",
    "    \n",
    "    # The Bagging decision tree model \n",
    "    {'model': [Bag()]},\n",
    "    \n",
    "    # Random forest with the N Estimators tuning param\n",
    "    {'model' : [RF()],\n",
    "     'model__max_depth':[1,2,3],\n",
    "     'model__n_estimators':[500,1000,1250]},\n",
    "]\n",
    "\n",
    "\n",
    "# (5) Put it all together in the grid search\n",
    "search = GridSearchCV(pipe, search_space, \n",
    "                      cv = fold_generator,\n",
    "                      scoring='neg_mean_squared_error',\n",
    "                      n_jobs=4)\n",
    "\n",
    "# (6) Fit the model to the training data\n",
    "search.fit(train_X,train_y)"
   ]
  },
  {
   "cell_type": "code",
   "execution_count": 12,
   "metadata": {},
   "outputs": [
    {
     "data": {
      "text/plain": [
       "-0.0221183168183224"
      ]
     },
     "execution_count": 12,
     "metadata": {},
     "output_type": "execute_result"
    }
   ],
   "source": [
    "search.best_score_"
   ]
  },
  {
   "cell_type": "code",
   "execution_count": 13,
   "metadata": {},
   "outputs": [
    {
     "data": {
      "text/plain": [
       "{'model': DecisionTreeRegressor(max_depth=5), 'model__max_depth': 5}"
      ]
     },
     "execution_count": 13,
     "metadata": {},
     "output_type": "execute_result"
    }
   ],
   "source": [
    "search.best_params_"
   ]
  },
  {
   "cell_type": "code",
   "execution_count": 14,
   "metadata": {},
   "outputs": [],
   "source": [
    "pred_y = search.predict(test_X)"
   ]
  },
  {
   "cell_type": "code",
   "execution_count": 15,
   "metadata": {},
   "outputs": [
    {
     "data": {
      "text/plain": [
       "0.02629279498804594"
      ]
     },
     "execution_count": 15,
     "metadata": {},
     "output_type": "execute_result"
    }
   ],
   "source": [
    "m.mean_squared_error(test_y,pred_y)"
   ]
  },
  {
   "cell_type": "code",
   "execution_count": 16,
   "metadata": {},
   "outputs": [
    {
     "data": {
      "text/plain": [
       "0.48962633651833354"
      ]
     },
     "execution_count": 16,
     "metadata": {},
     "output_type": "execute_result"
    }
   ],
   "source": [
    "m.r2_score(test_y,pred_y)"
   ]
  },
  {
   "cell_type": "code",
   "execution_count": 19,
   "metadata": {},
   "outputs": [
    {
     "data": {
      "image/png": "[encoded data removed]",
      "text/plain": [
       "<Figure size 640x480 with 1 Axes>"
      ]
     },
     "metadata": {},
     "output_type": "display_data"
    },
    {
     "data": {
      "text/plain": [
       "<ggplot: (8786157372097)>"
      ]
     },
     "execution_count": 19,
     "metadata": {},
     "output_type": "execute_result"
    }
   ],
   "source": [
    "(\n",
    "    ggplot(pd.DataFrame(dict(pred=pred_y,truth=test_y)),\n",
    "          aes(x='pred',y=\"truth\")) +\n",
    "    geom_point(alpha=.75) +\n",
    "    geom_abline(linetype=\"dashed\",color=\"darkred\",size=1) +\n",
    "    theme_bw() \n",
    ")"
   ]
  }
 ],
 "metadata": {
  "kernelspec": {
   "display_name": "Python 3",
   "language": "python",
   "name": "python3"
  },
  "language_info": {
   "codemirror_mode": {
    "name": "ipython",
    "version": 3
   },
   "file_extension": ".py",
   "mimetype": "text/x-python",
   "name": "python",
   "nbconvert_exporter": "python",
   "pygments_lexer": "ipython3",
   "version": "3.8.5"
  }
 },
 "nbformat": 4,
 "nbformat_minor": 4
}
