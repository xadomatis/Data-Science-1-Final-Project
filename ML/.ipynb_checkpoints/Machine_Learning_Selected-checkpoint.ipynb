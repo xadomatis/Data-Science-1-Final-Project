{
 "cells": [
  {
   "cell_type": "markdown",
   "metadata": {},
   "source": [
    "# Use hh2 dataset to train a maching learning model"
   ]
  },
  {
   "cell_type": "code",
   "execution_count": 1,
   "metadata": {},
   "outputs": [],
   "source": [
    "# Data Management/Investigation\n",
    "import pandas as pd\n",
    "import numpy as np\n",
    "import missingno as miss\n",
    "from plotnine import *\n",
    "import matplotlib.pyplot as plt\n",
    "import warnings\n",
    "warnings.filterwarnings(\"ignore\")\n",
    "\n",
    "# For pre-processing data \n",
    "from sklearn import preprocessing as pp \n",
    "from sklearn.compose import ColumnTransformer \n",
    "\n",
    "# For splits and CV\n",
    "from sklearn.model_selection import train_test_split\n",
    "from sklearn.model_selection import KFold # Cross validation \n",
    "from sklearn.model_selection import cross_validate # Cross validation \n",
    "from sklearn.model_selection import GridSearchCV # Cross validation + param. tuning.\n",
    "\n",
    "# Machine learning methods \n",
    "from sklearn.linear_model import LinearRegression as LM\n",
    "from sklearn.neighbors import KNeighborsRegressor as KNN\n",
    "from sklearn.tree import DecisionTreeRegressor as DTree\n",
    "from sklearn import tree # For plotting the decision tree rules\n",
    "from sklearn.ensemble import BaggingRegressor as Bag\n",
    "from sklearn.ensemble import RandomForestRegressor as RF\n",
    "\n",
    "# For evaluating our model's performance\n",
    "import sklearn.metrics as m\n",
    "\n",
    "# Pipeline to combine modeling elements\n",
    "from sklearn.pipeline import Pipeline\n",
    "\n",
    "# Data Management/Investigation\n",
    "import pandas as pd\n",
    "from pandas.api.types import CategoricalDtype # Ordering categories\n",
    "import numpy as np\n",
    "import missingno as miss\n",
    "\n",
    "# Plotting libraries\n",
    "from plotnine import *\n",
    "import matplotlib.pyplot as plt\n",
    "\n",
    "# For pre-processing data \n",
    "from sklearn import preprocessing as pp \n",
    "from sklearn.compose import ColumnTransformer \n",
    "\n",
    "# For splits and CV\n",
    "from sklearn.model_selection import train_test_split\n",
    "from sklearn.model_selection import KFold # Cross validation \n",
    "from sklearn.model_selection import cross_validate # Cross validation \n",
    "from sklearn.model_selection import GridSearchCV # Cross validation + param. tuning.\n",
    "\n",
    "# Machine learning methods \n",
    "from sklearn.naive_bayes import GaussianNB as NB\n",
    "from sklearn.neighbors import KNeighborsClassifier as KNN\n",
    "from sklearn.tree import DecisionTreeClassifier as DT\n",
    "from sklearn.tree import DecisionTreeRegressor as DT_reg\n",
    "from sklearn.ensemble import RandomForestClassifier as RF\n",
    "from sklearn import tree # For plotting the decision tree rules\n",
    "\n",
    "# For evaluating our model's performance\n",
    "import sklearn.metrics as m\n",
    "\n",
    "# Pipeline to combine modeling elements\n",
    "from sklearn.pipeline import Pipeline\n",
    "\n",
    "# For model interpretation\n",
    "from sklearn.inspection import (\n",
    "    permutation_importance,\n",
    "    partial_dependence, \n",
    "    PartialDependenceDisplay, \n",
    "    plot_partial_dependence\n",
    ")\n",
    "\n",
    "# Misc\n",
    "import warnings\n",
    "warnings.filterwarnings(\"ignore\")"
   ]
  },
  {
   "cell_type": "markdown",
   "metadata": {},
   "source": [
    "Import Dataset and remove variables where outcome is a nonstarter"
   ]
  },
  {
   "cell_type": "code",
   "execution_count": 2,
   "metadata": {},
   "outputs": [],
   "source": [
    "hh = pd.read_csv(\"/Users/xavier/Desktop/DSPP/DS/Data-Science-1-Final-Project/Data_Wrangling/hh3.csv\")"
   ]
  },
  {
   "cell_type": "code",
   "execution_count": 3,
   "metadata": {},
   "outputs": [
    {
     "data": {
      "text/plain": [
       "(70203, 19)"
      ]
     },
     "execution_count": 3,
     "metadata": {},
     "output_type": "execute_result"
    }
   ],
   "source": [
    "hh.shape"
   ]
  },
  {
   "cell_type": "code",
   "execution_count": 4,
   "metadata": {},
   "outputs": [],
   "source": [
    "hh = hh[hh.unbanked >= 0]"
   ]
  },
  {
   "cell_type": "code",
   "execution_count": 5,
   "metadata": {},
   "outputs": [],
   "source": [
    "hh = hh.dropna()"
   ]
  },
  {
   "cell_type": "code",
   "execution_count": 6,
   "metadata": {},
   "outputs": [
    {
     "data": {
      "text/plain": [
       "(32261, 19)"
      ]
     },
     "execution_count": 6,
     "metadata": {},
     "output_type": "execute_result"
    }
   ],
   "source": [
    "hh.shape"
   ]
  },
  {
   "cell_type": "markdown",
   "metadata": {},
   "source": [
    "Split the data by X and Y and prepare training sample"
   ]
  },
  {
   "cell_type": "code",
   "execution_count": 7,
   "metadata": {},
   "outputs": [],
   "source": [
    "y = hh[\"unbanked\"]\n",
    "X = hh[[\"ST_bnk_density\",\"ST_UR_19\",\"income\",\"age\",\"education\",\"poverty\",\"under_25\",\"unemployed\",\"citizen\",\"native_born\",\"White_or_AAPI\",\"inc_vol\",\"internet\",\"children\",\"single_mother\"]]"
   ]
  },
  {
   "cell_type": "code",
   "execution_count": 8,
   "metadata": {},
   "outputs": [],
   "source": [
    "train_X, test_X, train_y, test_y = train_test_split(X,y,test_size=.1,random_state=1999)"
   ]
  },
  {
   "cell_type": "code",
   "execution_count": 9,
   "metadata": {},
   "outputs": [],
   "source": [
    "# Let's \n",
    "scaler = pp.MinMaxScaler()\n",
    "col_names = list(train_X)\n",
    "train_X = scaler.fit_transform(train_X)"
   ]
  },
  {
   "cell_type": "code",
   "execution_count": 10,
   "metadata": {},
   "outputs": [
    {
     "data": {
      "text/html": [
       "<div>\n",
       "<style scoped>\n",
       "    .dataframe tbody tr th:only-of-type {\n",
       "        vertical-align: middle;\n",
       "    }\n",
       "\n",
       "    .dataframe tbody tr th {\n",
       "        vertical-align: top;\n",
       "    }\n",
       "\n",
       "    .dataframe thead th {\n",
       "        text-align: right;\n",
       "    }\n",
       "</style>\n",
       "<table border=\"1\" class=\"dataframe\">\n",
       "  <thead>\n",
       "    <tr style=\"text-align: right;\">\n",
       "      <th></th>\n",
       "      <th>ST_bnk_density</th>\n",
       "      <th>ST_UR_19</th>\n",
       "      <th>income</th>\n",
       "      <th>age</th>\n",
       "      <th>education</th>\n",
       "      <th>poverty</th>\n",
       "      <th>under_25</th>\n",
       "      <th>unemployed</th>\n",
       "      <th>citizen</th>\n",
       "      <th>native_born</th>\n",
       "      <th>White_or_AAPI</th>\n",
       "      <th>inc_vol</th>\n",
       "      <th>internet</th>\n",
       "      <th>children</th>\n",
       "      <th>single_mother</th>\n",
       "    </tr>\n",
       "  </thead>\n",
       "  <tbody>\n",
       "    <tr>\n",
       "      <th>0</th>\n",
       "      <td>0.028454</td>\n",
       "      <td>0.03125</td>\n",
       "      <td>0.75</td>\n",
       "      <td>0.785714</td>\n",
       "      <td>1.000000</td>\n",
       "      <td>0.0</td>\n",
       "      <td>0.0</td>\n",
       "      <td>0.0</td>\n",
       "      <td>0.0</td>\n",
       "      <td>0.0</td>\n",
       "      <td>1.0</td>\n",
       "      <td>0.0</td>\n",
       "      <td>1.0</td>\n",
       "      <td>0.0</td>\n",
       "      <td>0.0</td>\n",
       "    </tr>\n",
       "    <tr>\n",
       "      <th>1</th>\n",
       "      <td>0.071433</td>\n",
       "      <td>0.68750</td>\n",
       "      <td>0.50</td>\n",
       "      <td>0.228571</td>\n",
       "      <td>1.000000</td>\n",
       "      <td>0.0</td>\n",
       "      <td>0.0</td>\n",
       "      <td>0.0</td>\n",
       "      <td>0.0</td>\n",
       "      <td>0.0</td>\n",
       "      <td>1.0</td>\n",
       "      <td>0.0</td>\n",
       "      <td>1.0</td>\n",
       "      <td>0.0</td>\n",
       "      <td>0.0</td>\n",
       "    </tr>\n",
       "    <tr>\n",
       "      <th>2</th>\n",
       "      <td>0.104333</td>\n",
       "      <td>0.37500</td>\n",
       "      <td>1.00</td>\n",
       "      <td>0.342857</td>\n",
       "      <td>1.000000</td>\n",
       "      <td>0.0</td>\n",
       "      <td>0.0</td>\n",
       "      <td>0.0</td>\n",
       "      <td>0.0</td>\n",
       "      <td>0.0</td>\n",
       "      <td>1.0</td>\n",
       "      <td>0.0</td>\n",
       "      <td>1.0</td>\n",
       "      <td>1.0</td>\n",
       "      <td>0.0</td>\n",
       "    </tr>\n",
       "    <tr>\n",
       "      <th>3</th>\n",
       "      <td>0.145946</td>\n",
       "      <td>0.34375</td>\n",
       "      <td>1.00</td>\n",
       "      <td>0.600000</td>\n",
       "      <td>0.333333</td>\n",
       "      <td>0.0</td>\n",
       "      <td>0.0</td>\n",
       "      <td>0.0</td>\n",
       "      <td>0.0</td>\n",
       "      <td>0.0</td>\n",
       "      <td>1.0</td>\n",
       "      <td>0.0</td>\n",
       "      <td>1.0</td>\n",
       "      <td>0.0</td>\n",
       "      <td>0.0</td>\n",
       "    </tr>\n",
       "    <tr>\n",
       "      <th>4</th>\n",
       "      <td>0.137676</td>\n",
       "      <td>0.12500</td>\n",
       "      <td>1.00</td>\n",
       "      <td>0.442857</td>\n",
       "      <td>1.000000</td>\n",
       "      <td>0.0</td>\n",
       "      <td>0.0</td>\n",
       "      <td>0.0</td>\n",
       "      <td>0.0</td>\n",
       "      <td>0.0</td>\n",
       "      <td>1.0</td>\n",
       "      <td>0.0</td>\n",
       "      <td>1.0</td>\n",
       "      <td>1.0</td>\n",
       "      <td>0.0</td>\n",
       "    </tr>\n",
       "    <tr>\n",
       "      <th>...</th>\n",
       "      <td>...</td>\n",
       "      <td>...</td>\n",
       "      <td>...</td>\n",
       "      <td>...</td>\n",
       "      <td>...</td>\n",
       "      <td>...</td>\n",
       "      <td>...</td>\n",
       "      <td>...</td>\n",
       "      <td>...</td>\n",
       "      <td>...</td>\n",
       "      <td>...</td>\n",
       "      <td>...</td>\n",
       "      <td>...</td>\n",
       "      <td>...</td>\n",
       "      <td>...</td>\n",
       "    </tr>\n",
       "    <tr>\n",
       "      <th>29029</th>\n",
       "      <td>1.000000</td>\n",
       "      <td>0.46875</td>\n",
       "      <td>0.00</td>\n",
       "      <td>0.885714</td>\n",
       "      <td>0.333333</td>\n",
       "      <td>1.0</td>\n",
       "      <td>0.0</td>\n",
       "      <td>0.0</td>\n",
       "      <td>0.0</td>\n",
       "      <td>0.0</td>\n",
       "      <td>1.0</td>\n",
       "      <td>0.0</td>\n",
       "      <td>1.0</td>\n",
       "      <td>0.0</td>\n",
       "      <td>0.0</td>\n",
       "    </tr>\n",
       "    <tr>\n",
       "      <th>29030</th>\n",
       "      <td>0.244008</td>\n",
       "      <td>0.53125</td>\n",
       "      <td>1.00</td>\n",
       "      <td>0.700000</td>\n",
       "      <td>0.666667</td>\n",
       "      <td>0.0</td>\n",
       "      <td>0.0</td>\n",
       "      <td>0.0</td>\n",
       "      <td>0.0</td>\n",
       "      <td>0.0</td>\n",
       "      <td>1.0</td>\n",
       "      <td>0.0</td>\n",
       "      <td>1.0</td>\n",
       "      <td>0.0</td>\n",
       "      <td>0.0</td>\n",
       "    </tr>\n",
       "    <tr>\n",
       "      <th>29031</th>\n",
       "      <td>0.113335</td>\n",
       "      <td>0.84375</td>\n",
       "      <td>0.50</td>\n",
       "      <td>0.842857</td>\n",
       "      <td>1.000000</td>\n",
       "      <td>0.0</td>\n",
       "      <td>0.0</td>\n",
       "      <td>0.0</td>\n",
       "      <td>0.0</td>\n",
       "      <td>0.0</td>\n",
       "      <td>1.0</td>\n",
       "      <td>0.0</td>\n",
       "      <td>1.0</td>\n",
       "      <td>0.0</td>\n",
       "      <td>0.0</td>\n",
       "    </tr>\n",
       "    <tr>\n",
       "      <th>29032</th>\n",
       "      <td>0.244008</td>\n",
       "      <td>0.53125</td>\n",
       "      <td>1.00</td>\n",
       "      <td>0.400000</td>\n",
       "      <td>0.333333</td>\n",
       "      <td>0.0</td>\n",
       "      <td>0.0</td>\n",
       "      <td>0.0</td>\n",
       "      <td>0.0</td>\n",
       "      <td>0.0</td>\n",
       "      <td>1.0</td>\n",
       "      <td>0.0</td>\n",
       "      <td>1.0</td>\n",
       "      <td>1.0</td>\n",
       "      <td>0.0</td>\n",
       "    </tr>\n",
       "    <tr>\n",
       "      <th>29033</th>\n",
       "      <td>0.380101</td>\n",
       "      <td>0.25000</td>\n",
       "      <td>1.00</td>\n",
       "      <td>0.471429</td>\n",
       "      <td>1.000000</td>\n",
       "      <td>0.0</td>\n",
       "      <td>0.0</td>\n",
       "      <td>0.0</td>\n",
       "      <td>0.0</td>\n",
       "      <td>0.0</td>\n",
       "      <td>1.0</td>\n",
       "      <td>0.0</td>\n",
       "      <td>1.0</td>\n",
       "      <td>1.0</td>\n",
       "      <td>0.0</td>\n",
       "    </tr>\n",
       "  </tbody>\n",
       "</table>\n",
       "<p>29034 rows × 15 columns</p>\n",
       "</div>"
      ],
      "text/plain": [
       "       ST_bnk_density  ST_UR_19  income       age  education  poverty  \\\n",
       "0            0.028454   0.03125    0.75  0.785714   1.000000      0.0   \n",
       "1            0.071433   0.68750    0.50  0.228571   1.000000      0.0   \n",
       "2            0.104333   0.37500    1.00  0.342857   1.000000      0.0   \n",
       "3            0.145946   0.34375    1.00  0.600000   0.333333      0.0   \n",
       "4            0.137676   0.12500    1.00  0.442857   1.000000      0.0   \n",
       "...               ...       ...     ...       ...        ...      ...   \n",
       "29029        1.000000   0.46875    0.00  0.885714   0.333333      1.0   \n",
       "29030        0.244008   0.53125    1.00  0.700000   0.666667      0.0   \n",
       "29031        0.113335   0.84375    0.50  0.842857   1.000000      0.0   \n",
       "29032        0.244008   0.53125    1.00  0.400000   0.333333      0.0   \n",
       "29033        0.380101   0.25000    1.00  0.471429   1.000000      0.0   \n",
       "\n",
       "       under_25  unemployed  citizen  native_born  White_or_AAPI  inc_vol  \\\n",
       "0           0.0         0.0      0.0          0.0            1.0      0.0   \n",
       "1           0.0         0.0      0.0          0.0            1.0      0.0   \n",
       "2           0.0         0.0      0.0          0.0            1.0      0.0   \n",
       "3           0.0         0.0      0.0          0.0            1.0      0.0   \n",
       "4           0.0         0.0      0.0          0.0            1.0      0.0   \n",
       "...         ...         ...      ...          ...            ...      ...   \n",
       "29029       0.0         0.0      0.0          0.0            1.0      0.0   \n",
       "29030       0.0         0.0      0.0          0.0            1.0      0.0   \n",
       "29031       0.0         0.0      0.0          0.0            1.0      0.0   \n",
       "29032       0.0         0.0      0.0          0.0            1.0      0.0   \n",
       "29033       0.0         0.0      0.0          0.0            1.0      0.0   \n",
       "\n",
       "       internet  children  single_mother  \n",
       "0           1.0       0.0            0.0  \n",
       "1           1.0       0.0            0.0  \n",
       "2           1.0       1.0            0.0  \n",
       "3           1.0       0.0            0.0  \n",
       "4           1.0       1.0            0.0  \n",
       "...         ...       ...            ...  \n",
       "29029       1.0       0.0            0.0  \n",
       "29030       1.0       0.0            0.0  \n",
       "29031       1.0       0.0            0.0  \n",
       "29032       1.0       1.0            0.0  \n",
       "29033       1.0       1.0            0.0  \n",
       "\n",
       "[29034 rows x 15 columns]"
      ]
     },
     "execution_count": 10,
     "metadata": {},
     "output_type": "execute_result"
    }
   ],
   "source": [
    "# Convert back into data frame\n",
    "train_X = pd.DataFrame(train_X,columns=col_names)\n",
    "train_X"
   ]
  },
  {
   "cell_type": "code",
   "execution_count": 11,
   "metadata": {},
   "outputs": [
    {
     "data": {
      "text/plain": [
       "GridSearchCV(cv=KFold(n_splits=5, random_state=111, shuffle=True),\n",
       "             estimator=Pipeline(steps=[('pre_process',\n",
       "                                        ColumnTransformer(transformers=[('num',\n",
       "                                                                         MinMaxScaler(),\n",
       "                                                                         ['ST_bnk_density',\n",
       "                                                                          'ST_UR_19',\n",
       "                                                                          'income',\n",
       "                                                                          'age',\n",
       "                                                                          'education',\n",
       "                                                                          'poverty',\n",
       "                                                                          'under_25',\n",
       "                                                                          'unemployed',\n",
       "                                                                          'citizen',\n",
       "                                                                          'native_born',\n",
       "                                                                          'White_or_AAPI',\n",
       "                                                                          'inc_vol',\n",
       "                                                                          'internet',\n",
       "                                                                          'children',\n",
       "                                                                          'single_mother'])])),\n",
       "                                       ('model'...\n",
       "             param_grid=[{'model': [LinearRegression()]},\n",
       "                         {'model': [KNeighborsClassifier()],\n",
       "                          'model__n_neighbors': [10, 15, 20, 25, 30]},\n",
       "                         {'model': [DecisionTreeRegressor(max_depth=5)],\n",
       "                          'model__max_depth': [1, 2, 3, 5]},\n",
       "                         {'model': [BaggingRegressor()]},\n",
       "                         {'model': [RandomForestClassifier()],\n",
       "                          'model__max_depth': [1, 2, 3],\n",
       "                          'model__n_estimators': [500, 1000, 1250]}],\n",
       "             scoring='neg_mean_squared_error')"
      ]
     },
     "execution_count": 11,
     "metadata": {},
     "output_type": "execute_result"
    }
   ],
   "source": [
    "# (1) Set the folds index to ensure comparable samples\n",
    "fold_generator = KFold(n_splits=5, shuffle=True,random_state=111)\n",
    "\n",
    "# (2) Next specify the preprocessing steps\n",
    "preprocess = ColumnTransformer(transformers=[('num', pp.MinMaxScaler(), [\"ST_bnk_density\",\"ST_UR_19\",\"income\",\"age\",\"education\",\"poverty\",\"under_25\",\"unemployed\",\"citizen\",\"native_born\",\"White_or_AAPI\",\"inc_vol\",\"internet\",\"children\",\"single_mother\"])])\n",
    "\n",
    "\n",
    "# (3) Next Let's create our model pipe (note for the model we leave none as a placeholder)\n",
    "pipe = Pipeline(steps=[('pre_process', preprocess),\n",
    "                       ('model',None)])\n",
    "\n",
    "\n",
    "# (4) Specify the models and their repsective tuning parameters. \n",
    "# Note the naming convention here to reference the model key\n",
    "search_space = [\n",
    "    # Linear Model\n",
    "    {'model' : [LM()]},\n",
    "    \n",
    "    # KNN with K tuning param\n",
    "    {'model' : [KNN()],\n",
    "     'model__n_neighbors':[10,15,20,25,30]},\n",
    "    \n",
    "    # Decision Tree with the Max Depth Param\n",
    "    {'model': [DTree()],\n",
    "     'model__max_depth':[1,2,3,5]},\n",
    "    \n",
    "    # The Bagging decision tree model \n",
    "    {'model': [Bag()]},\n",
    "    \n",
    "    # Random forest with the N Estimators tuning param\n",
    "    {'model' : [RF()],\n",
    "     'model__max_depth':[1,2,3],\n",
    "     'model__n_estimators':[500,1000,1250]},\n",
    "]\n",
    "\n",
    "\n",
    "# (5) Put it all together in the grid search\n",
    "search = GridSearchCV(pipe, search_space, \n",
    "                      cv = fold_generator,\n",
    "                      scoring='neg_mean_squared_error',\n",
    "                      n_jobs=4)\n",
    "\n",
    "# (6) Fit the model to the training data\n",
    "search.fit(train_X,train_y)"
   ]
  },
  {
   "cell_type": "code",
   "execution_count": 12,
   "metadata": {},
   "outputs": [
    {
     "data": {
      "text/plain": [
       "-0.037410867844292456"
      ]
     },
     "execution_count": 12,
     "metadata": {},
     "output_type": "execute_result"
    }
   ],
   "source": [
    "search.best_score_"
   ]
  },
  {
   "cell_type": "code",
   "execution_count": 13,
   "metadata": {},
   "outputs": [
    {
     "data": {
      "text/plain": [
       "{'model': DecisionTreeRegressor(max_depth=5), 'model__max_depth': 5}"
      ]
     },
     "execution_count": 13,
     "metadata": {},
     "output_type": "execute_result"
    }
   ],
   "source": [
    "search.best_params_"
   ]
  },
  {
   "cell_type": "code",
   "execution_count": 14,
   "metadata": {},
   "outputs": [],
   "source": [
    "pred_y = search.predict(test_X)"
   ]
  },
  {
   "cell_type": "code",
   "execution_count": 15,
   "metadata": {},
   "outputs": [],
   "source": [
    "#the best model is a random forest so we need to establish it as a variable\n",
    "dtree = search.best_estimator_"
   ]
  },
  {
   "cell_type": "code",
   "execution_count": 16,
   "metadata": {},
   "outputs": [
    {
     "data": {
      "text/plain": [
       "0.04363561101703493"
      ]
     },
     "execution_count": 16,
     "metadata": {},
     "output_type": "execute_result"
    }
   ],
   "source": [
    "m.mean_squared_error(test_y,pred_y)"
   ]
  },
  {
   "cell_type": "code",
   "execution_count": 17,
   "metadata": {},
   "outputs": [
    {
     "data": {
      "text/plain": [
       "0.06290198687855986"
      ]
     },
     "execution_count": 17,
     "metadata": {},
     "output_type": "execute_result"
    }
   ],
   "source": [
    "m.r2_score(test_y,pred_y)"
   ]
  },
  {
   "cell_type": "code",
   "execution_count": 18,
   "metadata": {},
   "outputs": [],
   "source": [
    "#m.accuracy_score(test_y,pred_y)"
   ]
  },
  {
   "cell_type": "code",
   "execution_count": 19,
   "metadata": {
    "scrolled": true
   },
   "outputs": [
    {
     "data": {
      "image/png": "[encoded data removed]",
      "text/plain": [
       "<Figure size 640x480 with 1 Axes>"
      ]
     },
     "metadata": {},
     "output_type": "display_data"
    },
    {
     "data": {
      "text/plain": [
       "<ggplot: (8773594233320)>"
      ]
     },
     "execution_count": 19,
     "metadata": {},
     "output_type": "execute_result"
    }
   ],
   "source": [
    "(\n",
    "    ggplot(pd.DataFrame(dict(pred=pred_y,truth=test_y)),\n",
    "          aes(x='pred',y=\"truth\")) +\n",
    "    geom_jitter(color=\"darkgreen\", size=.1, width = 0.2, height = 0.2) +\n",
    "    geom_abline(color=\"gold\",size=1) +\n",
    "    theme_bw() \n",
    ")"
   ]
  },
  {
   "cell_type": "code",
   "execution_count": 20,
   "metadata": {},
   "outputs": [],
   "source": [
    "#permute features to determine importances\n",
    "vi = permutation_importance(dtree,train_X,train_y,n_repeats=25)"
   ]
  },
  {
   "cell_type": "code",
   "execution_count": 21,
   "metadata": {},
   "outputs": [
    {
     "data": {
      "text/html": [
       "<div>\n",
       "<style scoped>\n",
       "    .dataframe tbody tr th:only-of-type {\n",
       "        vertical-align: middle;\n",
       "    }\n",
       "\n",
       "    .dataframe tbody tr th {\n",
       "        vertical-align: top;\n",
       "    }\n",
       "\n",
       "    .dataframe thead th {\n",
       "        text-align: right;\n",
       "    }\n",
       "</style>\n",
       "<table border=\"1\" class=\"dataframe\">\n",
       "  <thead>\n",
       "    <tr style=\"text-align: right;\">\n",
       "      <th></th>\n",
       "      <th>variable</th>\n",
       "      <th>vi</th>\n",
       "      <th>std</th>\n",
       "      <th>low</th>\n",
       "      <th>high</th>\n",
       "    </tr>\n",
       "  </thead>\n",
       "  <tbody>\n",
       "    <tr>\n",
       "      <th>0</th>\n",
       "      <td>internet</td>\n",
       "      <td>0.093861</td>\n",
       "      <td>0.004404</td>\n",
       "      <td>0.085053</td>\n",
       "      <td>0.102669</td>\n",
       "    </tr>\n",
       "    <tr>\n",
       "      <th>1</th>\n",
       "      <td>poverty</td>\n",
       "      <td>0.084565</td>\n",
       "      <td>0.002915</td>\n",
       "      <td>0.078734</td>\n",
       "      <td>0.090395</td>\n",
       "    </tr>\n",
       "    <tr>\n",
       "      <th>2</th>\n",
       "      <td>age</td>\n",
       "      <td>0.074617</td>\n",
       "      <td>0.005464</td>\n",
       "      <td>0.063690</td>\n",
       "      <td>0.085545</td>\n",
       "    </tr>\n",
       "    <tr>\n",
       "      <th>3</th>\n",
       "      <td>White_or_AAPI</td>\n",
       "      <td>0.052391</td>\n",
       "      <td>0.003043</td>\n",
       "      <td>0.046305</td>\n",
       "      <td>0.058478</td>\n",
       "    </tr>\n",
       "    <tr>\n",
       "      <th>4</th>\n",
       "      <td>income</td>\n",
       "      <td>0.032104</td>\n",
       "      <td>0.001876</td>\n",
       "      <td>0.028352</td>\n",
       "      <td>0.035857</td>\n",
       "    </tr>\n",
       "    <tr>\n",
       "      <th>5</th>\n",
       "      <td>education</td>\n",
       "      <td>0.027177</td>\n",
       "      <td>0.001711</td>\n",
       "      <td>0.023755</td>\n",
       "      <td>0.030599</td>\n",
       "    </tr>\n",
       "    <tr>\n",
       "      <th>6</th>\n",
       "      <td>ST_bnk_density</td>\n",
       "      <td>0.011976</td>\n",
       "      <td>0.002101</td>\n",
       "      <td>0.007774</td>\n",
       "      <td>0.016178</td>\n",
       "    </tr>\n",
       "    <tr>\n",
       "      <th>7</th>\n",
       "      <td>native_born</td>\n",
       "      <td>0.007217</td>\n",
       "      <td>0.000850</td>\n",
       "      <td>0.005517</td>\n",
       "      <td>0.008916</td>\n",
       "    </tr>\n",
       "    <tr>\n",
       "      <th>8</th>\n",
       "      <td>children</td>\n",
       "      <td>0.005582</td>\n",
       "      <td>0.000648</td>\n",
       "      <td>0.004286</td>\n",
       "      <td>0.006877</td>\n",
       "    </tr>\n",
       "    <tr>\n",
       "      <th>9</th>\n",
       "      <td>ST_UR_19</td>\n",
       "      <td>0.000000</td>\n",
       "      <td>0.000000</td>\n",
       "      <td>0.000000</td>\n",
       "      <td>0.000000</td>\n",
       "    </tr>\n",
       "    <tr>\n",
       "      <th>10</th>\n",
       "      <td>under_25</td>\n",
       "      <td>0.000000</td>\n",
       "      <td>0.000000</td>\n",
       "      <td>0.000000</td>\n",
       "      <td>0.000000</td>\n",
       "    </tr>\n",
       "    <tr>\n",
       "      <th>11</th>\n",
       "      <td>unemployed</td>\n",
       "      <td>0.000000</td>\n",
       "      <td>0.000000</td>\n",
       "      <td>0.000000</td>\n",
       "      <td>0.000000</td>\n",
       "    </tr>\n",
       "    <tr>\n",
       "      <th>12</th>\n",
       "      <td>citizen</td>\n",
       "      <td>0.000000</td>\n",
       "      <td>0.000000</td>\n",
       "      <td>0.000000</td>\n",
       "      <td>0.000000</td>\n",
       "    </tr>\n",
       "    <tr>\n",
       "      <th>13</th>\n",
       "      <td>inc_vol</td>\n",
       "      <td>0.000000</td>\n",
       "      <td>0.000000</td>\n",
       "      <td>0.000000</td>\n",
       "      <td>0.000000</td>\n",
       "    </tr>\n",
       "    <tr>\n",
       "      <th>14</th>\n",
       "      <td>single_mother</td>\n",
       "      <td>0.000000</td>\n",
       "      <td>0.000000</td>\n",
       "      <td>0.000000</td>\n",
       "      <td>0.000000</td>\n",
       "    </tr>\n",
       "  </tbody>\n",
       "</table>\n",
       "</div>"
      ],
      "text/plain": [
       "          variable        vi       std       low      high\n",
       "0         internet  0.093861  0.004404  0.085053  0.102669\n",
       "1          poverty  0.084565  0.002915  0.078734  0.090395\n",
       "2              age  0.074617  0.005464  0.063690  0.085545\n",
       "3    White_or_AAPI  0.052391  0.003043  0.046305  0.058478\n",
       "4           income  0.032104  0.001876  0.028352  0.035857\n",
       "5        education  0.027177  0.001711  0.023755  0.030599\n",
       "6   ST_bnk_density  0.011976  0.002101  0.007774  0.016178\n",
       "7      native_born  0.007217  0.000850  0.005517  0.008916\n",
       "8         children  0.005582  0.000648  0.004286  0.006877\n",
       "9         ST_UR_19  0.000000  0.000000  0.000000  0.000000\n",
       "10        under_25  0.000000  0.000000  0.000000  0.000000\n",
       "11      unemployed  0.000000  0.000000  0.000000  0.000000\n",
       "12         citizen  0.000000  0.000000  0.000000  0.000000\n",
       "13         inc_vol  0.000000  0.000000  0.000000  0.000000\n",
       "14   single_mother  0.000000  0.000000  0.000000  0.000000"
      ]
     },
     "execution_count": 21,
     "metadata": {},
     "output_type": "execute_result"
    }
   ],
   "source": [
    "# Organize as a data frame \n",
    "vi_dat = pd.DataFrame(dict(variable=train_X.columns,\n",
    "                           vi = vi['importances_mean'],\n",
    "                           std = vi['importances_std']))\n",
    "\n",
    "# Generate intervals\n",
    "vi_dat['low'] = vi_dat['vi'] - 2*vi_dat['std']\n",
    "vi_dat['high'] = vi_dat['vi'] + 2*vi_dat['std']\n",
    "\n",
    "# But in order from most to least important\n",
    "vi_dat = vi_dat.sort_values(by=\"vi\",ascending=False).reset_index(drop=True)\n",
    "\n",
    "\n",
    "vi_dat"
   ]
  },
  {
   "cell_type": "markdown",
   "metadata": {},
   "source": [
    "Run Decision Tree Seperately since it's the best model"
   ]
  }
 ],
 "metadata": {
  "kernelspec": {
   "display_name": "Python 3",
   "language": "python",
   "name": "python3"
  },
  "language_info": {
   "codemirror_mode": {
    "name": "ipython",
    "version": 3
   },
   "file_extension": ".py",
   "mimetype": "text/x-python",
   "name": "python",
   "nbconvert_exporter": "python",
   "pygments_lexer": "ipython3",
   "version": "3.8.5"
  }
 },
 "nbformat": 4,
 "nbformat_minor": 4
}
