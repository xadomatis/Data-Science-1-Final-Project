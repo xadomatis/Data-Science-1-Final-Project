{
 "cells": [
  {
   "cell_type": "markdown",
   "metadata": {},
   "source": [
    "# Use hh2 dataset to train a machine learning model"
   ]
  },
  {
   "cell_type": "code",
   "execution_count": 1,
   "metadata": {},
   "outputs": [],
   "source": [
    "# Data Management/Investigation\n",
    "import pandas as pd\n",
    "import numpy as np\n",
    "import missingno as miss\n",
    "from plotnine import *\n",
    "import matplotlib.pyplot as plt\n",
    "import warnings\n",
    "warnings.filterwarnings(\"ignore\")\n",
    "\n",
    "# For pre-processing data \n",
    "from sklearn import preprocessing as pp \n",
    "from sklearn.compose import ColumnTransformer \n",
    "\n",
    "# For splits and CV\n",
    "from sklearn.model_selection import train_test_split\n",
    "from sklearn.model_selection import KFold # Cross validation \n",
    "from sklearn.model_selection import cross_validate # Cross validation \n",
    "from sklearn.model_selection import GridSearchCV # Cross validation + param. tuning.\n",
    "\n",
    "# Machine learning methods \n",
    "from sklearn.linear_model import LinearRegression as LM\n",
    "from sklearn.neighbors import KNeighborsRegressor as KNN\n",
    "from sklearn.tree import DecisionTreeRegressor as DTree\n",
    "from sklearn import tree # For plotting the decision tree rules\n",
    "from sklearn.ensemble import BaggingRegressor as Bag\n",
    "from sklearn.ensemble import RandomForestRegressor as RF\n",
    "\n",
    "# For evaluating our model's performance\n",
    "import sklearn.metrics as m\n",
    "\n",
    "# Pipeline to combine modeling elements\n",
    "from sklearn.pipeline import Pipeline"
   ]
  },
  {
   "cell_type": "code",
   "execution_count": 2,
   "metadata": {},
   "outputs": [],
   "source": [
    "# Data Management/Investigation\n",
    "import pandas as pd\n",
    "from pandas.api.types import CategoricalDtype # Ordering categories\n",
    "import numpy as np\n",
    "import missingno as miss\n",
    "\n",
    "# Plotting libraries\n",
    "from plotnine import *\n",
    "import matplotlib.pyplot as plt\n",
    "\n",
    "# For pre-processing data \n",
    "from sklearn import preprocessing as pp \n",
    "from sklearn.compose import ColumnTransformer \n",
    "\n",
    "# For splits and CV\n",
    "from sklearn.model_selection import train_test_split\n",
    "from sklearn.model_selection import KFold # Cross validation \n",
    "from sklearn.model_selection import cross_validate # Cross validation \n",
    "from sklearn.model_selection import GridSearchCV # Cross validation + param. tuning.\n",
    "\n",
    "# Machine learning methods \n",
    "from sklearn.naive_bayes import GaussianNB as NB\n",
    "from sklearn.neighbors import KNeighborsClassifier as KNN\n",
    "from sklearn.tree import DecisionTreeClassifier as DT\n",
    "from sklearn.tree import DecisionTreeRegressor as DT_reg\n",
    "from sklearn.ensemble import RandomForestClassifier as RF\n",
    "from sklearn import tree # For plotting the decision tree rules\n",
    "\n",
    "# For evaluating our model's performance\n",
    "import sklearn.metrics as m\n",
    "\n",
    "# Pipeline to combine modeling elements\n",
    "from sklearn.pipeline import Pipeline\n",
    "\n",
    "# For model interpretation\n",
    "from sklearn.inspection import (\n",
    "    permutation_importance,\n",
    "    partial_dependence, \n",
    "    PartialDependenceDisplay, \n",
    "    plot_partial_dependence\n",
    ")\n",
    "\n",
    "# Misc\n",
    "import warnings\n",
    "warnings.filterwarnings(\"ignore\")"
   ]
  },
  {
   "cell_type": "markdown",
   "metadata": {},
   "source": [
    "Import Dataset and remove variables where outcome is a nonstarter"
   ]
  },
  {
   "cell_type": "code",
   "execution_count": 3,
   "metadata": {},
   "outputs": [],
   "source": [
    "hh = pd.read_csv(\"/Users/xavier/Desktop/DSPP/DS/Data-Science-1-Final-Project/Data_Wrangling/hh3.csv\")"
   ]
  },
  {
   "cell_type": "code",
   "execution_count": 4,
   "metadata": {},
   "outputs": [
    {
     "data": {
      "text/plain": [
       "(70203, 19)"
      ]
     },
     "execution_count": 4,
     "metadata": {},
     "output_type": "execute_result"
    }
   ],
   "source": [
    "hh.shape"
   ]
  },
  {
   "cell_type": "code",
   "execution_count": 5,
   "metadata": {},
   "outputs": [],
   "source": [
    "hh = hh[hh.unbanked >= 0]"
   ]
  },
  {
   "cell_type": "code",
   "execution_count": 6,
   "metadata": {},
   "outputs": [],
   "source": [
    "#create a \n",
    "state = hh.groupby('FIPS').mean()"
   ]
  },
  {
   "cell_type": "code",
   "execution_count": 7,
   "metadata": {},
   "outputs": [
    {
     "data": {
      "text/plain": [
       "1.5565248511591987"
      ]
     },
     "execution_count": 7,
     "metadata": {},
     "output_type": "execute_result"
    }
   ],
   "source": [
    "state[\"survey_ur\"] = state[\"unemployed\"]*100\n",
    "state[\"ur_diff\"] = state[\"ST_UR_19\"] - state[\"survey_ur\"]\n",
    "state.ur_diff.mean()"
   ]
  },
  {
   "cell_type": "code",
   "execution_count": 8,
   "metadata": {},
   "outputs": [],
   "source": [
    "#drop DC\n",
    "state = state.dropna()"
   ]
  },
  {
   "cell_type": "code",
   "execution_count": 9,
   "metadata": {},
   "outputs": [
    {
     "data": {
      "text/html": [
       "<div>\n",
       "<style scoped>\n",
       "    .dataframe tbody tr th:only-of-type {\n",
       "        vertical-align: middle;\n",
       "    }\n",
       "\n",
       "    .dataframe tbody tr th {\n",
       "        vertical-align: top;\n",
       "    }\n",
       "\n",
       "    .dataframe thead th {\n",
       "        text-align: right;\n",
       "    }\n",
       "</style>\n",
       "<table border=\"1\" class=\"dataframe\">\n",
       "  <thead>\n",
       "    <tr style=\"text-align: right;\">\n",
       "      <th></th>\n",
       "      <th>FIPS</th>\n",
       "      <th>Unnamed: 0</th>\n",
       "      <th>unbanked</th>\n",
       "      <th>ST_bnk_density</th>\n",
       "      <th>ST_UR_19</th>\n",
       "      <th>income</th>\n",
       "      <th>age</th>\n",
       "      <th>education</th>\n",
       "      <th>bank_prev</th>\n",
       "      <th>poverty</th>\n",
       "      <th>...</th>\n",
       "      <th>unemployed</th>\n",
       "      <th>citizen</th>\n",
       "      <th>native_born</th>\n",
       "      <th>White_or_AAPI</th>\n",
       "      <th>inc_vol</th>\n",
       "      <th>internet</th>\n",
       "      <th>children</th>\n",
       "      <th>single_mother</th>\n",
       "      <th>survey_ur</th>\n",
       "      <th>ur_diff</th>\n",
       "    </tr>\n",
       "  </thead>\n",
       "  <tbody>\n",
       "    <tr>\n",
       "      <th>0</th>\n",
       "      <td>1</td>\n",
       "      <td>25622.359133</td>\n",
       "      <td>0.071207</td>\n",
       "      <td>0.000022</td>\n",
       "      <td>3.0</td>\n",
       "      <td>3.249226</td>\n",
       "      <td>54.461300</td>\n",
       "      <td>2.668731</td>\n",
       "      <td>0.037325</td>\n",
       "      <td>0.153251</td>\n",
       "      <td>...</td>\n",
       "      <td>0.004644</td>\n",
       "      <td>1.041796</td>\n",
       "      <td>1.041796</td>\n",
       "      <td>0.766254</td>\n",
       "      <td>1.196594</td>\n",
       "      <td>0.660991</td>\n",
       "      <td>0.229102</td>\n",
       "      <td>0.086687</td>\n",
       "      <td>0.464396</td>\n",
       "      <td>2.535604</td>\n",
       "    </tr>\n",
       "    <tr>\n",
       "      <th>1</th>\n",
       "      <td>2</td>\n",
       "      <td>29113.423295</td>\n",
       "      <td>0.034091</td>\n",
       "      <td>0.000007</td>\n",
       "      <td>5.4</td>\n",
       "      <td>3.880682</td>\n",
       "      <td>48.409091</td>\n",
       "      <td>3.048295</td>\n",
       "      <td>0.022727</td>\n",
       "      <td>0.062500</td>\n",
       "      <td>...</td>\n",
       "      <td>0.011364</td>\n",
       "      <td>1.085227</td>\n",
       "      <td>1.085227</td>\n",
       "      <td>0.778409</td>\n",
       "      <td>1.309659</td>\n",
       "      <td>0.812500</td>\n",
       "      <td>0.312500</td>\n",
       "      <td>0.079545</td>\n",
       "      <td>1.136364</td>\n",
       "      <td>4.263636</td>\n",
       "    </tr>\n",
       "    <tr>\n",
       "      <th>2</th>\n",
       "      <td>4</td>\n",
       "      <td>29974.016514</td>\n",
       "      <td>0.040367</td>\n",
       "      <td>0.000002</td>\n",
       "      <td>4.9</td>\n",
       "      <td>3.568807</td>\n",
       "      <td>52.060550</td>\n",
       "      <td>2.935780</td>\n",
       "      <td>0.023853</td>\n",
       "      <td>0.099083</td>\n",
       "      <td>...</td>\n",
       "      <td>0.031193</td>\n",
       "      <td>1.260550</td>\n",
       "      <td>1.260550</td>\n",
       "      <td>0.666055</td>\n",
       "      <td>1.245872</td>\n",
       "      <td>0.807339</td>\n",
       "      <td>0.306422</td>\n",
       "      <td>0.115596</td>\n",
       "      <td>3.119266</td>\n",
       "      <td>1.780734</td>\n",
       "    </tr>\n",
       "    <tr>\n",
       "      <th>3</th>\n",
       "      <td>5</td>\n",
       "      <td>31293.446565</td>\n",
       "      <td>0.061069</td>\n",
       "      <td>0.000029</td>\n",
       "      <td>3.5</td>\n",
       "      <td>3.194656</td>\n",
       "      <td>52.625954</td>\n",
       "      <td>2.729008</td>\n",
       "      <td>0.034417</td>\n",
       "      <td>0.145038</td>\n",
       "      <td>...</td>\n",
       "      <td>0.020992</td>\n",
       "      <td>1.070611</td>\n",
       "      <td>1.070611</td>\n",
       "      <td>0.799618</td>\n",
       "      <td>1.208015</td>\n",
       "      <td>0.751908</td>\n",
       "      <td>0.253817</td>\n",
       "      <td>0.122137</td>\n",
       "      <td>2.099237</td>\n",
       "      <td>1.400763</td>\n",
       "    </tr>\n",
       "    <tr>\n",
       "      <th>4</th>\n",
       "      <td>6</td>\n",
       "      <td>29786.486600</td>\n",
       "      <td>0.052833</td>\n",
       "      <td>0.000004</td>\n",
       "      <td>4.2</td>\n",
       "      <td>3.782925</td>\n",
       "      <td>52.154288</td>\n",
       "      <td>2.995406</td>\n",
       "      <td>0.019150</td>\n",
       "      <td>0.081547</td>\n",
       "      <td>...</td>\n",
       "      <td>0.027565</td>\n",
       "      <td>1.424579</td>\n",
       "      <td>1.424579</td>\n",
       "      <td>0.651608</td>\n",
       "      <td>1.229709</td>\n",
       "      <td>0.821210</td>\n",
       "      <td>0.276034</td>\n",
       "      <td>0.126340</td>\n",
       "      <td>2.756508</td>\n",
       "      <td>1.443492</td>\n",
       "    </tr>\n",
       "  </tbody>\n",
       "</table>\n",
       "<p>5 rows × 21 columns</p>\n",
       "</div>"
      ],
      "text/plain": [
       "   FIPS    Unnamed: 0  unbanked  ST_bnk_density  ST_UR_19    income  \\\n",
       "0     1  25622.359133  0.071207        0.000022       3.0  3.249226   \n",
       "1     2  29113.423295  0.034091        0.000007       5.4  3.880682   \n",
       "2     4  29974.016514  0.040367        0.000002       4.9  3.568807   \n",
       "3     5  31293.446565  0.061069        0.000029       3.5  3.194656   \n",
       "4     6  29786.486600  0.052833        0.000004       4.2  3.782925   \n",
       "\n",
       "         age  education  bank_prev   poverty  ...  unemployed   citizen  \\\n",
       "0  54.461300   2.668731   0.037325  0.153251  ...    0.004644  1.041796   \n",
       "1  48.409091   3.048295   0.022727  0.062500  ...    0.011364  1.085227   \n",
       "2  52.060550   2.935780   0.023853  0.099083  ...    0.031193  1.260550   \n",
       "3  52.625954   2.729008   0.034417  0.145038  ...    0.020992  1.070611   \n",
       "4  52.154288   2.995406   0.019150  0.081547  ...    0.027565  1.424579   \n",
       "\n",
       "   native_born  White_or_AAPI   inc_vol  internet  children  single_mother  \\\n",
       "0     1.041796       0.766254  1.196594  0.660991  0.229102       0.086687   \n",
       "1     1.085227       0.778409  1.309659  0.812500  0.312500       0.079545   \n",
       "2     1.260550       0.666055  1.245872  0.807339  0.306422       0.115596   \n",
       "3     1.070611       0.799618  1.208015  0.751908  0.253817       0.122137   \n",
       "4     1.424579       0.651608  1.229709  0.821210  0.276034       0.126340   \n",
       "\n",
       "   survey_ur   ur_diff  \n",
       "0   0.464396  2.535604  \n",
       "1   1.136364  4.263636  \n",
       "2   3.119266  1.780734  \n",
       "3   2.099237  1.400763  \n",
       "4   2.756508  1.443492  \n",
       "\n",
       "[5 rows x 21 columns]"
      ]
     },
     "execution_count": 9,
     "metadata": {},
     "output_type": "execute_result"
    }
   ],
   "source": [
    "state.reset_index(inplace=True)\n",
    "state.head()"
   ]
  },
  {
   "cell_type": "markdown",
   "metadata": {},
   "source": [
    "Split the data by X and Y and prepare training sample"
   ]
  },
  {
   "cell_type": "code",
   "execution_count": 10,
   "metadata": {},
   "outputs": [],
   "source": [
    "y = state[\"unbanked\"]\n",
    "X = state[[\"ST_bnk_density\",\"ST_UR_19\",\"income\",\"age\",\"education\",\"poverty\",\"under_25\",\"unemployed\",\"citizen\",\"native_born\",\"White_or_AAPI\",\"inc_vol\",\"internet\",\"children\",\"single_mother\"]]"
   ]
  },
  {
   "cell_type": "code",
   "execution_count": 11,
   "metadata": {},
   "outputs": [],
   "source": [
    "train_X, test_X, train_y, test_y = train_test_split(X,y,test_size=.1,random_state=1999)"
   ]
  },
  {
   "cell_type": "code",
   "execution_count": 12,
   "metadata": {},
   "outputs": [],
   "source": [
    "# Let's scale data\n",
    "scaler = pp.MinMaxScaler()\n",
    "col_names = list(train_X)\n",
    "train_X = scaler.fit_transform(train_X)"
   ]
  },
  {
   "cell_type": "code",
   "execution_count": 13,
   "metadata": {},
   "outputs": [],
   "source": [
    "# Convert back into data frame\n",
    "train_X = pd.DataFrame(train_X,columns=col_names)"
   ]
  },
  {
   "cell_type": "code",
   "execution_count": 14,
   "metadata": {},
   "outputs": [
    {
     "data": {
      "text/plain": [
       "GridSearchCV(cv=KFold(n_splits=5, random_state=111, shuffle=True),\n",
       "             estimator=Pipeline(steps=[('pre_process',\n",
       "                                        ColumnTransformer(transformers=[('num',\n",
       "                                                                         MinMaxScaler(),\n",
       "                                                                         ['ST_bnk_density',\n",
       "                                                                          'ST_UR_19',\n",
       "                                                                          'income',\n",
       "                                                                          'age',\n",
       "                                                                          'education',\n",
       "                                                                          'poverty',\n",
       "                                                                          'under_25',\n",
       "                                                                          'unemployed',\n",
       "                                                                          'citizen',\n",
       "                                                                          'native_born',\n",
       "                                                                          'White_or_AAPI',\n",
       "                                                                          'inc_vol',\n",
       "                                                                          'internet',\n",
       "                                                                          'children',\n",
       "                                                                          'single_mother'])])),\n",
       "                                       ('model'...\n",
       "             n_jobs=4,\n",
       "             param_grid=[{'model': [LinearRegression()]},\n",
       "                         {'model': [KNeighborsClassifier()],\n",
       "                          'model__n_neighbors': [10, 15, 20, 25, 30]},\n",
       "                         {'model': [DecisionTreeRegressor()],\n",
       "                          'model__max_depth': [1, 2, 3, 5]},\n",
       "                         {'model': [BaggingRegressor()]},\n",
       "                         {'model': [RandomForestClassifier()],\n",
       "                          'model__max_depth': [1, 2, 3],\n",
       "                          'model__n_estimators': [500, 1000, 1250]}],\n",
       "             scoring='neg_mean_squared_error')"
      ]
     },
     "execution_count": 14,
     "metadata": {},
     "output_type": "execute_result"
    }
   ],
   "source": [
    "# (1) Set the folds index to ensure comparable samples\n",
    "fold_generator = KFold(n_splits=5, shuffle=True,random_state=111)\n",
    "\n",
    "# (2) Next specify the preprocessing steps\n",
    "preprocess = ColumnTransformer(transformers=[('num', pp.MinMaxScaler(), [\"ST_bnk_density\",\"ST_UR_19\",\"income\",\"age\",\"education\",\"poverty\",\"under_25\",\"unemployed\",\"citizen\",\"native_born\",\"White_or_AAPI\",\"inc_vol\",\"internet\",\"children\",\"single_mother\"])])\n",
    "\n",
    "\n",
    "# (3) Next Let's create our model pipe (note for the model we leave none as a placeholder)\n",
    "pipe = Pipeline(steps=[('pre_process', preprocess),\n",
    "                       ('model',None)])\n",
    "\n",
    "\n",
    "# (4) Specify the models and their repsective tuning parameters. \n",
    "# Note the naming convention here to reference the model key\n",
    "search_space = [\n",
    "    # Linear Model\n",
    "    {'model' : [LM()]},\n",
    "    \n",
    "    # KNN with K tuning param\n",
    "    {'model' : [KNN()],\n",
    "     'model__n_neighbors':[10,15,20,25,30]},\n",
    "    \n",
    "    # Decision Tree with the Max Depth Param\n",
    "    {'model': [DTree()],\n",
    "     'model__max_depth':[1,2,3,5]},\n",
    "    \n",
    "    # The Bagging decision tree model \n",
    "    {'model': [Bag()]},\n",
    "    \n",
    "    # Random forest with the N Estimators tuning param\n",
    "    {'model' : [RF()],\n",
    "     'model__max_depth':[1,2,3],\n",
    "     'model__n_estimators':[500,1000,1250]},\n",
    "]\n",
    "\n",
    "\n",
    "# (5) Put it all together in the grid search\n",
    "search = GridSearchCV(pipe, search_space, \n",
    "                      cv = fold_generator,\n",
    "                      scoring='neg_mean_squared_error',\n",
    "                      n_jobs=4)\n",
    "\n",
    "# (6) Fit the model to the training data\n",
    "search.fit(train_X,train_y)"
   ]
  },
  {
   "cell_type": "code",
   "execution_count": 15,
   "metadata": {},
   "outputs": [
    {
     "data": {
      "text/plain": [
       "-0.00022713547635159803"
      ]
     },
     "execution_count": 15,
     "metadata": {},
     "output_type": "execute_result"
    }
   ],
   "source": [
    "search.best_score_"
   ]
  },
  {
   "cell_type": "code",
   "execution_count": 16,
   "metadata": {},
   "outputs": [
    {
     "data": {
      "text/plain": [
       "{'model': BaggingRegressor()}"
      ]
     },
     "execution_count": 16,
     "metadata": {},
     "output_type": "execute_result"
    }
   ],
   "source": [
    "search.best_params_"
   ]
  },
  {
   "cell_type": "code",
   "execution_count": 17,
   "metadata": {},
   "outputs": [],
   "source": [
    "#the best model is a random forest so we need to establish it as a variable\n",
    "dtree = search.best_estimator_"
   ]
  },
  {
   "cell_type": "code",
   "execution_count": 18,
   "metadata": {},
   "outputs": [],
   "source": [
    "pred_y = search.predict(test_X)"
   ]
  },
  {
   "cell_type": "code",
   "execution_count": 19,
   "metadata": {},
   "outputs": [
    {
     "data": {
      "text/plain": [
       "0.0004553687963867109"
      ]
     },
     "execution_count": 19,
     "metadata": {},
     "output_type": "execute_result"
    }
   ],
   "source": [
    "m.mean_squared_error(test_y,pred_y)"
   ]
  },
  {
   "cell_type": "code",
   "execution_count": 20,
   "metadata": {},
   "outputs": [
    {
     "data": {
      "text/plain": [
       "-1.7948387837859632"
      ]
     },
     "execution_count": 20,
     "metadata": {},
     "output_type": "execute_result"
    }
   ],
   "source": [
    "m.r2_score(test_y,pred_y)"
   ]
  },
  {
   "cell_type": "code",
   "execution_count": 21,
   "metadata": {},
   "outputs": [],
   "source": [
    "#permute features to determine importances\n",
    "vi = permutation_importance(dtree,train_X,train_y,n_repeats=25)"
   ]
  },
  {
   "cell_type": "code",
   "execution_count": 22,
   "metadata": {
    "scrolled": true
   },
   "outputs": [
    {
     "data": {
      "image/png": "[encoded data removed]",
      "text/plain": [
       "<Figure size 640x480 with 1 Axes>"
      ]
     },
     "metadata": {},
     "output_type": "display_data"
    },
    {
     "data": {
      "text/plain": [
       "<ggplot: (8761524450169)>"
      ]
     },
     "execution_count": 22,
     "metadata": {},
     "output_type": "execute_result"
    }
   ],
   "source": [
    "(\n",
    "    ggplot(pd.DataFrame(dict(pred=pred_y,truth=test_y)),\n",
    "          aes(x='pred',y=\"truth\")) +\n",
    "    geom_jitter(color=\"darkgreen\", size=1, width = 0.2, height = 0.2) +\n",
    "    geom_abline(color=\"gold\",size=1) +\n",
    "    theme_bw() \n",
    ")"
   ]
  },
  {
   "cell_type": "markdown",
   "metadata": {},
   "source": [
    "Run Decision Tree Seperately since it's the best model"
   ]
  },
  {
   "cell_type": "code",
   "execution_count": 23,
   "metadata": {},
   "outputs": [],
   "source": [
    "#permute features to determine importances\n",
    "vi = permutation_importance(dtree,train_X,train_y,n_repeats=25)"
   ]
  },
  {
   "cell_type": "code",
   "execution_count": 24,
   "metadata": {},
   "outputs": [
    {
     "data": {
      "text/html": [
       "<div>\n",
       "<style scoped>\n",
       "    .dataframe tbody tr th:only-of-type {\n",
       "        vertical-align: middle;\n",
       "    }\n",
       "\n",
       "    .dataframe tbody tr th {\n",
       "        vertical-align: top;\n",
       "    }\n",
       "\n",
       "    .dataframe thead th {\n",
       "        text-align: right;\n",
       "    }\n",
       "</style>\n",
       "<table border=\"1\" class=\"dataframe\">\n",
       "  <thead>\n",
       "    <tr style=\"text-align: right;\">\n",
       "      <th></th>\n",
       "      <th>variable</th>\n",
       "      <th>vi</th>\n",
       "      <th>std</th>\n",
       "      <th>low</th>\n",
       "      <th>high</th>\n",
       "    </tr>\n",
       "  </thead>\n",
       "  <tbody>\n",
       "    <tr>\n",
       "      <th>0</th>\n",
       "      <td>income</td>\n",
       "      <td>0.202294</td>\n",
       "      <td>0.056877</td>\n",
       "      <td>0.088541</td>\n",
       "      <td>0.316047</td>\n",
       "    </tr>\n",
       "    <tr>\n",
       "      <th>1</th>\n",
       "      <td>single_mother</td>\n",
       "      <td>0.193177</td>\n",
       "      <td>0.050408</td>\n",
       "      <td>0.092361</td>\n",
       "      <td>0.293993</td>\n",
       "    </tr>\n",
       "    <tr>\n",
       "      <th>2</th>\n",
       "      <td>White_or_AAPI</td>\n",
       "      <td>0.147906</td>\n",
       "      <td>0.032973</td>\n",
       "      <td>0.081960</td>\n",
       "      <td>0.213852</td>\n",
       "    </tr>\n",
       "    <tr>\n",
       "      <th>3</th>\n",
       "      <td>children</td>\n",
       "      <td>0.036281</td>\n",
       "      <td>0.013799</td>\n",
       "      <td>0.008682</td>\n",
       "      <td>0.063879</td>\n",
       "    </tr>\n",
       "    <tr>\n",
       "      <th>4</th>\n",
       "      <td>internet</td>\n",
       "      <td>0.035281</td>\n",
       "      <td>0.009949</td>\n",
       "      <td>0.015382</td>\n",
       "      <td>0.055180</td>\n",
       "    </tr>\n",
       "    <tr>\n",
       "      <th>5</th>\n",
       "      <td>age</td>\n",
       "      <td>0.032123</td>\n",
       "      <td>0.007159</td>\n",
       "      <td>0.017804</td>\n",
       "      <td>0.046441</td>\n",
       "    </tr>\n",
       "    <tr>\n",
       "      <th>6</th>\n",
       "      <td>ST_bnk_density</td>\n",
       "      <td>0.031241</td>\n",
       "      <td>0.007353</td>\n",
       "      <td>0.016536</td>\n",
       "      <td>0.045946</td>\n",
       "    </tr>\n",
       "    <tr>\n",
       "      <th>7</th>\n",
       "      <td>under_25</td>\n",
       "      <td>0.023575</td>\n",
       "      <td>0.005246</td>\n",
       "      <td>0.013084</td>\n",
       "      <td>0.034067</td>\n",
       "    </tr>\n",
       "    <tr>\n",
       "      <th>8</th>\n",
       "      <td>education</td>\n",
       "      <td>0.019718</td>\n",
       "      <td>0.006044</td>\n",
       "      <td>0.007630</td>\n",
       "      <td>0.031807</td>\n",
       "    </tr>\n",
       "    <tr>\n",
       "      <th>9</th>\n",
       "      <td>ST_UR_19</td>\n",
       "      <td>0.013087</td>\n",
       "      <td>0.005079</td>\n",
       "      <td>0.002930</td>\n",
       "      <td>0.023244</td>\n",
       "    </tr>\n",
       "    <tr>\n",
       "      <th>10</th>\n",
       "      <td>citizen</td>\n",
       "      <td>0.011196</td>\n",
       "      <td>0.003752</td>\n",
       "      <td>0.003692</td>\n",
       "      <td>0.018701</td>\n",
       "    </tr>\n",
       "    <tr>\n",
       "      <th>11</th>\n",
       "      <td>poverty</td>\n",
       "      <td>0.009824</td>\n",
       "      <td>0.003761</td>\n",
       "      <td>0.002302</td>\n",
       "      <td>0.017345</td>\n",
       "    </tr>\n",
       "    <tr>\n",
       "      <th>12</th>\n",
       "      <td>inc_vol</td>\n",
       "      <td>0.008635</td>\n",
       "      <td>0.002436</td>\n",
       "      <td>0.003763</td>\n",
       "      <td>0.013507</td>\n",
       "    </tr>\n",
       "    <tr>\n",
       "      <th>13</th>\n",
       "      <td>unemployed</td>\n",
       "      <td>0.007636</td>\n",
       "      <td>0.002264</td>\n",
       "      <td>0.003109</td>\n",
       "      <td>0.012163</td>\n",
       "    </tr>\n",
       "    <tr>\n",
       "      <th>14</th>\n",
       "      <td>native_born</td>\n",
       "      <td>0.001497</td>\n",
       "      <td>0.001231</td>\n",
       "      <td>-0.000965</td>\n",
       "      <td>0.003960</td>\n",
       "    </tr>\n",
       "  </tbody>\n",
       "</table>\n",
       "</div>"
      ],
      "text/plain": [
       "          variable        vi       std       low      high\n",
       "0           income  0.202294  0.056877  0.088541  0.316047\n",
       "1    single_mother  0.193177  0.050408  0.092361  0.293993\n",
       "2    White_or_AAPI  0.147906  0.032973  0.081960  0.213852\n",
       "3         children  0.036281  0.013799  0.008682  0.063879\n",
       "4         internet  0.035281  0.009949  0.015382  0.055180\n",
       "5              age  0.032123  0.007159  0.017804  0.046441\n",
       "6   ST_bnk_density  0.031241  0.007353  0.016536  0.045946\n",
       "7         under_25  0.023575  0.005246  0.013084  0.034067\n",
       "8        education  0.019718  0.006044  0.007630  0.031807\n",
       "9         ST_UR_19  0.013087  0.005079  0.002930  0.023244\n",
       "10         citizen  0.011196  0.003752  0.003692  0.018701\n",
       "11         poverty  0.009824  0.003761  0.002302  0.017345\n",
       "12         inc_vol  0.008635  0.002436  0.003763  0.013507\n",
       "13      unemployed  0.007636  0.002264  0.003109  0.012163\n",
       "14     native_born  0.001497  0.001231 -0.000965  0.003960"
      ]
     },
     "execution_count": 24,
     "metadata": {},
     "output_type": "execute_result"
    }
   ],
   "source": [
    "# Organize as a data frame \n",
    "vi_dat = pd.DataFrame(dict(variable=train_X.columns,\n",
    "                           vi = vi['importances_mean'],\n",
    "                           std = vi['importances_std']))\n",
    "\n",
    "# Generate intervals\n",
    "vi_dat['low'] = vi_dat['vi'] - 2*vi_dat['std']\n",
    "vi_dat['high'] = vi_dat['vi'] + 2*vi_dat['std']\n",
    "\n",
    "# But in order from most to least important\n",
    "vi_dat = vi_dat.sort_values(by=\"vi\",ascending=False).reset_index(drop=True)\n",
    "\n",
    "\n",
    "vi_dat"
   ]
  }
 ],
 "metadata": {
  "kernelspec": {
   "display_name": "Python 3",
   "language": "python",
   "name": "python3"
  },
  "language_info": {
   "codemirror_mode": {
    "name": "ipython",
    "version": 3
   },
   "file_extension": ".py",
   "mimetype": "text/x-python",
   "name": "python",
   "nbconvert_exporter": "python",
   "pygments_lexer": "ipython3",
   "version": "3.8.5"
  }
 },
 "nbformat": 4,
 "nbformat_minor": 4
}
