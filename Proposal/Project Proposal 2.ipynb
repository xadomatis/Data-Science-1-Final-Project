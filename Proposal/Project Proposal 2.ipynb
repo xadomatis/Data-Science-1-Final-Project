{
 "cells": [
  {
   "cell_type": "markdown",
   "metadata": {},
   "source": [
    "# Applying Machine Learning to Assess Unbanked and Underbanked"
   ]
  },
  {
   "cell_type": "markdown",
   "metadata": {},
   "source": [
    "## Outline of the Problem"
   ]
  },
  {
   "cell_type": "markdown",
   "metadata": {},
   "source": [
    "   Every two years, the Federal Deposit Insurance Corporation and the Census Bureau Collaborate on the Household Survey, an assessment of the usage of financial services and other financial outcomes. Using machine learning on the data, I hope to evaluate attributes of a survey respondent as predictive of a few of their banking outcomes. Primarily, I intend for the target dependent variable to be the unbanked rate, but more broadly I'm hoping to capture other aspects, like the use of inferior finacial products, to analyze dire issues within financial services.\n",
    "   \n",
    "   Hopefully, the model will highlight demographic gaps in the financial variables, and identify target areas and groups for public policy. Legislation like the Community Reinvestment Act has sought to undo racial discrimination in finance but has increased geographic disparities, and as banking technology improves, many groups have been left in the dust."
   ]
  },
  {
   "cell_type": "markdown",
   "metadata": {},
   "source": [
    "## Data Wrangling"
   ]
  },
  {
   "cell_type": "markdown",
   "metadata": {},
   "source": [
    "   I plan to start with the 2019 survey data, but eventually would be interested in going backwards. As of now, it appears that each survey takes an independent sample, so models trained on 2019 data could easily be applied backwards, so long as the survey contains the relevant variables (the 2011 and before surveys are much different). \n",
    "   \n",
    "   Initially, the data itself requires a good bit of reworking; the dataset contains large swathes of receycled variables from previous years, no longer filled out, and ~half of the dataset is missing a survey suppliment that gives much more detail on financial outcomes. The data needs to be streamlined so it isn't overburdened with computing power. Then, certain variables need to be reworked in terms of demographics. So far in my experience, key demographics like single mothers are unrepresented in datatypes (lumped in with \"unmarried female headed households\"). In order to examine specific detailed family structures, I'll have to pull from the resident-level suppliment, which contains much more complex data than the household suppliment.\n",
    "    \n",
    "   Then, I hope to organize it with georgraphic data as possible inputs; the survey already contains respondent demographics, such as family type, race, gender, income, geographic location, etc. in addition to banking outcomes like usage of banks and alternative financial services, but I want to pair it with broader geographic features when constructing the model to see if any of those attributes are predictive of poor banking outcomes."
   ]
  },
  {
   "cell_type": "markdown",
   "metadata": {},
   "source": [
    "## Objectives"
   ]
  },
  {
   "cell_type": "markdown",
   "metadata": {},
   "source": [
    "   I'll mostly be looking to create an effective statistical model to predict banking outcomes; organizing the data and training a model will be particularly complex, but the final version of the data should contain ample information for model construction. Success means identifiying areas and groups that need to be targeted for increasing banking outcomes."
   ]
  },
  {
   "cell_type": "markdown",
   "metadata": {},
   "source": [
    "## Data Sources"
   ]
  },
  {
   "cell_type": "markdown",
   "metadata": {},
   "source": [
    "### FDIC Surveys\n",
    "https://www.fdic.gov/analysis/household-survey/\n",
    "### BLS County Level Employment (found under \"County Data\")\n",
    "https://www.bls.gov/lau/\n",
    "### Census County Data\n",
    "https://www.census.gov/programs-surveys/geography/guidance/geo-areas/urban-rural/2010-urban-rural.html"
   ]
  },
  {
   "cell_type": "markdown",
   "metadata": {},
   "source": [
    "## Responses to Feedback"
   ]
  },
  {
   "cell_type": "markdown",
   "metadata": {},
   "source": [
    "- The 2019 survey contains roughly 70,000 household observations with approximatley 30,000 that have been selected to fill out a suppliment with much more complete data. The main dataset is at the household level, but one of the supplimental datasets contains resident-level data. The resident-level data is proprietary for FDIC, but I should be clear to extract data most important to me, which is specific models of family type not captured by census. \n",
    "- The unbanked variable is binary, but has a variety of other variables from the survey answering questions like the reason for not being banked and the usage of alternative financial services\n",
    "- The survey and suppliment are carried out by census, so i would expect the biases to be those common among census surveys; undercapturing undocumented migrants, trouble reaching distant households, etc. \n",
    "- As to systemically missing variables, there certainly is bias between the reachability; however, the suppliment questions generally avoid any potentially embarassing information like amounts of money. Given the size of the unbanked population and the large amount of data supplied, we will have enough information for preliminary estimations"
   ]
  }
 ],
 "metadata": {
  "kernelspec": {
   "display_name": "Python 3",
   "language": "python",
   "name": "python3"
  },
  "language_info": {
   "codemirror_mode": {
    "name": "ipython",
    "version": 3
   },
   "file_extension": ".py",
   "mimetype": "text/x-python",
   "name": "python",
   "nbconvert_exporter": "python",
   "pygments_lexer": "ipython3",
   "version": "3.8.5"
  }
 },
 "nbformat": 4,
 "nbformat_minor": 4
}
