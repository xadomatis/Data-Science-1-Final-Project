{
 "cells": [
  {
   "cell_type": "markdown",
   "metadata": {},
   "source": [
    "In this document I'll create and modify variables necessary for my machine learning"
   ]
  },
  {
   "cell_type": "code",
   "execution_count": 1,
   "metadata": {},
   "outputs": [],
   "source": [
    "import pandas as pd"
   ]
  },
  {
   "cell_type": "code",
   "execution_count": 2,
   "metadata": {},
   "outputs": [],
   "source": [
    "hh = pd.read_csv(\"/Users/xavier/Desktop/DSPP/DS/Data-Science-1-Final-Project/Data_Wrangling/hh_2019.csv\")"
   ]
  },
  {
   "cell_type": "code",
   "execution_count": 3,
   "metadata": {},
   "outputs": [],
   "source": [
    "#in previous work with the data, I've noticed that hrhhid is almost unique but approximatley 5000 households share the same ID (duplexes or roommates I've been told)\n",
    "#the two ID numbers have to be combines to have as an index\n",
    "unique_id = hh['hrhhid'] + hh['hrhhid2']\n",
    "hh.insert(0,\"id\",unique_id)"
   ]
  },
  {
   "cell_type": "code",
   "execution_count": 4,
   "metadata": {},
   "outputs": [],
   "source": [
    "#drop irrelevant ID columns\n",
    "hh = hh.drop(hh.columns[1:4], axis=1)"
   ]
  },
  {
   "cell_type": "code",
   "execution_count": 5,
   "metadata": {},
   "outputs": [],
   "source": [
    "#replace all of the unknowns (usually as 99) with nul\n",
    "hh = hh.replace(99,'')"
   ]
  },
  {
   "cell_type": "markdown",
   "metadata": {},
   "source": [
    "Here I create dummy variables for certain variables with 3-5 outcomes, to simplify regressions. These are categorical variables that really don't need to be categories."
   ]
  },
  {
   "cell_type": "code",
   "execution_count": 6,
   "metadata": {},
   "outputs": [],
   "source": [
    "#make an urban variable that is 1 if in or around a metro area and zero if not\n",
    "hh['urban'] = hh['gtcbsast']\n",
    "hh['urban'] = hh['urban'].replace(2,1)\n",
    "hh['urban'] = hh['urban'].replace(3,0)\n",
    "hh['urban'] = hh['urban'].replace(4,'')\n",
    "hh = hh.drop(['gtcbsast'], axis=1)"
   ]
  },
  {
   "cell_type": "code",
   "execution_count": 7,
   "metadata": {},
   "outputs": [],
   "source": [
    "hh['bank_prev'] = hh['hbnkprev']\n",
    "hh['bank_prev'] = hh['bank_prev'].replace(2,0)\n",
    "hh['bank_prev'] = hh['bank_prev'].replace(-1,0)"
   ]
  },
  {
   "cell_type": "code",
   "execution_count": 8,
   "metadata": {},
   "outputs": [],
   "source": [
    "hh['poverty'] = hh['hhincome']\n",
    "hh['poverty'] = hh['poverty'].replace(2,0)\n",
    "hh['poverty'] = hh['poverty'].replace(3,0)\n",
    "hh['poverty'] = hh['poverty'].replace(4,0)\n",
    "hh['poverty'] = hh['poverty'].replace(5,0)"
   ]
  },
  {
   "cell_type": "code",
   "execution_count": 9,
   "metadata": {},
   "outputs": [],
   "source": [
    "#create a binary that is 1 if repondent is a citizen and 0 if respondent is not\n",
    "hh['citizen'] = hh['pnativ']\n",
    "hh['citizen'] = hh['citizen'].replace(2,1)\n",
    "hh['citizen'] = hh['citizen'].replace(3,0)"
   ]
  },
  {
   "cell_type": "code",
   "execution_count": 10,
   "metadata": {},
   "outputs": [],
   "source": [
    "#binary where 1 is a native born and 0 is foreign born\n",
    "hh['native_born'] = hh['pnativ']\n",
    "hh['native_born'] = hh['native_born'].replace(2,0)\n",
    "hh['native_born'] = hh['native_born'].replace(3,0)\n",
    "hh = hh.drop(['pnativ'], axis=1)"
   ]
  },
  {
   "cell_type": "code",
   "execution_count": 11,
   "metadata": {},
   "outputs": [],
   "source": [
    "#fix the homeownership variable to be a dummy\n",
    "#1 is homeowner 0 is not\n",
    "hh['homeowner'] = hh['hhtenure']\n",
    "hh['homeowner'] = hh['homeowner'].replace(2,0)\n",
    "hh = hh.drop(['hhtenure'], axis=1)"
   ]
  },
  {
   "cell_type": "code",
   "execution_count": 12,
   "metadata": {},
   "outputs": [],
   "source": [
    "#fix the unbanked variable to be a dummy\n",
    "#1 is unbanked 0 is not\n",
    "hh['unemployed'] = hh['pempstat']\n",
    "hh['unemployed'] = hh['unemployed'].replace(1,0)\n",
    "hh['unemployed'] = hh['unemployed'].replace(3,0)\n",
    "hh['unemployed'] = hh['unemployed'].replace(2,1)"
   ]
  },
  {
   "cell_type": "code",
   "execution_count": 13,
   "metadata": {},
   "outputs": [],
   "source": [
    "#fix volatility dummy\n",
    "#1 is income volitility 0 is stablle\n",
    "hh['inc_vol'] = hh['hincvolv2']\n",
    "hh['inc_vol'] = hh['inc_vol'].replace(1,0)\n",
    "hh['inc_vol'] = hh['inc_vol'].replace(2,1)\n",
    "hh = hh.drop(['hincvolv2'], axis=1)"
   ]
  },
  {
   "cell_type": "code",
   "execution_count": 14,
   "metadata": {},
   "outputs": [],
   "source": [
    "#fix the internet acces variable variable to be a dummy\n",
    "#1 has internet access 0 does not\n",
    "hh['internet'] = hh['hintaccv2']\n",
    "hh['internet'] = hh['internet'].replace(2,0)\n",
    "hh = hh.drop(['hintaccv2'], axis=1)"
   ]
  },
  {
   "cell_type": "code",
   "execution_count": 15,
   "metadata": {},
   "outputs": [],
   "source": [
    "#fix the disability variable to be a dummy\n",
    "#1 is unbanked 0 is not\n",
    "hh['disability'] = hh['pdisabl_age25to64']\n",
    "hh['disability'] = hh['disability'].replace(2,0)\n",
    "hh = hh.drop(['pdisabl_age25to64'], axis=1)"
   ]
  },
  {
   "cell_type": "markdown",
   "metadata": {},
   "source": [
    "Here I create dummy variables based on clusered outcomes"
   ]
  },
  {
   "cell_type": "code",
   "execution_count": 16,
   "metadata": {},
   "outputs": [],
   "source": [
    "#identify clusters in age"
   ]
  },
  {
   "cell_type": "code",
   "execution_count": 17,
   "metadata": {},
   "outputs": [
    {
     "ename": "AttributeError",
     "evalue": "'DataFrame' object has no attribute 'unbanked'",
     "output_type": "error",
     "traceback": [
      "\u001b[0;31m---------------------------------------------------------------------------\u001b[0m",
      "\u001b[0;31mAttributeError\u001b[0m                            Traceback (most recent call last)",
      "\u001b[0;32m<ipython-input-17-b1d3db7c8b0c>\u001b[0m in \u001b[0;36m<module>\u001b[0;34m\u001b[0m\n\u001b[0;32m----> 1\u001b[0;31m \u001b[0magegrp\u001b[0m \u001b[0;34m=\u001b[0m \u001b[0mpd\u001b[0m\u001b[0;34m.\u001b[0m\u001b[0mcrosstab\u001b[0m\u001b[0;34m(\u001b[0m\u001b[0mhh\u001b[0m\u001b[0;34m.\u001b[0m\u001b[0munbanked\u001b[0m\u001b[0;34m,\u001b[0m\u001b[0mhh\u001b[0m\u001b[0;34m.\u001b[0m\u001b[0mprtage\u001b[0m\u001b[0;34m)\u001b[0m\u001b[0;34m\u001b[0m\u001b[0;34m\u001b[0m\u001b[0m\n\u001b[0m\u001b[1;32m      2\u001b[0m \u001b[0magegrp\u001b[0m \u001b[0;34m=\u001b[0m \u001b[0magegrp\u001b[0m\u001b[0;34m.\u001b[0m\u001b[0mtranspose\u001b[0m\u001b[0;34m(\u001b[0m\u001b[0;34m)\u001b[0m\u001b[0;34m\u001b[0m\u001b[0;34m\u001b[0m\u001b[0m\n\u001b[1;32m      3\u001b[0m \u001b[0magegrp\u001b[0m\u001b[0;34m.\u001b[0m\u001b[0mreset_index\u001b[0m\u001b[0;34m(\u001b[0m\u001b[0minplace\u001b[0m\u001b[0;34m=\u001b[0m\u001b[0;32mTrue\u001b[0m\u001b[0;34m)\u001b[0m\u001b[0;34m\u001b[0m\u001b[0;34m\u001b[0m\u001b[0m\n\u001b[1;32m      4\u001b[0m \u001b[0magegrp\u001b[0m\u001b[0;34m.\u001b[0m\u001b[0mcolumns\u001b[0m \u001b[0;34m=\u001b[0m \u001b[0;34m[\u001b[0m\u001b[0;34m'age'\u001b[0m\u001b[0;34m,\u001b[0m\u001b[0;34m'num_banked'\u001b[0m\u001b[0;34m,\u001b[0m\u001b[0;34m'num_unbanked'\u001b[0m\u001b[0;34m,\u001b[0m\u001b[0;34m'num_NA'\u001b[0m\u001b[0;34m]\u001b[0m\u001b[0;34m\u001b[0m\u001b[0;34m\u001b[0m\u001b[0m\n\u001b[1;32m      5\u001b[0m \u001b[0magegrp\u001b[0m\u001b[0;34m[\u001b[0m\u001b[0;34m'pct_unb'\u001b[0m\u001b[0;34m]\u001b[0m \u001b[0;34m=\u001b[0m \u001b[0;36m100\u001b[0m\u001b[0;34m*\u001b[0m\u001b[0magegrp\u001b[0m\u001b[0;34m[\u001b[0m\u001b[0;34m'num_unbanked'\u001b[0m\u001b[0;34m]\u001b[0m\u001b[0;34m/\u001b[0m\u001b[0;34m(\u001b[0m\u001b[0magegrp\u001b[0m\u001b[0;34m[\u001b[0m\u001b[0;34m'num_unbanked'\u001b[0m\u001b[0;34m]\u001b[0m\u001b[0;34m+\u001b[0m \u001b[0magegrp\u001b[0m\u001b[0;34m[\u001b[0m\u001b[0;34m'num_banked'\u001b[0m\u001b[0;34m]\u001b[0m\u001b[0;34m)\u001b[0m\u001b[0;34m\u001b[0m\u001b[0;34m\u001b[0m\u001b[0m\n",
      "\u001b[0;32m~/opt/anaconda3/lib/python3.8/site-packages/pandas/core/generic.py\u001b[0m in \u001b[0;36m__getattr__\u001b[0;34m(self, name)\u001b[0m\n\u001b[1;32m   5137\u001b[0m             \u001b[0;32mif\u001b[0m \u001b[0mself\u001b[0m\u001b[0;34m.\u001b[0m\u001b[0m_info_axis\u001b[0m\u001b[0;34m.\u001b[0m\u001b[0m_can_hold_identifiers_and_holds_name\u001b[0m\u001b[0;34m(\u001b[0m\u001b[0mname\u001b[0m\u001b[0;34m)\u001b[0m\u001b[0;34m:\u001b[0m\u001b[0;34m\u001b[0m\u001b[0;34m\u001b[0m\u001b[0m\n\u001b[1;32m   5138\u001b[0m                 \u001b[0;32mreturn\u001b[0m \u001b[0mself\u001b[0m\u001b[0;34m[\u001b[0m\u001b[0mname\u001b[0m\u001b[0;34m]\u001b[0m\u001b[0;34m\u001b[0m\u001b[0;34m\u001b[0m\u001b[0m\n\u001b[0;32m-> 5139\u001b[0;31m             \u001b[0;32mreturn\u001b[0m \u001b[0mobject\u001b[0m\u001b[0;34m.\u001b[0m\u001b[0m__getattribute__\u001b[0m\u001b[0;34m(\u001b[0m\u001b[0mself\u001b[0m\u001b[0;34m,\u001b[0m \u001b[0mname\u001b[0m\u001b[0;34m)\u001b[0m\u001b[0;34m\u001b[0m\u001b[0;34m\u001b[0m\u001b[0m\n\u001b[0m\u001b[1;32m   5140\u001b[0m \u001b[0;34m\u001b[0m\u001b[0m\n\u001b[1;32m   5141\u001b[0m     \u001b[0;32mdef\u001b[0m \u001b[0m__setattr__\u001b[0m\u001b[0;34m(\u001b[0m\u001b[0mself\u001b[0m\u001b[0;34m,\u001b[0m \u001b[0mname\u001b[0m\u001b[0;34m:\u001b[0m \u001b[0mstr\u001b[0m\u001b[0;34m,\u001b[0m \u001b[0mvalue\u001b[0m\u001b[0;34m)\u001b[0m \u001b[0;34m->\u001b[0m \u001b[0;32mNone\u001b[0m\u001b[0;34m:\u001b[0m\u001b[0;34m\u001b[0m\u001b[0;34m\u001b[0m\u001b[0m\n",
      "\u001b[0;31mAttributeError\u001b[0m: 'DataFrame' object has no attribute 'unbanked'"
     ]
    }
   ],
   "source": [
    "agegrp = pd.crosstab(hh.unbanked,hh.prtage)\n",
    "agegrp = agegrp.transpose()\n",
    "agegrp.reset_index(inplace=True)\n",
    "agegrp.columns = ['age','num_banked','num_unbanked','num_NA']\n",
    "agegrp['pct_unb'] = 100*agegrp['num_unbanked']/(agegrp['num_unbanked']+ agegrp['num_banked'])\n",
    "agegrp"
   ]
  },
  {
   "cell_type": "code",
   "execution_count": null,
   "metadata": {},
   "outputs": [],
   "source": [
    "from plotnine import *\n",
    "import warnings\n",
    "warnings.filterwarnings('ignore')\n",
    "import plotnine as p9"
   ]
  },
  {
   "cell_type": "code",
   "execution_count": null,
   "metadata": {},
   "outputs": [],
   "source": [
    "(p9.ggplot(data=agegrp, mapping=p9.aes(x='age', y='pct_unb'))+\n",
    " geom_point(size=3,alpha=.5,show_legend=True) +\n",
    " labs(x='Age', y='Percent Unbanked',color=\"\",title=\"Percent Unbanked by Age\")\n",
    ")"
   ]
  },
  {
   "cell_type": "markdown",
   "metadata": {},
   "source": [
    "Originally, I planned to bin age or at least create a few binary variables; now, however, it seems that age flows fairly linearly and doesn't need any binsing"
   ]
  },
  {
   "cell_type": "code",
   "execution_count": null,
   "metadata": {},
   "outputs": [],
   "source": [
    "#visually identify any unbanked clusters in race\n",
    "racegrp = pd.crosstab(hh.unbanked,hh.praceeth3)\n",
    "racegrp = racegrp.transpose()\n",
    "racegrp.reset_index(inplace=True)\n",
    "racegrp.columns = ['race','num_banked','num_unbanked','num_NA']\n",
    "racegrp['pct_unb'] = 100*racegrp['num_unbanked']/(racegrp['num_unbanked']+ racegrp['num_banked'])\n",
    "racegrp['race_name'] = ['Black', 'Hispanic', 'Asian', 'Native', 'Pacific', 'White', 'Biracial']\n",
    "racegrp"
   ]
  },
  {
   "cell_type": "code",
   "execution_count": null,
   "metadata": {},
   "outputs": [],
   "source": [
    "(ggplot(racegrp)       \n",
    " + aes(x='race_name', y='pct_unb')    \n",
    " + geom_bar(stat=\"identity\") # defining the type of plot to use\n",
    " + labs(title='Percent Unbanked by Race', x='Race', y='Percent Unbanked') \n",
    ")"
   ]
  },
  {
   "cell_type": "markdown",
   "metadata": {},
   "source": [
    "For Race, I think we can justify Bins, especially since it is purely categorical"
   ]
  },
  {
   "cell_type": "code",
   "execution_count": null,
   "metadata": {},
   "outputs": [],
   "source": [
    "#splid data by under 5 and over 5\n",
    "#1 for White or Asian American or Pacific Islander, 0 for Other People of Color\n",
    "hh['White_or_AAPI'] = hh['praceeth3']\n",
    "hh['White_or_AAPI'] = hh['White_or_AAPI'].replace(1,0)\n",
    "hh['White_or_AAPI'] = hh['White_or_AAPI'].replace(2,0)\n",
    "hh['White_or_AAPI'] = hh['White_or_AAPI'].replace(3,1)\n",
    "hh['White_or_AAPI'] = hh['White_or_AAPI'].replace(4,0)\n",
    "hh['White_or_AAPI'] = hh['White_or_AAPI'].replace(5,1)\n",
    "hh['White_or_AAPI'] = hh['White_or_AAPI'].replace(6,1)\n",
    "hh['White_or_AAPI'] = hh['White_or_AAPI'].replace(7,0)"
   ]
  },
  {
   "cell_type": "markdown",
   "metadata": {},
   "source": [
    "# Export Datasets for Slide Graphing"
   ]
  },
  {
   "cell_type": "code",
   "execution_count": null,
   "metadata": {},
   "outputs": [],
   "source": [
    "#Export Already Initialized Data Groups\n",
    "racegrp.to_csv(\"/Users/xavier/Desktop/DSPP/DS/Data-Science-1-Final-Project/Slides/graph_data/race_unbanked\")\n",
    "agegrp.to_csv(\"/Users/xavier/Desktop/DSPP/DS/Data-Science-1-Final-Project/Slides/graph_data/age_unbanked\")"
   ]
  },
  {
   "cell_type": "code",
   "execution_count": null,
   "metadata": {},
   "outputs": [],
   "source": [
    "#create dataset for education\n",
    "edgrp = pd.crosstab(hh.unbanked,hh.peducgrp)\n",
    "edgrp = edgrp.transpose()\n",
    "edgrp.reset_index(inplace=True)\n",
    "edgrp.columns = ['ed_level','num_banked','num_unbanked','num_NA']\n",
    "edgrp['pct_unb'] = 100*edgrp['num_unbanked']/(edgrp['num_unbanked']+ edgrp['num_banked'])\n",
    "edgrp['ed_name'] = ['No Diploma','Diploma','No Degree','Degree']\n",
    "edgrp"
   ]
  },
  {
   "cell_type": "code",
   "execution_count": null,
   "metadata": {},
   "outputs": [],
   "source": [
    "#create dataset for family type\n",
    "ftgrp = pd.crosstab(hh.unbanked,hh.hhtype)\n",
    "ftgrp = ftgrp.transpose()\n",
    "ftgrp.reset_index(inplace=True)\n",
    "ftgrp.columns = ['family_type','num_banked','num_unbanked','num_NA']\n",
    "ftgrp['pct_unb'] = 100*ftgrp['num_unbanked']/(ftgrp['num_unbanked']+ ftgrp['num_banked'])\n",
    "ftgrp['ft_name'] = ['Couple', 'F-Led Fam', 'M-Led Fam', 'F Ind', 'M Ind','Other']\n",
    "ftgrp"
   ]
  },
  {
   "cell_type": "code",
   "execution_count": null,
   "metadata": {},
   "outputs": [],
   "source": [
    "#create dataset for income\n",
    "incgrp = pd.crosstab(hh.unbanked,hh.hhincome)\n",
    "incgrp = incgrp.transpose()\n",
    "incgrp.reset_index(inplace=True)\n",
    "incgrp.columns = ['income','num_banked','num_unbanked','num_NA']\n",
    "incgrp['pct_unb'] = 100*incgrp['num_unbanked']/(incgrp['num_unbanked']+ incgrp['num_banked'])\n",
    "incgrp['inc_name'] = ['<15k', '15k-30k', '30k-50k', '50k-75k', '75k+','no response']\n",
    "incgrp = incgrp.drop(5)\n",
    "incgrp"
   ]
  },
  {
   "cell_type": "code",
   "execution_count": null,
   "metadata": {},
   "outputs": [],
   "source": [
    "#export other variables\n",
    "#Export Already Initialized Data Groups\n",
    "edgrp.to_csv(\"/Users/xavier/Desktop/DSPP/DS/Data-Science-1-Final-Project/Slides/graph_data/ed_unbanked\")\n",
    "ftgrp.to_csv(\"/Users/xavier/Desktop/DSPP/DS/Data-Science-1-Final-Project/Slides/graph_data/ft_unbanked\")\n",
    "incgrp.to_csv(\"/Users/xavier/Desktop/DSPP/DS/Data-Science-1-Final-Project/Slides/graph_data/income_unbanked\")"
   ]
  }
 ],
 "metadata": {
  "kernelspec": {
   "display_name": "Python 3",
   "language": "python",
   "name": "python3"
  },
  "language_info": {
   "codemirror_mode": {
    "name": "ipython",
    "version": 3
   },
   "file_extension": ".py",
   "mimetype": "text/x-python",
   "name": "python",
   "nbconvert_exporter": "python",
   "pygments_lexer": "ipython3",
   "version": "3.8.5"
  }
 },
 "nbformat": 4,
 "nbformat_minor": 4
}
