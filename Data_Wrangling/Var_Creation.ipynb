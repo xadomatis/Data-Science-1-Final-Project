{
 "cells": [
  {
   "cell_type": "markdown",
   "metadata": {},
   "source": [
    "In this document I'll create and modify variables necessary for my machine learning"
   ]
  },
  {
   "cell_type": "code",
   "execution_count": 1,
   "metadata": {},
   "outputs": [],
   "source": [
    "import pandas as pd"
   ]
  },
  {
   "cell_type": "code",
   "execution_count": 2,
   "metadata": {},
   "outputs": [],
   "source": [
    "hh = pd.read_csv(\"/Users/xavier/Desktop/DSPP/DS/Data-Science-1-Final-Project/Data_Wrangling/hh_2019.csv\")"
   ]
  },
  {
   "cell_type": "code",
   "execution_count": 3,
   "metadata": {},
   "outputs": [],
   "source": [
    "#in previous work with the data, I've noticed that hrhhid is almost unique but approximatley 5000 households share the same ID (duplexes or roommates I've been told)\n",
    "#the two ID numbers have to be combines to have as an index\n",
    "unique_id = hh['hrhhid'] + hh['hrhhid2']\n",
    "hh.insert(0,\"id\",unique_id)"
   ]
  },
  {
   "cell_type": "code",
   "execution_count": 4,
   "metadata": {},
   "outputs": [],
   "source": [
    "#drop irrelevant ID columns\n",
    "hh = hh.drop(hh.columns[1:4], axis=1)"
   ]
  },
  {
   "cell_type": "code",
   "execution_count": 5,
   "metadata": {},
   "outputs": [],
   "source": [
    "#replace all of the unknowns (usually as 99) with nul\n",
    "hh = hh.replace(99,'')"
   ]
  },
  {
   "cell_type": "markdown",
   "metadata": {},
   "source": [
    "Here I create dummy variables for certain variables with 3-5 outcomes, to simplify regressions. These are categorical variables that really don't need to be categories."
   ]
  },
  {
   "cell_type": "code",
   "execution_count": 6,
   "metadata": {},
   "outputs": [],
   "source": [
    "#make an urban variable that is 1 if in or around a metro area and zero if not\n",
    "hh['urban'] = hh['gtcbsast']\n",
    "hh['urban'] = hh['urban'].replace(2,1)\n",
    "hh['urban'] = hh['urban'].replace(3,0)\n",
    "hh['urban'] = hh['urban'].replace(4,'')\n",
    "hh = hh.drop(['gtcbsast'], axis=1)"
   ]
  },
  {
   "cell_type": "code",
   "execution_count": 7,
   "metadata": {},
   "outputs": [],
   "source": [
    "hh['bank_prev'] = hh['hbnkprev']\n",
    "hh['bank_prev'] = hh['bank_prev'].replace(2,0)\n",
    "hh['bank_prev'] = hh['bank_prev'].replace(-1,0)"
   ]
  },
  {
   "cell_type": "code",
   "execution_count": 8,
   "metadata": {},
   "outputs": [],
   "source": [
    "hh['unbanked'] = hh['hunbnk']\n",
    "hh['unbanked'] = hh['unbanked'].replace(2,0)\n",
    "hh = hh.drop(['hunbnk'], axis=1)"
   ]
  },
  {
   "cell_type": "code",
   "execution_count": 9,
   "metadata": {},
   "outputs": [],
   "source": [
    "hh['poverty'] = hh['hhincome']\n",
    "hh['poverty'] = hh['poverty'].replace(2,0)\n",
    "hh['poverty'] = hh['poverty'].replace(3,0)\n",
    "hh['poverty'] = hh['poverty'].replace(4,0)\n",
    "hh['poverty'] = hh['poverty'].replace(5,0)"
   ]
  },
  {
   "cell_type": "code",
   "execution_count": 10,
   "metadata": {},
   "outputs": [],
   "source": [
    "#create a binary that is 1 if repondent is a citizen and 0 if respondent is not\n",
    "hh['citizen'] = hh['pnativ']\n",
    "hh['citizen'] = hh['citizen'].replace(2,1)\n",
    "hh['citizen'] = hh['citizen'].replace(3,0)"
   ]
  },
  {
   "cell_type": "code",
   "execution_count": 11,
   "metadata": {},
   "outputs": [],
   "source": [
    "#binary where 1 is a native born and 0 is foreign born\n",
    "hh['native_born'] = hh['pnativ']\n",
    "hh['native_born'] = hh['native_born'].replace(2,0)\n",
    "hh['native_born'] = hh['native_born'].replace(3,0)\n",
    "hh = hh.drop(['pnativ'], axis=1)"
   ]
  },
  {
   "cell_type": "code",
   "execution_count": 12,
   "metadata": {},
   "outputs": [],
   "source": [
    "#fix the homeownership variable to be a dummy\n",
    "#1 is homeowner 0 is not\n",
    "hh['homeowner'] = hh['hhtenure']\n",
    "hh['homeowner'] = hh['homeowner'].replace(2,0)\n",
    "hh = hh.drop(['hhtenure'], axis=1)"
   ]
  },
  {
   "cell_type": "code",
   "execution_count": 13,
   "metadata": {},
   "outputs": [],
   "source": [
    "#fix the unbanked variable to be a dummy\n",
    "#1 is unemployed 0 is not\n",
    "hh['unemployed'] = hh['pempstat']\n",
    "hh['unemployed'] = hh['unemployed'].replace(1,0)\n",
    "hh['unemployed'] = hh['unemployed'].replace(3,0)\n",
    "hh['unemployed'] = hh['unemployed'].replace(2,1)"
   ]
  },
  {
   "cell_type": "code",
   "execution_count": 14,
   "metadata": {},
   "outputs": [],
   "source": [
    "#fix volatility dummy\n",
    "#1 is income volitility 0 is stablle\n",
    "hh['inc_vol'] = hh['hincvolv2']\n",
    "hh['inc_vol'] = hh['inc_vol'].replace(1,0)\n",
    "hh['inc_vol'] = hh['inc_vol'].replace(2,1)\n",
    "hh = hh.drop(['hincvolv2'], axis=1)"
   ]
  },
  {
   "cell_type": "code",
   "execution_count": 15,
   "metadata": {},
   "outputs": [],
   "source": [
    "#fix the internet acces variable variable to be a dummy\n",
    "#1 has internet access 0 does not\n",
    "hh['internet'] = hh['hintaccv2']\n",
    "hh['internet'] = hh['internet'].replace(2,0)\n",
    "hh = hh.drop(['hintaccv2'], axis=1)"
   ]
  },
  {
   "cell_type": "code",
   "execution_count": 16,
   "metadata": {},
   "outputs": [],
   "source": [
    "#fix the disability variable to be a dummy\n",
    "#1 is udisabled 0 is not\n",
    "hh['disability'] = hh['pdisabl_age25to64']\n",
    "hh['disability'] = hh['disability'].replace(2,0)\n",
    "hh = hh.drop(['pdisabl_age25to64'], axis=1)"
   ]
  },
  {
   "cell_type": "markdown",
   "metadata": {},
   "source": [
    "Here I create dummy variables based on clusered outcomes"
   ]
  },
  {
   "cell_type": "code",
   "execution_count": 17,
   "metadata": {},
   "outputs": [],
   "source": [
    "#identify clusters in age"
   ]
  },
  {
   "cell_type": "code",
   "execution_count": 18,
   "metadata": {},
   "outputs": [
    {
     "data": {
      "text/html": [
       "<div>\n",
       "<style scoped>\n",
       "    .dataframe tbody tr th:only-of-type {\n",
       "        vertical-align: middle;\n",
       "    }\n",
       "\n",
       "    .dataframe tbody tr th {\n",
       "        vertical-align: top;\n",
       "    }\n",
       "\n",
       "    .dataframe thead th {\n",
       "        text-align: right;\n",
       "    }\n",
       "</style>\n",
       "<table border=\"1\" class=\"dataframe\">\n",
       "  <thead>\n",
       "    <tr style=\"text-align: right;\">\n",
       "      <th></th>\n",
       "      <th>age</th>\n",
       "      <th>num_banked</th>\n",
       "      <th>num_unbanked</th>\n",
       "      <th>num_NA</th>\n",
       "      <th>pct_unb</th>\n",
       "    </tr>\n",
       "  </thead>\n",
       "  <tbody>\n",
       "    <tr>\n",
       "      <th>0</th>\n",
       "      <td>-1</td>\n",
       "      <td>0</td>\n",
       "      <td>0</td>\n",
       "      <td>21340</td>\n",
       "      <td>NaN</td>\n",
       "    </tr>\n",
       "    <tr>\n",
       "      <th>1</th>\n",
       "      <td>15</td>\n",
       "      <td>2</td>\n",
       "      <td>1</td>\n",
       "      <td>8</td>\n",
       "      <td>33.333333</td>\n",
       "    </tr>\n",
       "    <tr>\n",
       "      <th>2</th>\n",
       "      <td>16</td>\n",
       "      <td>15</td>\n",
       "      <td>1</td>\n",
       "      <td>14</td>\n",
       "      <td>6.250000</td>\n",
       "    </tr>\n",
       "    <tr>\n",
       "      <th>3</th>\n",
       "      <td>17</td>\n",
       "      <td>14</td>\n",
       "      <td>1</td>\n",
       "      <td>12</td>\n",
       "      <td>6.666667</td>\n",
       "    </tr>\n",
       "    <tr>\n",
       "      <th>4</th>\n",
       "      <td>18</td>\n",
       "      <td>42</td>\n",
       "      <td>2</td>\n",
       "      <td>32</td>\n",
       "      <td>4.545455</td>\n",
       "    </tr>\n",
       "    <tr>\n",
       "      <th>...</th>\n",
       "      <td>...</td>\n",
       "      <td>...</td>\n",
       "      <td>...</td>\n",
       "      <td>...</td>\n",
       "      <td>...</td>\n",
       "    </tr>\n",
       "    <tr>\n",
       "      <th>63</th>\n",
       "      <td>77</td>\n",
       "      <td>337</td>\n",
       "      <td>12</td>\n",
       "      <td>145</td>\n",
       "      <td>3.438395</td>\n",
       "    </tr>\n",
       "    <tr>\n",
       "      <th>64</th>\n",
       "      <td>78</td>\n",
       "      <td>345</td>\n",
       "      <td>8</td>\n",
       "      <td>141</td>\n",
       "      <td>2.266289</td>\n",
       "    </tr>\n",
       "    <tr>\n",
       "      <th>65</th>\n",
       "      <td>79</td>\n",
       "      <td>286</td>\n",
       "      <td>6</td>\n",
       "      <td>137</td>\n",
       "      <td>2.054795</td>\n",
       "    </tr>\n",
       "    <tr>\n",
       "      <th>66</th>\n",
       "      <td>80</td>\n",
       "      <td>1102</td>\n",
       "      <td>25</td>\n",
       "      <td>528</td>\n",
       "      <td>2.218279</td>\n",
       "    </tr>\n",
       "    <tr>\n",
       "      <th>67</th>\n",
       "      <td>85</td>\n",
       "      <td>1025</td>\n",
       "      <td>37</td>\n",
       "      <td>624</td>\n",
       "      <td>3.483992</td>\n",
       "    </tr>\n",
       "  </tbody>\n",
       "</table>\n",
       "<p>68 rows × 5 columns</p>\n",
       "</div>"
      ],
      "text/plain": [
       "    age  num_banked  num_unbanked  num_NA    pct_unb\n",
       "0    -1           0             0   21340        NaN\n",
       "1    15           2             1       8  33.333333\n",
       "2    16          15             1      14   6.250000\n",
       "3    17          14             1      12   6.666667\n",
       "4    18          42             2      32   4.545455\n",
       "..  ...         ...           ...     ...        ...\n",
       "63   77         337            12     145   3.438395\n",
       "64   78         345             8     141   2.266289\n",
       "65   79         286             6     137   2.054795\n",
       "66   80        1102            25     528   2.218279\n",
       "67   85        1025            37     624   3.483992\n",
       "\n",
       "[68 rows x 5 columns]"
      ]
     },
     "execution_count": 18,
     "metadata": {},
     "output_type": "execute_result"
    }
   ],
   "source": [
    "agegrp = pd.crosstab(hh.unbanked,hh.prtage)\n",
    "agegrp = agegrp.transpose()\n",
    "agegrp.reset_index(inplace=True)\n",
    "agegrp.columns = ['age','num_banked','num_unbanked','num_NA']\n",
    "agegrp['pct_unb'] = 100*agegrp['num_unbanked']/(agegrp['num_unbanked']+ agegrp['num_banked'])\n",
    "agegrp"
   ]
  },
  {
   "cell_type": "code",
   "execution_count": 19,
   "metadata": {},
   "outputs": [],
   "source": [
    "from plotnine import *\n",
    "import warnings\n",
    "warnings.filterwarnings('ignore')\n",
    "import plotnine as p9"
   ]
  },
  {
   "cell_type": "code",
   "execution_count": 20,
   "metadata": {},
   "outputs": [
    {
     "data": {
      "image/png": "[encoded data removed]",
      "text/plain": [
       "<Figure size 640x480 with 1 Axes>"
      ]
     },
     "metadata": {},
     "output_type": "display_data"
    },
    {
     "data": {
      "text/plain": [
       "<ggplot: (8782058041338)>"
      ]
     },
     "execution_count": 20,
     "metadata": {},
     "output_type": "execute_result"
    }
   ],
   "source": [
    "(p9.ggplot(data=agegrp, mapping=p9.aes(x='age', y='pct_unb'))+\n",
    " geom_point(size=3,alpha=.5,show_legend=True) +\n",
    " labs(x='Age', y='Percent Unbanked',color=\"\",title=\"Percent Unbanked by Age\")\n",
    ")"
   ]
  },
  {
   "cell_type": "markdown",
   "metadata": {},
   "source": [
    "Originally, I planned to bin age or at least create a few binary variables; now, however, it seems that age flows fairly linearly and doesn't need any binsing"
   ]
  },
  {
   "cell_type": "code",
   "execution_count": 21,
   "metadata": {},
   "outputs": [
    {
     "data": {
      "text/html": [
       "<div>\n",
       "<style scoped>\n",
       "    .dataframe tbody tr th:only-of-type {\n",
       "        vertical-align: middle;\n",
       "    }\n",
       "\n",
       "    .dataframe tbody tr th {\n",
       "        vertical-align: top;\n",
       "    }\n",
       "\n",
       "    .dataframe thead th {\n",
       "        text-align: right;\n",
       "    }\n",
       "</style>\n",
       "<table border=\"1\" class=\"dataframe\">\n",
       "  <thead>\n",
       "    <tr style=\"text-align: right;\">\n",
       "      <th></th>\n",
       "      <th>race</th>\n",
       "      <th>num_banked</th>\n",
       "      <th>num_unbanked</th>\n",
       "      <th>num_NA</th>\n",
       "      <th>pct_unb</th>\n",
       "      <th>race_name</th>\n",
       "    </tr>\n",
       "  </thead>\n",
       "  <tbody>\n",
       "    <tr>\n",
       "      <th>0</th>\n",
       "      <td>1</td>\n",
       "      <td>2699</td>\n",
       "      <td>455</td>\n",
       "      <td>2012</td>\n",
       "      <td>14.426126</td>\n",
       "      <td>Black</td>\n",
       "    </tr>\n",
       "    <tr>\n",
       "      <th>1</th>\n",
       "      <td>2</td>\n",
       "      <td>3110</td>\n",
       "      <td>416</td>\n",
       "      <td>2011</td>\n",
       "      <td>11.798071</td>\n",
       "      <td>Hispanic</td>\n",
       "    </tr>\n",
       "    <tr>\n",
       "      <th>2</th>\n",
       "      <td>3</td>\n",
       "      <td>1394</td>\n",
       "      <td>24</td>\n",
       "      <td>746</td>\n",
       "      <td>1.692525</td>\n",
       "      <td>Asian</td>\n",
       "    </tr>\n",
       "    <tr>\n",
       "      <th>3</th>\n",
       "      <td>4</td>\n",
       "      <td>267</td>\n",
       "      <td>55</td>\n",
       "      <td>153</td>\n",
       "      <td>17.080745</td>\n",
       "      <td>Native</td>\n",
       "    </tr>\n",
       "    <tr>\n",
       "      <th>4</th>\n",
       "      <td>5</td>\n",
       "      <td>77</td>\n",
       "      <td>4</td>\n",
       "      <td>65</td>\n",
       "      <td>4.938272</td>\n",
       "      <td>Pacific</td>\n",
       "    </tr>\n",
       "    <tr>\n",
       "      <th>5</th>\n",
       "      <td>6</td>\n",
       "      <td>23333</td>\n",
       "      <td>634</td>\n",
       "      <td>10774</td>\n",
       "      <td>2.645304</td>\n",
       "      <td>White</td>\n",
       "    </tr>\n",
       "    <tr>\n",
       "      <th>6</th>\n",
       "      <td>7</td>\n",
       "      <td>413</td>\n",
       "      <td>23</td>\n",
       "      <td>21538</td>\n",
       "      <td>5.275229</td>\n",
       "      <td>Biracial</td>\n",
       "    </tr>\n",
       "  </tbody>\n",
       "</table>\n",
       "</div>"
      ],
      "text/plain": [
       "   race  num_banked  num_unbanked  num_NA    pct_unb race_name\n",
       "0     1        2699           455    2012  14.426126     Black\n",
       "1     2        3110           416    2011  11.798071  Hispanic\n",
       "2     3        1394            24     746   1.692525     Asian\n",
       "3     4         267            55     153  17.080745    Native\n",
       "4     5          77             4      65   4.938272   Pacific\n",
       "5     6       23333           634   10774   2.645304     White\n",
       "6     7         413            23   21538   5.275229  Biracial"
      ]
     },
     "execution_count": 21,
     "metadata": {},
     "output_type": "execute_result"
    }
   ],
   "source": [
    "#visually identify any unbanked clusters in race\n",
    "racegrp = pd.crosstab(hh.unbanked,hh.praceeth3)\n",
    "racegrp = racegrp.transpose()\n",
    "racegrp.reset_index(inplace=True)\n",
    "racegrp.columns = ['race','num_banked','num_unbanked','num_NA']\n",
    "racegrp['pct_unb'] = 100*racegrp['num_unbanked']/(racegrp['num_unbanked']+ racegrp['num_banked'])\n",
    "racegrp['race_name'] = ['Black', 'Hispanic', 'Asian', 'Native', 'Pacific', 'White', 'Biracial']\n",
    "racegrp"
   ]
  },
  {
   "cell_type": "code",
   "execution_count": 22,
   "metadata": {},
   "outputs": [
    {
     "data": {
      "image/png": "[encoded data removed]",
      "text/plain": [
       "<Figure size 640x480 with 1 Axes>"
      ]
     },
     "metadata": {},
     "output_type": "display_data"
    },
    {
     "data": {
      "text/plain": [
       "<ggplot: (8782058139305)>"
      ]
     },
     "execution_count": 22,
     "metadata": {},
     "output_type": "execute_result"
    }
   ],
   "source": [
    "(ggplot(racegrp)       \n",
    " + aes(x='race_name', y='pct_unb')    \n",
    " + geom_bar(stat=\"identity\") # defining the type of plot to use\n",
    " + labs(title='Percent Unbanked by Race', x='Race', y='Percent Unbanked') \n",
    ")"
   ]
  },
  {
   "cell_type": "markdown",
   "metadata": {},
   "source": [
    "For Race, I think we can justify Bins, especially since it is purely categorical"
   ]
  },
  {
   "cell_type": "code",
   "execution_count": 23,
   "metadata": {},
   "outputs": [],
   "source": [
    "#splid data by under 5 and over 5\n",
    "#1 for White or Asian American or Pacific Islander, 0 for Other People of Color\n",
    "hh['White_or_AAPI'] = hh['praceeth3']\n",
    "hh['White_or_AAPI'] = hh['White_or_AAPI'].replace(1,0)\n",
    "hh['White_or_AAPI'] = hh['White_or_AAPI'].replace(2,0)\n",
    "hh['White_or_AAPI'] = hh['White_or_AAPI'].replace(3,1)\n",
    "hh['White_or_AAPI'] = hh['White_or_AAPI'].replace(4,0)\n",
    "hh['White_or_AAPI'] = hh['White_or_AAPI'].replace(5,1)\n",
    "hh['White_or_AAPI'] = hh['White_or_AAPI'].replace(6,1)\n",
    "hh['White_or_AAPI'] = hh['White_or_AAPI'].replace(7,0)"
   ]
  },
  {
   "cell_type": "markdown",
   "metadata": {},
   "source": [
    "# Export Main Dataset for Pre-Processing Review"
   ]
  },
  {
   "cell_type": "code",
   "execution_count": 24,
   "metadata": {},
   "outputs": [],
   "source": [
    "hh.to_csv(\"/Users/xavier/Desktop/DSPP/DS/Data-Science-1-Final-Project/Data_Wrangling/hh2.csv\")"
   ]
  },
  {
   "cell_type": "markdown",
   "metadata": {},
   "source": [
    "# Export Datasets for Slide Graphing"
   ]
  },
  {
   "cell_type": "code",
   "execution_count": 25,
   "metadata": {},
   "outputs": [],
   "source": [
    "#Export Already Initialized Data Groups\n",
    "racegrp.to_csv(\"/Users/xavier/Desktop/DSPP/DS/Data-Science-1-Final-Project/Slides/graph_data/race_unbanked\")\n",
    "agegrp.to_csv(\"/Users/xavier/Desktop/DSPP/DS/Data-Science-1-Final-Project/Slides/graph_data/age_unbanked\")"
   ]
  },
  {
   "cell_type": "code",
   "execution_count": 26,
   "metadata": {},
   "outputs": [
    {
     "data": {
      "text/html": [
       "<div>\n",
       "<style scoped>\n",
       "    .dataframe tbody tr th:only-of-type {\n",
       "        vertical-align: middle;\n",
       "    }\n",
       "\n",
       "    .dataframe tbody tr th {\n",
       "        vertical-align: top;\n",
       "    }\n",
       "\n",
       "    .dataframe thead th {\n",
       "        text-align: right;\n",
       "    }\n",
       "</style>\n",
       "<table border=\"1\" class=\"dataframe\">\n",
       "  <thead>\n",
       "    <tr style=\"text-align: right;\">\n",
       "      <th></th>\n",
       "      <th>ed_level</th>\n",
       "      <th>num_banked</th>\n",
       "      <th>num_unbanked</th>\n",
       "      <th>num_NA</th>\n",
       "      <th>pct_unb</th>\n",
       "      <th>ed_name</th>\n",
       "    </tr>\n",
       "  </thead>\n",
       "  <tbody>\n",
       "    <tr>\n",
       "      <th>0</th>\n",
       "      <td>1</td>\n",
       "      <td>2203</td>\n",
       "      <td>536</td>\n",
       "      <td>22998</td>\n",
       "      <td>19.569186</td>\n",
       "      <td>No Diploma</td>\n",
       "    </tr>\n",
       "    <tr>\n",
       "      <th>1</th>\n",
       "      <td>2</td>\n",
       "      <td>7893</td>\n",
       "      <td>602</td>\n",
       "      <td>4887</td>\n",
       "      <td>7.086521</td>\n",
       "      <td>Diploma</td>\n",
       "    </tr>\n",
       "    <tr>\n",
       "      <th>2</th>\n",
       "      <td>3</td>\n",
       "      <td>9031</td>\n",
       "      <td>380</td>\n",
       "      <td>4497</td>\n",
       "      <td>4.037828</td>\n",
       "      <td>No Degree</td>\n",
       "    </tr>\n",
       "    <tr>\n",
       "      <th>3</th>\n",
       "      <td>4</td>\n",
       "      <td>12166</td>\n",
       "      <td>93</td>\n",
       "      <td>4917</td>\n",
       "      <td>0.758626</td>\n",
       "      <td>Degree</td>\n",
       "    </tr>\n",
       "  </tbody>\n",
       "</table>\n",
       "</div>"
      ],
      "text/plain": [
       "   ed_level  num_banked  num_unbanked  num_NA    pct_unb     ed_name\n",
       "0         1        2203           536   22998  19.569186  No Diploma\n",
       "1         2        7893           602    4887   7.086521     Diploma\n",
       "2         3        9031           380    4497   4.037828   No Degree\n",
       "3         4       12166            93    4917   0.758626      Degree"
      ]
     },
     "execution_count": 26,
     "metadata": {},
     "output_type": "execute_result"
    }
   ],
   "source": [
    "#create dataset for education\n",
    "edgrp = pd.crosstab(hh.unbanked,hh.peducgrp)\n",
    "edgrp = edgrp.transpose()\n",
    "edgrp.reset_index(inplace=True)\n",
    "edgrp.columns = ['ed_level','num_banked','num_unbanked','num_NA']\n",
    "edgrp['pct_unb'] = 100*edgrp['num_unbanked']/(edgrp['num_unbanked']+ edgrp['num_banked'])\n",
    "edgrp['ed_name'] = ['No Diploma','Diploma','No Degree','Degree']\n",
    "edgrp"
   ]
  },
  {
   "cell_type": "code",
   "execution_count": 27,
   "metadata": {},
   "outputs": [
    {
     "data": {
      "text/html": [
       "<div>\n",
       "<style scoped>\n",
       "    .dataframe tbody tr th:only-of-type {\n",
       "        vertical-align: middle;\n",
       "    }\n",
       "\n",
       "    .dataframe tbody tr th {\n",
       "        vertical-align: top;\n",
       "    }\n",
       "\n",
       "    .dataframe thead th {\n",
       "        text-align: right;\n",
       "    }\n",
       "</style>\n",
       "<table border=\"1\" class=\"dataframe\">\n",
       "  <thead>\n",
       "    <tr style=\"text-align: right;\">\n",
       "      <th></th>\n",
       "      <th>family_type</th>\n",
       "      <th>num_banked</th>\n",
       "      <th>num_unbanked</th>\n",
       "      <th>num_NA</th>\n",
       "      <th>pct_unb</th>\n",
       "      <th>ft_name</th>\n",
       "    </tr>\n",
       "  </thead>\n",
       "  <tbody>\n",
       "    <tr>\n",
       "      <th>0</th>\n",
       "      <td>1</td>\n",
       "      <td>15380</td>\n",
       "      <td>308</td>\n",
       "      <td>7648</td>\n",
       "      <td>1.963284</td>\n",
       "      <td>Couple</td>\n",
       "    </tr>\n",
       "    <tr>\n",
       "      <th>1</th>\n",
       "      <td>2</td>\n",
       "      <td>3158</td>\n",
       "      <td>385</td>\n",
       "      <td>1927</td>\n",
       "      <td>10.866497</td>\n",
       "      <td>F-Led Fam</td>\n",
       "    </tr>\n",
       "    <tr>\n",
       "      <th>2</th>\n",
       "      <td>3</td>\n",
       "      <td>1363</td>\n",
       "      <td>102</td>\n",
       "      <td>936</td>\n",
       "      <td>6.962457</td>\n",
       "      <td>M-Led Fam</td>\n",
       "    </tr>\n",
       "    <tr>\n",
       "      <th>3</th>\n",
       "      <td>4</td>\n",
       "      <td>6104</td>\n",
       "      <td>353</td>\n",
       "      <td>2815</td>\n",
       "      <td>5.466935</td>\n",
       "      <td>F Ind</td>\n",
       "    </tr>\n",
       "    <tr>\n",
       "      <th>4</th>\n",
       "      <td>5</td>\n",
       "      <td>5243</td>\n",
       "      <td>450</td>\n",
       "      <td>2600</td>\n",
       "      <td>7.904444</td>\n",
       "      <td>M Ind</td>\n",
       "    </tr>\n",
       "    <tr>\n",
       "      <th>5</th>\n",
       "      <td>6</td>\n",
       "      <td>45</td>\n",
       "      <td>13</td>\n",
       "      <td>21373</td>\n",
       "      <td>22.413793</td>\n",
       "      <td>Other</td>\n",
       "    </tr>\n",
       "  </tbody>\n",
       "</table>\n",
       "</div>"
      ],
      "text/plain": [
       "   family_type  num_banked  num_unbanked  num_NA    pct_unb    ft_name\n",
       "0            1       15380           308    7648   1.963284     Couple\n",
       "1            2        3158           385    1927  10.866497  F-Led Fam\n",
       "2            3        1363           102     936   6.962457  M-Led Fam\n",
       "3            4        6104           353    2815   5.466935      F Ind\n",
       "4            5        5243           450    2600   7.904444      M Ind\n",
       "5            6          45            13   21373  22.413793      Other"
      ]
     },
     "execution_count": 27,
     "metadata": {},
     "output_type": "execute_result"
    }
   ],
   "source": [
    "#create dataset for family type\n",
    "ftgrp = pd.crosstab(hh.unbanked,hh.hhtype)\n",
    "ftgrp = ftgrp.transpose()\n",
    "ftgrp.reset_index(inplace=True)\n",
    "ftgrp.columns = ['family_type','num_banked','num_unbanked','num_NA']\n",
    "ftgrp['pct_unb'] = 100*ftgrp['num_unbanked']/(ftgrp['num_unbanked']+ ftgrp['num_banked'])\n",
    "ftgrp['ft_name'] = ['Couple', 'F-Led Fam', 'M-Led Fam', 'F Ind', 'M Ind','Other']\n",
    "ftgrp"
   ]
  },
  {
   "cell_type": "code",
   "execution_count": 28,
   "metadata": {},
   "outputs": [
    {
     "data": {
      "text/html": [
       "<div>\n",
       "<style scoped>\n",
       "    .dataframe tbody tr th:only-of-type {\n",
       "        vertical-align: middle;\n",
       "    }\n",
       "\n",
       "    .dataframe tbody tr th {\n",
       "        vertical-align: top;\n",
       "    }\n",
       "\n",
       "    .dataframe thead th {\n",
       "        text-align: right;\n",
       "    }\n",
       "</style>\n",
       "<table border=\"1\" class=\"dataframe\">\n",
       "  <thead>\n",
       "    <tr style=\"text-align: right;\">\n",
       "      <th></th>\n",
       "      <th>income</th>\n",
       "      <th>num_banked</th>\n",
       "      <th>num_unbanked</th>\n",
       "      <th>num_NA</th>\n",
       "      <th>pct_unb</th>\n",
       "      <th>inc_name</th>\n",
       "    </tr>\n",
       "  </thead>\n",
       "  <tbody>\n",
       "    <tr>\n",
       "      <th>0</th>\n",
       "      <td>1</td>\n",
       "      <td>2745</td>\n",
       "      <td>759</td>\n",
       "      <td>1994</td>\n",
       "      <td>21.660959</td>\n",
       "      <td>&lt;15k</td>\n",
       "    </tr>\n",
       "    <tr>\n",
       "      <th>1</th>\n",
       "      <td>2</td>\n",
       "      <td>4357</td>\n",
       "      <td>451</td>\n",
       "      <td>2423</td>\n",
       "      <td>9.380200</td>\n",
       "      <td>15k-30k</td>\n",
       "    </tr>\n",
       "    <tr>\n",
       "      <th>2</th>\n",
       "      <td>3</td>\n",
       "      <td>5899</td>\n",
       "      <td>251</td>\n",
       "      <td>3083</td>\n",
       "      <td>4.081301</td>\n",
       "      <td>30k-50k</td>\n",
       "    </tr>\n",
       "    <tr>\n",
       "      <th>3</th>\n",
       "      <td>4</td>\n",
       "      <td>5974</td>\n",
       "      <td>87</td>\n",
       "      <td>2923</td>\n",
       "      <td>1.435407</td>\n",
       "      <td>50k-75k</td>\n",
       "    </tr>\n",
       "    <tr>\n",
       "      <th>4</th>\n",
       "      <td>5</td>\n",
       "      <td>12318</td>\n",
       "      <td>63</td>\n",
       "      <td>5536</td>\n",
       "      <td>0.508844</td>\n",
       "      <td>75k+</td>\n",
       "    </tr>\n",
       "  </tbody>\n",
       "</table>\n",
       "</div>"
      ],
      "text/plain": [
       "  income  num_banked  num_unbanked  num_NA    pct_unb inc_name\n",
       "0      1        2745           759    1994  21.660959     <15k\n",
       "1      2        4357           451    2423   9.380200  15k-30k\n",
       "2      3        5899           251    3083   4.081301  30k-50k\n",
       "3      4        5974            87    2923   1.435407  50k-75k\n",
       "4      5       12318            63    5536   0.508844     75k+"
      ]
     },
     "execution_count": 28,
     "metadata": {},
     "output_type": "execute_result"
    }
   ],
   "source": [
    "#create dataset for income\n",
    "incgrp = pd.crosstab(hh.unbanked,hh.hhincome)\n",
    "incgrp = incgrp.transpose()\n",
    "incgrp.reset_index(inplace=True)\n",
    "incgrp.columns = ['income','num_banked','num_unbanked','num_NA']\n",
    "incgrp['pct_unb'] = 100*incgrp['num_unbanked']/(incgrp['num_unbanked']+ incgrp['num_banked'])\n",
    "incgrp['inc_name'] = ['<15k', '15k-30k', '30k-50k', '50k-75k', '75k+','no response']\n",
    "incgrp = incgrp.drop(5)\n",
    "incgrp"
   ]
  },
  {
   "cell_type": "code",
   "execution_count": 29,
   "metadata": {},
   "outputs": [],
   "source": [
    "#export other variables\n",
    "#Export Already Initialized Data Groups\n",
    "edgrp.to_csv(\"/Users/xavier/Desktop/DSPP/DS/Data-Science-1-Final-Project/Slides/graph_data/ed_unbanked\")\n",
    "ftgrp.to_csv(\"/Users/xavier/Desktop/DSPP/DS/Data-Science-1-Final-Project/Slides/graph_data/ft_unbanked\")\n",
    "incgrp.to_csv(\"/Users/xavier/Desktop/DSPP/DS/Data-Science-1-Final-Project/Slides/graph_data/income_unbanked\")"
   ]
  }
 ],
 "metadata": {
  "kernelspec": {
   "display_name": "Python 3",
   "language": "python",
   "name": "python3"
  },
  "language_info": {
   "codemirror_mode": {
    "name": "ipython",
    "version": 3
   },
   "file_extension": ".py",
   "mimetype": "text/x-python",
   "name": "python",
   "nbconvert_exporter": "python",
   "pygments_lexer": "ipython3",
   "version": "3.8.5"
  }
 },
 "nbformat": 4,
 "nbformat_minor": 4
}
