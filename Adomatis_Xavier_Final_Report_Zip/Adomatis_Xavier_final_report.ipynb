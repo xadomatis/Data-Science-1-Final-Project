{
 "cells": [
  {
   "cell_type": "markdown",
   "metadata": {},
   "source": [
    "# Modeling Unbanked Rates Based On Demographic and Geographic Variables Using Machine Learning\n",
    "### Xavier Adomatis\n",
    "### Prof Dunford's PPOL 564\n",
    "### 12/16/2021"
   ]
  },
  {
   "cell_type": "markdown",
   "metadata": {},
   "source": [
    "Repository Link: \n",
    "Word Count (Body Only): "
   ]
  },
  {
   "cell_type": "markdown",
   "metadata": {},
   "source": [
    "# Introduction & Background"
   ]
  },
  {
   "cell_type": "markdown",
   "metadata": {},
   "source": [
    "This paper seeks to examine demographic and geographic relationships among survey respondents to create a model predicting whether or not someone participates in the financial system. By creating an accurate model, or taking elements learned from the creation of the model, we seek to inform policy on expanding financial conclusion."
   ]
  },
  {
   "cell_type": "markdown",
   "metadata": {},
   "source": [
    "The benefits of being in the financial system are limited; just by having a bank account, you gain access to meager interest rates and a variety of expensive financial services. The absence of costs incurred by having a bank account, however, are substantial. If one doesn't have a bank account, they're likely to spend hundreds in check cashing fees, subpar payday loans, or dealing with physical risks like theft and home fires. Increasing participation can increase household budgets substantially, especially for the low-income households disporportionatley affected by being unbanked."
   ]
  },
  {
   "cell_type": "markdown",
   "metadata": {},
   "source": [
    "Given the consequences of this issue, researchers at the Federal Deposit Insurance Corporation, like myself, and others at banking agencies have sought to understand what determines being unbanked. FDIC economists Celerier and Matray, for instance, found that increasing bank diversity increases banking participation, especially for minorities (2014). Ebonya Washington at Yale attributed it to income disparities and poor public policy (2006). Michael Barr and Rebecca Blank indicated thay in addition to economic status, there are cultural factors ar play as well (2008). Other economists, like Rhine and Greene at the Federal Reserve, have looked at disporportionate effects on at-risk subgroups, like documented immigrants (2006). The broad conclusion of the literature is that there are broad and often intersectional issues with economic inclusivity that often disporportionatley effect vulnerable populations."
   ]
  },
  {
   "cell_type": "markdown",
   "metadata": {},
   "source": [
    "Through this essay, I will describe my process for producing this machine learinging model and discuss the implications it brings. First, I discuss the raw data, and how I manipulated it. Then, I'll highlight important variables. I'll breifly delve into the aspects of failed models, and then report on my most successful model. Throughout, I'll discuss what specific data I used, how I tuned them, and what my predictive results were. Finally, I'll discuss possible policy conclusions related to those models, and the challenges and opportunities noted in this process."
   ]
  },
  {
   "cell_type": "markdown",
   "metadata": {},
   "source": [
    "# Inputs"
   ]
  },
  {
   "cell_type": "markdown",
   "metadata": {},
   "source": [
    "## Raw Data"
   ]
  },
  {
   "cell_type": "markdown",
   "metadata": {},
   "source": [
    "My primary dataset was a massive file from the FDIC's 2019 Household survey. The original file contains 1,600 columns and 70,000 rows of household level financial data. Most of the variables were irrelevant to this study, as they looked at specific question responses. It also contained substantial demographic information on the respondent."
   ]
  },
  {
   "cell_type": "markdown",
   "metadata": {},
   "source": [
    "I also opted to pull state-wide variables to see if there were any underlying geographic effects. I had two state-level variables that made it into my dataset. The first, was the Bureau of Labor Statistics's 2019 unemployment rate, and the second was a bank diversity density based on the FDIC Number of Banking Institutions. Presumably, having a more diverse selection of banks and an economically successful state could both contribute to positive banking outcomes. "
   ]
  },
  {
   "cell_type": "markdown",
   "metadata": {},
   "source": [
    "I also had a simple a State/State Name/FIPS conversion table just to have handy, as the FDIC data was organized by FIPS and the State Data was organzied by name and postal code. Additionally, I downloaded state populations from the 2020 census as a scaler."
   ]
  },
  {
   "cell_type": "markdown",
   "metadata": {},
   "source": [
    "## Data Manipulation"
   ]
  },
  {
   "cell_type": "markdown",
   "metadata": {},
   "source": [
    "The FDIC data was relatively messy, with approximatley half of the observations not having completed the survey suppliment, which contains any possible financial variable of interest that we could use as a dependent variable. Approximatley one third of them selectively answered questions, leaving large gaps. This left us with 20,000 observations and a fear of measurement error. However, I was able to keep the ~10,000 incomplete responses for my state level table. Data completeness can be seen in appendix figure A. "
   ]
  },
  {
   "cell_type": "markdown",
   "metadata": {},
   "source": [
    "For the FDIC, most of my work was eliminating categorical variables. As displayed in the next section, several categorical variables included groups with major disporportionate effect; single mothers, non-high school graduates, low income individuals, and non-Asian racial minorities were all unbanked at higher rates. In order to get this data to cooperate, I turned these categorical variables into new binary variables so that they could be accuratley used in modeling. These variables cab be found in the appendix."
   ]
  },
  {
   "cell_type": "markdown",
   "metadata": {},
   "source": [
    "After cleaning the FDIC data, I added geographic factors for my continuous and state level models. I adjusted the FDIC's number of institutions by state variable as scaled by census population, and  incorporated BLS' unemployment rate. I added these two to my dataset after converting to state codes. I was dissappointed not to have more geographic data, but I discuss this in challenges."
   ]
  },
  {
   "cell_type": "raw",
   "metadata": {},
   "source": [
    "I also created a dataset that took state averages of each of the factors to see if using state as a unit of analysis would predict this result. I did this by simply grouping by state and taking the average."
   ]
  },
  {
   "cell_type": "markdown",
   "metadata": {},
   "source": [
    "# Variables of Interests"
   ]
  },
  {
   "cell_type": "markdown",
   "metadata": {},
   "source": [
    "After manipulating the data and producing a clean dataset, I subsetted my variables. I determined that Unbanked would be my primary dependent variable; while use of Alternative Financial Services, like payday loans, was on the table, whether or not someone had a bank account seemed to be the convergence of all of one's financial issues. Unbanked is a binary variable, where 1 is not having a bank account and 0 is having a bank account."
   ]
  },
  {
   "cell_type": "markdown",
   "metadata": {},
   "source": [
    "In the below graphs, I have laid out a handful of variables of interest. These below graphs feature categorical and continuous variables that I needed to cluster before converting into binary variables, so the concentrations are of import. A full list of variables can be seen in the outputs and the appendix for each model."
   ]
  },
  {
   "cell_type": "markdown",
   "metadata": {},
   "source": [
    "Figure 1: Percent Unbanked by Education Level"
   ]
  },
  {
   "cell_type": "markdown",
   "metadata": {},
   "source": [
    "I seperated education into three dummy variables, one that indicates not graduating high school, one not attending college."
   ]
  },
  {
   "cell_type": "markdown",
   "metadata": {},
   "source": [
    "Figure 2: Percent Unbanked by Family Type"
   ]
  },
  {
   "cell_type": "markdown",
   "metadata": {},
   "source": [
    "Here, I isolated unmarried female-led households in a binary, as they had the highest likelyhood of being unbanked. The other category was too small to be worth seperating."
   ]
  },
  {
   "cell_type": "markdown",
   "metadata": {},
   "source": [
    "Figure 3: Percent Unbanked by Income"
   ]
  },
  {
   "cell_type": "markdown",
   "metadata": {},
   "source": [
    "For income, I created a binary indicator for if the household was in the bottom income teir"
   ]
  },
  {
   "cell_type": "markdown",
   "metadata": {},
   "source": [
    "Figure 4: Percent Unbanked by Race"
   ]
  },
  {
   "cell_type": "markdown",
   "metadata": {},
   "source": [
    "For race, I clustered White, Asian, and Pacific Islander together"
   ]
  },
  {
   "cell_type": "markdown",
   "metadata": {},
   "source": [
    "Figure 5: Percent Unbanked by Age"
   ]
  },
  {
   "cell_type": "markdown",
   "metadata": {},
   "source": [
    "For age, seeing limited variance, I isolated the under 25 group"
   ]
  },
  {
   "cell_type": "markdown",
   "metadata": {},
   "source": [
    "After clusting these variables into binary form and cleaning the rest of them, I sought to implement various models to discover meaningful relationships between them."
   ]
  },
  {
   "cell_type": "markdown",
   "metadata": {},
   "source": [
    "# Explorations"
   ]
  },
  {
   "cell_type": "markdown",
   "metadata": {},
   "source": [
    "Prior to settling on a model to best capture my data, I explored a variety of different possibilites both in type of variable and unit of analysis. All models were run through a Machine learning pipline, which took our data and tested it on a variety of statistical models. Most results yielded a decision tree regressor, which takes our data, sorts by combinations, and establishes buckets in predicting the outcome. Decision tree models help split the data, and often can assess intersectionality. Since our dependent variable is only a yes or a no, as are most of the inputs, a decision tree already seems to fit well with the data. This is backed by underlying research, as most authors suggest intersectionality is a major determinant of being unbanked. However, the model also assessed fit with Random Forrests, Bagging, and K Nearest Neighbors, none of which were optimum with any version of my data. It also assessed linear models."
   ]
  },
  {
   "cell_type": "markdown",
   "metadata": {},
   "source": [
    "## Binary Modeling"
   ]
  },
  {
   "cell_type": "markdown",
   "metadata": {},
   "source": [
    "Noticing that a large majority of my variables were already categorical or binary, I decided to try to implement a binary-only model, by reducing major categorical and continuous variables as discussed above."
   ]
  },
  {
   "cell_type": "markdown",
   "metadata": {},
   "source": [
    "Upon piping this data through the machine learning model, it decicively yieled that an R^2 of .4832 in a Decision Tree Regressor; a shockingly strong prediction between the truth and predicted model. The outputs of the model are listed in Figures 6-8 below. "
   ]
  },
  {
   "cell_type": "markdown",
   "metadata": {},
   "source": [
    "Figure 6: Truth Prediction Scatter for Binary Model with bank_prev"
   ]
  },
  {
   "cell_type": "markdown",
   "metadata": {},
   "source": [
    "Figure 7: Correlation Heatmap for Binary Model with bank_prev"
   ]
  },
  {
   "cell_type": "markdown",
   "metadata": {},
   "source": [
    "Figure 8: Variable Reliance Table for Binary Model with bank_prev"
   ]
  },
  {
   "cell_type": "markdown",
   "metadata": {},
   "source": [
    "It's clear from the data that bank_prev, whether or not the individual previously held a bank account, is the dominant predictor and drives the substantial accuracy. While this is a useful variable, our reccomendation cannot simply be \"give people bank accounts so they keep them.\" Thus, I rerun the model. Because of its relative success, I feature the second binary model later."
   ]
  },
  {
   "cell_type": "markdown",
   "metadata": {},
   "source": [
    "## Binary Continuous Mix Modeling"
   ]
  },
  {
   "cell_type": "markdown",
   "metadata": {},
   "source": [
    "After opting to exclude bank_prev, I chose to implement a model that mixed the robust number of binary variables with a handful continuous ones; it's possible that seeing gradients for income, age, and education would add robustness. Additionally, I joined this with my state level variables, unemployment rate and bank institutions per capita, to assess whether bank diversity and economic conditions would add to the predictive accuracy. The figures below show the most inclusive mixed model, which was a linear regression with a negative predictive accuracy, indicating that the model was worse than random selection."
   ]
  },
  {
   "cell_type": "markdown",
   "metadata": {},
   "source": [
    "Figure 9: Truth Prediction Scatter for Mixed Model"
   ]
  },
  {
   "cell_type": "markdown",
   "metadata": {},
   "source": [
    "Figure 10: Variable Reliance Table for Mixed Model"
   ]
  },
  {
   "cell_type": "markdown",
   "metadata": {},
   "source": [
    "Throught various specifications, we found this to be insufficient model; through various inclusions and exclusions of data and allowing various amounts of branches, we found the mixed model to yield generally poor R^2s from .02 to .06, indicating the results were only marginally superior to a coin toss. The tables above show the most inclusive version of the model, which had one of the worst predictive accuracies overall. The mixed models either were based on the Decision Tree, like above, or simply output a linear regression. "
   ]
  },
  {
   "cell_type": "markdown",
   "metadata": {},
   "source": [
    "For this model, the geographic variables were often not useful. Bank diversity often middled the pack, while unemployment rarely registered at all. This is likely because judging state variables at a household scale obscures them entirely."
   ]
  },
  {
   "cell_type": "markdown",
   "metadata": {},
   "source": [
    "## State-Level Modeling"
   ]
  },
  {
   "cell_type": "markdown",
   "metadata": {},
   "source": [
    "Dissappointed that the geographic terms, which were so powerful in Celerier and Matray's model (2014), we sought to further examine the variables at a state level. Using the by-state averages of all of the variables, continuous and binary, we wished to examine if broader determinations could be made on a different unit of analysis."
   ]
  },
  {
   "cell_type": "markdown",
   "metadata": {},
   "source": [
    "Modeling on the state level quickly proved to be a fools errand; reducing the dataset to a 50 observation level decimated any predictive power. The pipeline determined that a bagging regressor was the most appropriate, but does not merit a discussion given the tiny N. The pursuit of this model, however, did expose significant potential for measurement-error based endogeneity, discussed in the conclusion."
   ]
  },
  {
   "cell_type": "markdown",
   "metadata": {},
   "source": [
    "# Primary Model: Revised Binary Based Regression"
   ]
  },
  {
   "cell_type": "markdown",
   "metadata": {},
   "source": [
    "After eliminating state-based and continuous-inclusive, we opted to return to the binary model. After excluding bank_prev, to highlight the other variables, we ran a maximally inclusive binary model again. In earlier tests, we found that Decision Trees were common and often had used the maximum model depth, we decided to allow the tree to vary up to ten times, instead of the five we included. However, after piping with the full set of variables, our output returned a regression reliant model in its most accurate prediction. In this linear model model, essentially each variable is assigned a potential effect on the dependent variable, the probability of being unbanked. If enough of the variables are true, then the model will consider that the probability of being banked is high enough to be classed assume that its true. Below are the outputs from the predicted model."
   ]
  },
  {
   "cell_type": "markdown",
   "metadata": {},
   "source": [
    "Figure 11: Truth Prediction Scatter for Final Model"
   ]
  },
  {
   "cell_type": "markdown",
   "metadata": {},
   "source": [
    "Figure 12: Correlation Heatmap for Final Model"
   ]
  },
  {
   "cell_type": "markdown",
   "metadata": {},
   "source": [
    "Figure 13: Variable Reliance Table for Final Model"
   ]
  },
  {
   "cell_type": "markdown",
   "metadata": {},
   "source": [
    "These figures output an R^2 score of .193, easily the highest of any of the other tests that excluded bank_prev. This shows a medium but positive correlation between the predicitions our model made and the actual accuracy. Though its far from perfect, the elevated predictive accuracy of the model was reassuring that machine learning can identify risks to being unbanked."
   ]
  },
  {
   "cell_type": "markdown",
   "metadata": {},
   "source": [
    "In Figure 13, the variable reliance table, we see that, like with most of our models, povery, internet, homeownership, education, and race top the list. "
   ]
  },
  {
   "cell_type": "markdown",
   "metadata": {},
   "source": [
    "Figure 14: Dependence Plots for Final Model"
   ]
  },
  {
   "cell_type": "markdown",
   "metadata": {},
   "source": [
    "In Figure 14 above, we can see the effects our top variables have on being unbanked, which are mostly consistent with the existing research."
   ]
  },
  {
   "cell_type": "markdown",
   "metadata": {},
   "source": [
    "# Final Model"
   ]
  },
  {
   "cell_type": "markdown",
   "metadata": {},
   "source": []
  },
  {
   "cell_type": "markdown",
   "metadata": {},
   "source": []
  },
  {
   "cell_type": "markdown",
   "metadata": {},
   "source": []
  },
  {
   "cell_type": "markdown",
   "metadata": {},
   "source": [
    "The resultant "
   ]
  },
  {
   "cell_type": "markdown",
   "metadata": {},
   "source": [
    "# Discussion"
   ]
  },
  {
   "cell_type": "markdown",
   "metadata": {},
   "source": [
    "The results of this model were mediocre, with the models being limited in their accuracy. While we can view what groups are significantly predisposed to being unbanked, the model offers little more than the correlation matrix. However, throughout the process, I identified two critical factors that cannot simply be better observed in a correlation matrix."
   ]
  },
  {
   "cell_type": "markdown",
   "metadata": {},
   "source": [
    "The project's main success was actually its first hiccup; determining beyond a doubt that those that had a bank account are likely to have a bank account. While this seems obvious, it highlights an incredibly important feature: when people become banked, they stay banked. If the powers that be can get an individual into the banking system, they will stay there. From a fiscal persepctive, this suggests that investing in bank outreach once can have very high yields, and the procedure does not have to be continued."
   ]
  },
  {
   "cell_type": "markdown",
   "metadata": {},
   "source": [
    "Another major success came from a scrapped model, or rather the process of constructing it. When I designed the state model, I paired states both by their BLS unemployment rate and by the average of the unemployed respondents. These rates difffered greatly, with the respondents being on average 1.5 points more employed than the state level counterparts. I checked the documentation, and asked FDIC employees (Chu, 2021), and assured that the definitions were the same. "
   ]
  },
  {
   "cell_type": "markdown",
   "metadata": {},
   "source": [
    "This suggests that unemployed individuals were largely undersampled in the survey. While there's some expectation of deviation, the consistent underreporting draws concerns from measurement error based endogeneity; if at-risk populations are not represented, their coefficients could be severely biased. This means that, moving forward, analysts need to address sampling bias even within census surveys to accuratley account for this bias."
   ]
  },
  {
   "cell_type": "markdown",
   "metadata": {},
   "source": [
    "# Challenges and Opportunities"
   ]
  },
  {
   "cell_type": "markdown",
   "metadata": {},
   "source": [
    "The most dissappointing challenge with this data was having no access to county level reporting. Investigation the economic and banking conditions of geographic subunits might tell us more about how a person's geography and "
   ]
  },
  {
   "cell_type": "markdown",
   "metadata": {},
   "source": [
    "# Appendix "
   ]
  },
  {
   "cell_type": "markdown",
   "metadata": {},
   "source": [
    "## Additional Reference Figures"
   ]
  },
  {
   "cell_type": "markdown",
   "metadata": {},
   "source": [
    "Figure A: Data Completeness"
   ]
  },
  {
   "cell_type": "markdown",
   "metadata": {},
   "source": [
    "## Variable descriptions"
   ]
  },
  {
   "cell_type": "markdown",
   "metadata": {},
   "source": [
    "Binary Only Model Variables:\n",
    "- Education Levels: Graduating College, Not Attending College, Not Graduating High School\n",
    "- Demographic Variables: Under 25 Years Old, Citizen, Born In US, Race, Has Children, Single Mother, Has Internet Access, Is Disable, Lives In City or Suburbs\n",
    "- Financial Variables: Below Poverty Line, unemployed, Unpredictable Income, No Bank Account, Owns Home, Had Bank Account In Past (exlcluded from second binary model)"
   ]
  },
  {
   "cell_type": "markdown",
   "metadata": {},
   "source": [
    "Mixed Binary-Continuous & State-Level Model Variables:\n",
    "- Continuous Demographic Variables: Bank Institutions Scaled By Population (represents diversity of financial services), unemployment rate\n",
    "- Continuous Geographic Variables: Education, Income, Age\n",
    "- Binary Demographic Variables: Under 25 Years Old, Citizen, Born In US, Race, Has Children, Single Mother, Has Internet Access, Is Disabled, Lives In City or Suburbs\n",
    "- Binary Financial Variables: Below Poverty Line, unemployed, Unpredictable Income, No Bank Account, Owns Home"
   ]
  }
 ],
 "metadata": {
  "kernelspec": {
   "display_name": "Python 3",
   "language": "python",
   "name": "python3"
  },
  "language_info": {
   "codemirror_mode": {
    "name": "ipython",
    "version": 3
   },
   "file_extension": ".py",
   "mimetype": "text/x-python",
   "name": "python",
   "nbconvert_exporter": "python",
   "pygments_lexer": "ipython3",
   "version": "3.8.5"
  }
 },
 "nbformat": 4,
 "nbformat_minor": 4
}
