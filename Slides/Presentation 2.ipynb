{
 "cells": [
  {
   "cell_type": "code",
   "execution_count": 1,
   "metadata": {},
   "outputs": [
    {
     "name": "stdout",
     "output_type": "stream",
     "text": [
      "/bin/bash: -c: line 0: syntax error near unexpected token `('\r\n",
      "/bin/bash: -c: line 0: `[Heatmap of Dummy Variables](\"/Users/xavier//Desktop/DSPP/DS/Data-Science-1-Final-Project/Slides/graph_data/Heatmap_Binary.png\")'\r\n"
     ]
    }
   ],
   "source": [
    "![Heatmap of Dummy Variables](\"/Users/xavier//Desktop/DSPP/DS/Data-Science-1-Final-Project/Slides/graph_data/Heatmap_Binary.png\")"
   ]
  }
 ],
 "metadata": {
  "kernelspec": {
   "display_name": "Python 3",
   "language": "python",
   "name": "python3"
  },
  "language_info": {
   "codemirror_mode": {
    "name": "ipython",
    "version": 3
   },
   "file_extension": ".py",
   "mimetype": "text/x-python",
   "name": "python",
   "nbconvert_exporter": "python",
   "pygments_lexer": "ipython3",
   "version": "3.8.5"
  }
 },
 "nbformat": 4,
 "nbformat_minor": 4
}
